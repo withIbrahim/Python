{
 "cells": [
  {
   "cell_type": "code",
   "execution_count": 1,
   "id": "6c6fe831",
   "metadata": {},
   "outputs": [],
   "source": [
    "import numpy as np\n",
    "\n"
   ]
  },
  {
   "cell_type": "code",
   "execution_count": 9,
   "id": "4d85bbf0",
   "metadata": {},
   "outputs": [
    {
     "name": "stdout",
     "output_type": "stream",
     "text": [
      "This is the List form:  [[10, 20, 30], [50, 60, 70]]\n",
      "This is the Array form: \n"
     ]
    }
   ],
   "source": [
    "list1 = [[10,20,30],[50,60,70]]\n",
    "print (\"This is the List form: \",list1)\n",
    "\n",
    "a= np.array ([[10,20,30],[50,60,70]])\n",
    "print (\"This is the Array form: \", )\n",
    "\n"
   ]
  },
  {
   "cell_type": "code",
   "execution_count": 34,
   "id": "66f48430",
   "metadata": {},
   "outputs": [
    {
     "name": "stdout",
     "output_type": "stream",
     "text": [
      "[[10 20 30]\n",
      " [50 60 70]]\n"
     ]
    }
   ],
   "source": [
    "a= np.array ([[10,20,30],[50,60,70]])\n",
    "print (a)\n"
   ]
  },
  {
   "cell_type": "code",
   "execution_count": 35,
   "id": "592ac778",
   "metadata": {},
   "outputs": [],
   "source": [
    "ar=np.array([[10,20,30],[50,60,70]])"
   ]
  },
  {
   "cell_type": "code",
   "execution_count": 36,
   "id": "ca55e861",
   "metadata": {},
   "outputs": [
    {
     "data": {
      "text/plain": [
       "array([[10, 20, 30],\n",
       "       [50, 60, 70]])"
      ]
     },
     "execution_count": 36,
     "metadata": {},
     "output_type": "execute_result"
    }
   ],
   "source": [
    "ar"
   ]
  },
  {
   "cell_type": "code",
   "execution_count": 39,
   "id": "fe63321f",
   "metadata": {},
   "outputs": [
    {
     "data": {
      "text/plain": [
       "array([[10., 20., 30., 40.],\n",
       "       [50., 60., 70., nan]])"
      ]
     },
     "execution_count": 39,
     "metadata": {},
     "output_type": "execute_result"
    }
   ],
   "source": [
    "arr1=np.array([[10,20,30,40],[50,60,70,np.nan]])\n",
    "arr1"
   ]
  },
  {
   "cell_type": "code",
   "execution_count": 40,
   "id": "9b3e5086",
   "metadata": {},
   "outputs": [
    {
     "data": {
      "text/plain": [
       "array([[10. , 20. , 30. , 40. ],\n",
       "       [50.5, 60. , 70. ,  nan]])"
      ]
     },
     "execution_count": 40,
     "metadata": {},
     "output_type": "execute_result"
    }
   ],
   "source": [
    "arr1=np.array([[10,20,30,40],[50.5,60,70,np.nan]])\n",
    "arr1"
   ]
  },
  {
   "cell_type": "code",
   "execution_count": 45,
   "id": "753f4167",
   "metadata": {},
   "outputs": [
    {
     "data": {
      "text/plain": [
       "numpy.float64"
      ]
     },
     "execution_count": 45,
     "metadata": {},
     "output_type": "execute_result"
    }
   ],
   "source": [
    "type(arr1[0][2])"
   ]
  },
  {
   "cell_type": "code",
   "execution_count": 46,
   "id": "73063ba1",
   "metadata": {},
   "outputs": [
    {
     "name": "stdout",
     "output_type": "stream",
     "text": [
      "['10' '20' '30.5' 'True' 'False' 'John']\n"
     ]
    }
   ],
   "source": [
    "list1= [10, 20, 30.5,True, False, 'John']\n",
    "x = np.array(list1)\n",
    "print (x)"
   ]
  },
  {
   "cell_type": "code",
   "execution_count": 48,
   "id": "c39bb4e1",
   "metadata": {},
   "outputs": [
    {
     "name": "stdout",
     "output_type": "stream",
     "text": [
      "<class 'numpy.str_'>\n"
     ]
    }
   ],
   "source": [
    "print (type(x[1]))"
   ]
  },
  {
   "cell_type": "code",
   "execution_count": 49,
   "id": "30866d0a",
   "metadata": {},
   "outputs": [
    {
     "data": {
      "text/plain": [
       "'30.5'"
      ]
     },
     "execution_count": 49,
     "metadata": {},
     "output_type": "execute_result"
    }
   ],
   "source": [
    "   x[2]"
   ]
  },
  {
   "cell_type": "code",
   "execution_count": 52,
   "id": "617bc5cd",
   "metadata": {},
   "outputs": [
    {
     "data": {
      "text/plain": [
       "1"
      ]
     },
     "execution_count": 52,
     "metadata": {},
     "output_type": "execute_result"
    }
   ],
   "source": [
    "x.ndim"
   ]
  },
  {
   "cell_type": "code",
   "execution_count": 53,
   "id": "c15e8afb",
   "metadata": {},
   "outputs": [
    {
     "data": {
      "text/plain": [
       "2"
      ]
     },
     "execution_count": 53,
     "metadata": {},
     "output_type": "execute_result"
    }
   ],
   "source": [
    "arr1.ndim"
   ]
  },
  {
   "cell_type": "code",
   "execution_count": 54,
   "id": "2f07a450",
   "metadata": {},
   "outputs": [
    {
     "name": "stdout",
     "output_type": "stream",
     "text": [
      "[[10 20 30]\n",
      " [10 20 30]\n",
      " [10 20 30]\n",
      " [10 20 30]]\n"
     ]
    }
   ],
   "source": [
    "x = np.array([[10,20,30],\n",
    "              [10,20,30],\n",
    "              [10,20,30],\n",
    "               [10,20,30]\n",
    "              ])\n",
    "print (x)"
   ]
  },
  {
   "cell_type": "code",
   "execution_count": 55,
   "id": "bba2841d",
   "metadata": {},
   "outputs": [
    {
     "data": {
      "text/plain": [
       "2"
      ]
     },
     "execution_count": 55,
     "metadata": {},
     "output_type": "execute_result"
    }
   ],
   "source": [
    "x.ndim"
   ]
  },
  {
   "cell_type": "code",
   "execution_count": 56,
   "id": "4f6f2785",
   "metadata": {},
   "outputs": [
    {
     "data": {
      "text/plain": [
       "(4, 3)"
      ]
     },
     "execution_count": 56,
     "metadata": {},
     "output_type": "execute_result"
    }
   ],
   "source": [
    "x.shape"
   ]
  },
  {
   "cell_type": "code",
   "execution_count": 59,
   "id": "2ed390e5",
   "metadata": {},
   "outputs": [
    {
     "name": "stdout",
     "output_type": "stream",
     "text": [
      "[[ 20  40  60]\n",
      " [ 70  80 100]]\n"
     ]
    }
   ],
   "source": [
    "l1=[20,40,60]\n",
    "l2=[70,80,100]\n",
    "arr2=np.array([l1,l2])\n",
    "print(arr2)"
   ]
  },
  {
   "cell_type": "code",
   "execution_count": 61,
   "id": "f79dd106",
   "metadata": {},
   "outputs": [
    {
     "name": "stdout",
     "output_type": "stream",
     "text": [
      "<class 'numpy.ndarray'>\n",
      "<class 'tuple'>\n",
      "(10, 20, 30, 40, 50, 'x', 'y')\n",
      "['10' '20' '30' '40' '50' 'x' 'y']\n"
     ]
    }
   ],
   "source": [
    "Tup1 = (10,20,30,40,50,'x','y')\n",
    "\n",
    "array1 = np.array (Tup1)\n",
    "\n",
    "print (type(array1))\n",
    "print (type(Tup1))\n",
    "\n",
    "print (Tup1)\n",
    "print (array1)\n"
   ]
  },
  {
   "cell_type": "code",
   "execution_count": 71,
   "id": "369041f3",
   "metadata": {},
   "outputs": [
    {
     "name": "stdout",
     "output_type": "stream",
     "text": [
      "do not impact the list : [10, 20, 30, 40, 50]\n",
      "the impact list : [30 45 50]\n"
     ]
    }
   ],
   "source": [
    "l3=[10,20,30,40,50]\n",
    "\n",
    "ar=np.array(l3)\n",
    "ar1=ar[2:]\n",
    "ar1[1]=45\n",
    "\n",
    "print('do not impact the list :',l3)\n",
    "print('the impact list :',ar1)"
   ]
  },
  {
   "cell_type": "code",
   "execution_count": 81,
   "id": "add2b693",
   "metadata": {},
   "outputs": [
    {
     "name": "stdout",
     "output_type": "stream",
     "text": [
      "[ 30  45 500]\n",
      "[ 30  45 500]\n"
     ]
    }
   ],
   "source": [
    "ar2=np.array(ar1)\n",
    "ar3=ar2[:]\n",
    "\n",
    "ar3[2]=500\n",
    "\n",
    "print(ar3)\n",
    "print(ar2)"
   ]
  },
  {
   "cell_type": "code",
   "execution_count": 88,
   "id": "ea01a5fe",
   "metadata": {},
   "outputs": [
    {
     "data": {
      "text/plain": [
       "array([10, 20, 30, 40, 50])"
      ]
     },
     "execution_count": 88,
     "metadata": {},
     "output_type": "execute_result"
    }
   ],
   "source": [
    "arr3=np.array(l3).copy()\n",
    "arr3"
   ]
  },
  {
   "cell_type": "code",
   "execution_count": 90,
   "id": "9ddbf1a0",
   "metadata": {},
   "outputs": [],
   "source": [
    "arr3[[2,3]]=[[35,45]]"
   ]
  },
  {
   "cell_type": "code",
   "execution_count": 91,
   "id": "04cd8c5a",
   "metadata": {},
   "outputs": [
    {
     "data": {
      "text/plain": [
       "array([10, 20, 35, 45, 50])"
      ]
     },
     "execution_count": 91,
     "metadata": {},
     "output_type": "execute_result"
    }
   ],
   "source": [
    "arr3"
   ]
  },
  {
   "cell_type": "code",
   "execution_count": 92,
   "id": "094f8764",
   "metadata": {},
   "outputs": [
    {
     "data": {
      "text/plain": [
       "[10, 20, 30, 40, 50]"
      ]
     },
     "execution_count": 92,
     "metadata": {},
     "output_type": "execute_result"
    }
   ],
   "source": [
    "l3"
   ]
  },
  {
   "cell_type": "code",
   "execution_count": 94,
   "id": "fc8a083f",
   "metadata": {},
   "outputs": [
    {
     "data": {
      "text/plain": [
       "array([0, 1, 2, 3, 4, 5, 6, 7, 8])"
      ]
     },
     "execution_count": 94,
     "metadata": {},
     "output_type": "execute_result"
    }
   ],
   "source": [
    "a=np.arange(9)\n",
    "a"
   ]
  },
  {
   "cell_type": "code",
   "execution_count": 97,
   "id": "2b028e9f",
   "metadata": {},
   "outputs": [
    {
     "data": {
      "text/plain": [
       "array([[0, 1, 2],\n",
       "       [3, 4, 5],\n",
       "       [6, 7, 8]])"
      ]
     },
     "execution_count": 97,
     "metadata": {},
     "output_type": "execute_result"
    }
   ],
   "source": [
    "b=a.reshape((3,3))\n",
    "b"
   ]
  },
  {
   "cell_type": "code",
   "execution_count": 100,
   "id": "75f82e2a",
   "metadata": {},
   "outputs": [
    {
     "data": {
      "text/plain": [
       "array([[0., 0., 0., 0., 0.],\n",
       "       [0., 0., 0., 0., 0.],\n",
       "       [0., 0., 0., 0., 0.],\n",
       "       [0., 0., 0., 0., 0.],\n",
       "       [0., 0., 0., 0., 0.]])"
      ]
     },
     "execution_count": 100,
     "metadata": {},
     "output_type": "execute_result"
    }
   ],
   "source": [
    "a=np.zeros((5,5))\n",
    "a"
   ]
  },
  {
   "cell_type": "code",
   "execution_count": 107,
   "id": "f06d4df9",
   "metadata": {},
   "outputs": [
    {
     "data": {
      "text/plain": [
       "array([[1., 1., 1., 1., 1.],\n",
       "       [1., 1., 1., 1., 1.],\n",
       "       [1., 1., 1., 1., 1.],\n",
       "       [1., 1., 1., 1., 1.],\n",
       "       [1., 1., 1., 1., 1.]])"
      ]
     },
     "execution_count": 107,
     "metadata": {},
     "output_type": "execute_result"
    }
   ],
   "source": [
    "b=np.ones((5,5))\n",
    "b"
   ]
  },
  {
   "cell_type": "code",
   "execution_count": 108,
   "id": "46b59608",
   "metadata": {},
   "outputs": [
    {
     "data": {
      "text/plain": [
       "array([ 0,  1,  2,  3,  4,  5,  6,  7,  8,  9, 10, 11, 12, 13, 14, 15, 16,\n",
       "       17, 18, 19, 20, 21, 22, 23, 24, 25, 26, 27, 28, 29])"
      ]
     },
     "execution_count": 108,
     "metadata": {},
     "output_type": "execute_result"
    }
   ],
   "source": [
    "m=np.arange(0,30)\n",
    "m"
   ]
  },
  {
   "cell_type": "code",
   "execution_count": 110,
   "id": "59607dfd",
   "metadata": {},
   "outputs": [
    {
     "data": {
      "text/plain": [
       "array([ 0,  1,  2,  3,  4,  5,  6,  7,  8,  9, 10, 11, 12, 13, 14, 15, 16,\n",
       "       17, 18, 19, 20, 21, 22, 23, 24, 25, 26, 27, 28, 29])"
      ]
     },
     "execution_count": 110,
     "metadata": {},
     "output_type": "execute_result"
    }
   ],
   "source": [
    "m=np.arange(0,30)\n",
    "m"
   ]
  },
  {
   "cell_type": "code",
   "execution_count": 112,
   "id": "f13cbcd3",
   "metadata": {},
   "outputs": [],
   "source": [
    "m1=np.reshape(m,(3,10),'F')"
   ]
  },
  {
   "cell_type": "code",
   "execution_count": 113,
   "id": "260a854c",
   "metadata": {},
   "outputs": [
    {
     "data": {
      "text/plain": [
       "array([[ 0,  3,  6,  9, 12, 15, 18, 21, 24, 27],\n",
       "       [ 1,  4,  7, 10, 13, 16, 19, 22, 25, 28],\n",
       "       [ 2,  5,  8, 11, 14, 17, 20, 23, 26, 29]])"
      ]
     },
     "execution_count": 113,
     "metadata": {},
     "output_type": "execute_result"
    }
   ],
   "source": [
    "m1"
   ]
  },
  {
   "cell_type": "code",
   "execution_count": 115,
   "id": "90b88166",
   "metadata": {},
   "outputs": [],
   "source": [
    "m1=np.reshape(m,(3,10),'A')"
   ]
  },
  {
   "cell_type": "code",
   "execution_count": 116,
   "id": "15e306a9",
   "metadata": {},
   "outputs": [
    {
     "data": {
      "text/plain": [
       "array([[ 0,  1,  2,  3,  4,  5,  6,  7,  8,  9],\n",
       "       [10, 11, 12, 13, 14, 15, 16, 17, 18, 19],\n",
       "       [20, 21, 22, 23, 24, 25, 26, 27, 28, 29]])"
      ]
     },
     "execution_count": 116,
     "metadata": {},
     "output_type": "execute_result"
    }
   ],
   "source": [
    "m1"
   ]
  },
  {
   "cell_type": "code",
   "execution_count": 119,
   "id": "b08c5016",
   "metadata": {},
   "outputs": [
    {
     "name": "stdout",
     "output_type": "stream",
     "text": [
      "[[ 10  20  30  40]\n",
      " [100 110 120 130]\n",
      " [200 210 220 230]]\n"
     ]
    }
   ],
   "source": [
    "list1 = [10,20,30,40]\n",
    "list2 = [100,110,120,130]\n",
    "list3 = [200,210,220,230]\n",
    "\n",
    "ar=np.array([list1,list2,list3])\n",
    "\n",
    "\n",
    "print(ar)"
   ]
  },
  {
   "cell_type": "code",
   "execution_count": 122,
   "id": "ab82abcb",
   "metadata": {},
   "outputs": [
    {
     "name": "stdout",
     "output_type": "stream",
     "text": [
      "[[ 10 100 200]\n",
      " [ 20 110 210]\n",
      " [ 30 120 220]\n",
      " [ 40 130 230]]\n"
     ]
    }
   ],
   "source": [
    "print(ar.T)"
   ]
  },
  {
   "cell_type": "code",
   "execution_count": 123,
   "id": "15b73464",
   "metadata": {},
   "outputs": [],
   "source": [
    "list1 = [500,510,520,530]\n",
    "list2 = [100,110,120,130]\n",
    "list3 = [200,210,220,230]\n",
    "Mat1 = np.array ([list1, list2,list3])\n",
    "\n",
    "list6 = [10,11,12,13]\n",
    "list7 = [20,21,22,23]\n",
    "list8 = [30,31,32,33]\n",
    "Mat2 = np.array ([list6, list7,list8])\n"
   ]
  },
  {
   "cell_type": "code",
   "execution_count": 126,
   "id": "17bb1863",
   "metadata": {},
   "outputs": [
    {
     "name": "stdout",
     "output_type": "stream",
     "text": [
      "[[50.         46.36363636 43.33333333 40.76923077]\n",
      " [ 5.          5.23809524  5.45454545  5.65217391]\n",
      " [ 6.66666667  6.77419355  6.875       6.96969697]]\n"
     ]
    }
   ],
   "source": [
    "print(Mat1/Mat2)"
   ]
  },
  {
   "cell_type": "code",
   "execution_count": 127,
   "id": "ea43d4ea",
   "metadata": {},
   "outputs": [
    {
     "name": "stdout",
     "output_type": "stream",
     "text": [
      "[[50 46 43 40]\n",
      " [ 5  5  5  5]\n",
      " [ 6  6  6  6]]\n"
     ]
    }
   ],
   "source": [
    "print(Mat1//Mat2)"
   ]
  },
  {
   "cell_type": "code",
   "execution_count": 128,
   "id": "90fd5d73",
   "metadata": {},
   "outputs": [
    {
     "name": "stdout",
     "output_type": "stream",
     "text": [
      "[[5000 5610 6240 6890]\n",
      " [2000 2310 2640 2990]\n",
      " [6000 6510 7040 7590]]\n"
     ]
    }
   ],
   "source": [
    "print(Mat1*Mat2)"
   ]
  },
  {
   "cell_type": "code",
   "execution_count": 129,
   "id": "adb8b72b",
   "metadata": {},
   "outputs": [
    {
     "name": "stdout",
     "output_type": "stream",
     "text": [
      "[[490 499 508 517]\n",
      " [ 80  89  98 107]\n",
      " [170 179 188 197]]\n"
     ]
    }
   ],
   "source": [
    "print(Mat1-Mat2)"
   ]
  },
  {
   "cell_type": "code",
   "execution_count": 134,
   "id": "ae6bbcc8",
   "metadata": {},
   "outputs": [
    {
     "name": "stdout",
     "output_type": "stream",
     "text": [
      "[10 11 12 13 20 21 22 23 30 31 32 33]\n"
     ]
    }
   ],
   "source": [
    "print(Mat2.ravel())"
   ]
  },
  {
   "cell_type": "code",
   "execution_count": 136,
   "id": "34ac3456",
   "metadata": {},
   "outputs": [
    {
     "data": {
      "text/plain": [
       "array([ 0.        ,  6.66666667, 13.33333333, 20.        ])"
      ]
     },
     "execution_count": 136,
     "metadata": {},
     "output_type": "execute_result"
    }
   ],
   "source": [
    "x=np.linspace(0,20,4)\n",
    "x"
   ]
  },
  {
   "cell_type": "code",
   "execution_count": 6,
   "id": "3b6852a4",
   "metadata": {},
   "outputs": [
    {
     "name": "stdout",
     "output_type": "stream",
     "text": [
      "[[10 20 30]\n",
      " [40 50 60]]\n"
     ]
    }
   ],
   "source": [
    "arr=np.array([[10,20,30],[40,50,60]])\n",
    "print(arr)"
   ]
  },
  {
   "cell_type": "code",
   "execution_count": 7,
   "id": "df326a1d",
   "metadata": {},
   "outputs": [
    {
     "name": "stdout",
     "output_type": "stream",
     "text": [
      "[[10 40]\n",
      " [20 50]\n",
      " [30 60]]\n"
     ]
    }
   ],
   "source": [
    "print(arr.T)"
   ]
  },
  {
   "cell_type": "code",
   "execution_count": 15,
   "id": "826304e3",
   "metadata": {},
   "outputs": [],
   "source": [
    "india=[10000,15000,20000,25000]\n",
    "bangladesh=[12000,15600,18000,25400]\n",
    "pakisthan=[80000,90000,11000,14000]\n",
    "nepal=[5000,7000,8500,10000]\n",
    "\n",
    "Sales=np.array([india,bangladesh,pakisthan,nepal])\n",
    "\n",
    "\n",
    "Country={'india':0,'bangladesh':1,'pakisthan':2,'nepal':3}\n",
    "Sales_report={'Q1':0,'Q2':1,'Q3':2,'Q4':3}\n"
   ]
  },
  {
   "cell_type": "code",
   "execution_count": 19,
   "id": "452d6eb5",
   "metadata": {},
   "outputs": [
    {
     "data": {
      "text/plain": [
       "20000"
      ]
     },
     "execution_count": 19,
     "metadata": {},
     "output_type": "execute_result"
    }
   ],
   "source": [
    "Sales[Country['india'],Sales_report['Q3']]"
   ]
  },
  {
   "cell_type": "code",
   "execution_count": 21,
   "id": "147758d1",
   "metadata": {},
   "outputs": [
    {
     "name": "stdout",
     "output_type": "stream",
     "text": [
      "15600\n"
     ]
    }
   ],
   "source": [
    "print(Sales[Country['bangladesh'],Sales_report['Q2']])"
   ]
  },
  {
   "cell_type": "code",
   "execution_count": 24,
   "id": "8cf84780",
   "metadata": {},
   "outputs": [
    {
     "name": "stdout",
     "output_type": "stream",
     "text": [
      "[10 11 12 13 14 15 16 17 18 19 20 21 22 23 24 25 26 27 28 29 30 31 32 33\n",
      " 34 35 36 37 38 39 40 41 42 43 44 45 46 47 48 49 50 51 52 53 54 55 56 57\n",
      " 58 59 60 61 62 63 64 65 66 67 68 69 70 71 72 73 74 75 76 77 78 79 80 81\n",
      " 82 83 84 85 86 87 88 89 90 91 92 93 94 95 96 97 98 99] \n",
      "\n",
      "[ 0  1  2  3  4  5  6  7  8  9 10 11 12 13 14 15 16 17 18 19] \n",
      "\n",
      "[10 11 12 13 14 15 16 17 18 19] \n",
      "\n",
      "[10 15 20 25 30 35 40 45]\n",
      "[ 0 10 20 30 40 50 60 70 80 90]\n"
     ]
    }
   ],
   "source": [
    "arr1= np.arange (100)\n",
    "print (arr1[10:],'\\n')\n",
    "print (arr1[:20],'\\n')\n",
    "print (arr1[10:20],'\\n')\n",
    "print (arr1[10:50:5])\n",
    "print (arr1[::10])\n"
   ]
  },
  {
   "cell_type": "code",
   "execution_count": 25,
   "id": "45056dc6",
   "metadata": {},
   "outputs": [
    {
     "name": "stdout",
     "output_type": "stream",
     "text": [
      "[ 0  1  2  3  4  5  6  7  8  9 10 11 12 13 14 15 16 17 18 19]\n",
      "slice(1, 10, 2)\n",
      "[1 3 5 7 9]\n"
     ]
    }
   ],
   "source": [
    "arr1 =  np.arange(20)\n",
    "print (arr1)\n",
    "\n",
    "arr_slice = slice (1,10,2)\n",
    "\n",
    "print (arr_slice)\n",
    "print (arr1[arr_slice])\n"
   ]
  },
  {
   "cell_type": "code",
   "execution_count": 26,
   "id": "c1cda151",
   "metadata": {},
   "outputs": [
    {
     "name": "stdout",
     "output_type": "stream",
     "text": [
      "[0 1 2 3 4 5 6 7 8]\n",
      "\n",
      "\n",
      "[[0 1 2]\n",
      " [3 4 5]\n",
      " [6 7 8]]\n",
      "\n",
      "\n",
      "[[0 1]\n",
      " [3 4]]\n"
     ]
    }
   ],
   "source": [
    "arr1 =  np.arange(9)\n",
    "print (arr1)\n",
    "\n",
    "arr1=arr1.reshape(3,3)\n",
    "print ('\\n')\n",
    "\n",
    "print (arr1)\n",
    "print ('\\n')\n",
    "\n",
    "arr2 = arr1[0:2,0:2]\n",
    "print (arr2)\n",
    "\n"
   ]
  },
  {
   "cell_type": "code",
   "execution_count": 27,
   "id": "e7468a3b",
   "metadata": {},
   "outputs": [
    {
     "name": "stdout",
     "output_type": "stream",
     "text": [
      "[[0 1 2]\n",
      " [3 4 5]\n",
      " [6 7 8]]\n",
      "\n",
      "\n",
      "[[4 5]\n",
      " [7 8]]\n"
     ]
    }
   ],
   "source": [
    "\n",
    "arr1 =  np.arange(9)\n",
    "arr1=arr1.reshape(3,3)\n",
    "\n",
    "print (arr1)\n",
    "print ('\\n')\n",
    "\n",
    "arr2 = arr1[1:3,1:3]\n",
    "print (arr2)\n"
   ]
  },
  {
   "cell_type": "code",
   "execution_count": 31,
   "id": "bde77fec",
   "metadata": {},
   "outputs": [
    {
     "name": "stdout",
     "output_type": "stream",
     "text": [
      "\n",
      "\n",
      "[[1]\n",
      " [4]\n",
      " [7]]\n"
     ]
    }
   ],
   "source": [
    "print ('\\n')\n",
    "arr2 = arr1[0:3,1:2]\n",
    "print (arr2)"
   ]
  },
  {
   "cell_type": "code",
   "execution_count": 37,
   "id": "542ffdba",
   "metadata": {},
   "outputs": [
    {
     "data": {
      "text/plain": [
       "4"
      ]
     },
     "execution_count": 37,
     "metadata": {},
     "output_type": "execute_result"
    }
   ],
   "source": [
    "arr1.itemsize"
   ]
  },
  {
   "cell_type": "code",
   "execution_count": 38,
   "id": "a15faf0f",
   "metadata": {},
   "outputs": [
    {
     "data": {
      "text/plain": [
       "9"
      ]
     },
     "execution_count": 38,
     "metadata": {},
     "output_type": "execute_result"
    }
   ],
   "source": [
    "arr1.size"
   ]
  },
  {
   "cell_type": "code",
   "execution_count": 39,
   "id": "d07e78b0",
   "metadata": {},
   "outputs": [
    {
     "data": {
      "text/plain": [
       "0"
      ]
     },
     "execution_count": 39,
     "metadata": {},
     "output_type": "execute_result"
    }
   ],
   "source": [
    "arr1.min()"
   ]
  },
  {
   "cell_type": "code",
   "execution_count": 40,
   "id": "9603a194",
   "metadata": {},
   "outputs": [
    {
     "data": {
      "text/plain": [
       "8"
      ]
     },
     "execution_count": 40,
     "metadata": {},
     "output_type": "execute_result"
    }
   ],
   "source": [
    "arr1.max()"
   ]
  },
  {
   "cell_type": "code",
   "execution_count": 43,
   "id": "a2bb83a9",
   "metadata": {},
   "outputs": [
    {
     "data": {
      "text/plain": [
       "array([[0.        , 1.        , 1.41421356],\n",
       "       [1.73205081, 2.        , 2.23606798],\n",
       "       [2.44948974, 2.64575131, 2.82842712]])"
      ]
     },
     "execution_count": 43,
     "metadata": {},
     "output_type": "execute_result"
    }
   ],
   "source": [
    "np.sqrt(arr1)"
   ]
  },
  {
   "cell_type": "code",
   "execution_count": 46,
   "id": "56b4c01e",
   "metadata": {},
   "outputs": [
    {
     "name": "stdout",
     "output_type": "stream",
     "text": [
      "[[0. 0.]\n",
      " [0. 0.]\n",
      " [0. 0.]] \n",
      "\n",
      "[[0 0]\n",
      " [0 0]\n",
      " [0 0]] \n",
      "\n",
      "[[1 1]\n",
      " [1 1]\n",
      " [1 1]] \n",
      "\n",
      "[[False False]\n",
      " [False False]\n",
      " [False False]] \n",
      "\n",
      "[['' '']\n",
      " ['' '']\n",
      " ['' '']] \n",
      "\n"
     ]
    }
   ],
   "source": [
    "arr5 = np.empty([3,2], dtype =  float)\n",
    "print (arr5,'\\n')\n",
    "\n",
    "arr5 = np.empty([3,2], dtype =  int)\n",
    "print (arr5,'\\n')\n",
    "\n",
    "arr5 = np.ones([3,2], dtype =  int)\n",
    "print (arr5,'\\n')\n",
    "\n",
    "arr5 = np.empty([3,2], dtype =  bool)\n",
    "print (arr5,'\\n')\n",
    "\n",
    "arr5 = np.empty([3,2], dtype =  str)\n",
    "print (arr5,'\\n')\n",
    "\n"
   ]
  },
  {
   "cell_type": "code",
   "execution_count": 53,
   "id": "9d3dd4c5",
   "metadata": {},
   "outputs": [],
   "source": [
    "a =np.arange(10,100,10)\n",
    "data=a.reshape(3,3)\n",
    "np.savetxt('data.csv',data)"
   ]
  },
  {
   "cell_type": "code",
   "execution_count": 56,
   "id": "fea26084",
   "metadata": {},
   "outputs": [
    {
     "data": {
      "text/plain": [
       "array([[10., 20., 30.],\n",
       "       [40., 50., 60.],\n",
       "       [70., 80., 90.]])"
      ]
     },
     "execution_count": 56,
     "metadata": {},
     "output_type": "execute_result"
    }
   ],
   "source": [
    "data=np.loadtxt('data.csv')\n",
    "data"
   ]
  },
  {
   "cell_type": "code",
   "execution_count": 58,
   "id": "d197d765",
   "metadata": {},
   "outputs": [
    {
     "data": {
      "text/plain": [
       "numpy.ndarray"
      ]
     },
     "execution_count": 58,
     "metadata": {},
     "output_type": "execute_result"
    }
   ],
   "source": [
    "type(data)"
   ]
  },
  {
   "cell_type": "code",
   "execution_count": 3,
   "id": "79b85e26",
   "metadata": {},
   "outputs": [
    {
     "name": "stdout",
     "output_type": "stream",
     "text": [
      "[[10 20 30 40]\n",
      " [50 60 70 80]]\n",
      "2\n"
     ]
    }
   ],
   "source": [
    "ar1=np.array([[10,20,30,40],[50,60,70,80]])\n",
    "\n",
    "\n",
    "print(ar1)\n",
    "print(ar1.ndim)"
   ]
  },
  {
   "cell_type": "code",
   "execution_count": 4,
   "id": "f5afc70e",
   "metadata": {},
   "outputs": [
    {
     "name": "stdout",
     "output_type": "stream",
     "text": [
      "[[100 200 300 400]\n",
      " [500 600 700 800]]\n"
     ]
    }
   ],
   "source": [
    "print(ar1*10)"
   ]
  },
  {
   "cell_type": "code",
   "execution_count": 7,
   "id": "027aa7ac",
   "metadata": {},
   "outputs": [
    {
     "name": "stdout",
     "output_type": "stream",
     "text": [
      "[[ 20  40  60  80]\n",
      " [100 120 140 160]]\n"
     ]
    }
   ],
   "source": [
    "data1=ar1+ar1\n",
    "\n",
    "print(data1)"
   ]
  },
  {
   "cell_type": "code",
   "execution_count": 13,
   "id": "d88f56ee",
   "metadata": {},
   "outputs": [
    {
     "name": "stdout",
     "output_type": "stream",
     "text": [
      "int32\n"
     ]
    }
   ],
   "source": [
    "print(ar1.dtype)"
   ]
  },
  {
   "cell_type": "code",
   "execution_count": 14,
   "id": "e0217586",
   "metadata": {},
   "outputs": [
    {
     "data": {
      "text/plain": [
       "(2, 4)"
      ]
     },
     "execution_count": 14,
     "metadata": {},
     "output_type": "execute_result"
    }
   ],
   "source": [
    "ar1.shape"
   ]
  },
  {
   "cell_type": "code",
   "execution_count": 16,
   "id": "cd26d739",
   "metadata": {},
   "outputs": [
    {
     "data": {
      "text/plain": [
       "array([2, 4, 6, 8])"
      ]
     },
     "execution_count": 16,
     "metadata": {},
     "output_type": "execute_result"
    }
   ],
   "source": [
    "d=[2,4,6,8]\n",
    "data=np.array(d)\n",
    "data"
   ]
  },
  {
   "cell_type": "code",
   "execution_count": 17,
   "id": "7f8cf033",
   "metadata": {},
   "outputs": [
    {
     "data": {
      "text/plain": [
       "numpy.ndarray"
      ]
     },
     "execution_count": 17,
     "metadata": {},
     "output_type": "execute_result"
    }
   ],
   "source": [
    "type(data)"
   ]
  },
  {
   "cell_type": "code",
   "execution_count": 24,
   "id": "c66b9536",
   "metadata": {},
   "outputs": [
    {
     "name": "stdout",
     "output_type": "stream",
     "text": [
      "[[8 5 3]\n",
      " [1 6 9]]\n",
      "No of Array : \n",
      " 2\n",
      "Shape of Array : \n",
      " (2, 3)\n"
     ]
    }
   ],
   "source": [
    "data1=np.array([[8,5,3],[1,6,9]])\n",
    "\n",
    "print(data1)\n",
    "print('No of Array :','\\n',data1.ndim)\n",
    "print('Shape of Array :','\\n',data1.shape)"
   ]
  },
  {
   "cell_type": "code",
   "execution_count": 25,
   "id": "c3437f77",
   "metadata": {},
   "outputs": [
    {
     "name": "stdout",
     "output_type": "stream",
     "text": [
      "[0. 0. 0. 0. 0. 0. 0. 0. 0. 0.]\n"
     ]
    }
   ],
   "source": [
    "data2=np.zeros(10)\n",
    "\n",
    "print(data2)\n"
   ]
  },
  {
   "cell_type": "code",
   "execution_count": 29,
   "id": "d27ff0fb",
   "metadata": {},
   "outputs": [
    {
     "name": "stdout",
     "output_type": "stream",
     "text": [
      "[[0. 0. 0. 0. 0.]\n",
      " [0. 0. 0. 0. 0.]\n",
      " [0. 0. 0. 0. 0.]]\n",
      "Data type is : \n",
      " int32\n"
     ]
    }
   ],
   "source": [
    "data2=np.zeros((3,5))\n",
    "\n",
    "print(data2)\n",
    "\n",
    "print('Data type is :','\\n',ar1.dtype)"
   ]
  },
  {
   "cell_type": "code",
   "execution_count": 35,
   "id": "d0f698f5",
   "metadata": {},
   "outputs": [
    {
     "name": "stdout",
     "output_type": "stream",
     "text": [
      "[[[0. 0.]\n",
      "  [0. 0.]\n",
      "  [0. 0.]]\n",
      "\n",
      " [[0. 0.]\n",
      "  [0. 0.]\n",
      "  [0. 0.]]]\n"
     ]
    }
   ],
   "source": [
    "data3=np.empty((2,3,2))\n",
    "print(data3)\n"
   ]
  },
  {
   "cell_type": "code",
   "execution_count": 38,
   "id": "965b39f2",
   "metadata": {},
   "outputs": [
    {
     "data": {
      "text/plain": [
       "array([[[1., 1.],\n",
       "        [1., 1.],\n",
       "        [1., 1.],\n",
       "        [1., 1.],\n",
       "        [1., 1.]],\n",
       "\n",
       "       [[1., 1.],\n",
       "        [1., 1.],\n",
       "        [1., 1.],\n",
       "        [1., 1.],\n",
       "        [1., 1.]],\n",
       "\n",
       "       [[1., 1.],\n",
       "        [1., 1.],\n",
       "        [1., 1.],\n",
       "        [1., 1.],\n",
       "        [1., 1.]]])"
      ]
     },
     "execution_count": 38,
     "metadata": {},
     "output_type": "execute_result"
    }
   ],
   "source": [
    "data2=np.ones((3,5,2))\n",
    "data2"
   ]
  },
  {
   "cell_type": "code",
   "execution_count": 41,
   "id": "a8c87307",
   "metadata": {},
   "outputs": [
    {
     "data": {
      "text/plain": [
       "array([10, 11, 12, 13, 14, 15, 16, 17, 18, 19])"
      ]
     },
     "execution_count": 41,
     "metadata": {},
     "output_type": "execute_result"
    }
   ],
   "source": [
    "data4=np.arange(10,20)\n",
    "data4"
   ]
  },
  {
   "cell_type": "code",
   "execution_count": 53,
   "id": "2fca64dd",
   "metadata": {},
   "outputs": [
    {
     "name": "stdout",
     "output_type": "stream",
     "text": [
      "[10 20 30]\n",
      "[ 10 500  30]\n",
      "[10, 20, 30]\n"
     ]
    }
   ],
   "source": [
    "list1= [10,20,30]\n",
    "arr1=np.array(list1)\n",
    "arr2=np.array(arr1)\n",
    "arr2[1]=500\n",
    "\n",
    "\n",
    "print(arr1)\n",
    "print(arr2)\n",
    "print(list1)"
   ]
  },
  {
   "cell_type": "code",
   "execution_count": 54,
   "id": "e597eb4c",
   "metadata": {},
   "outputs": [
    {
     "name": "stdout",
     "output_type": "stream",
     "text": [
      "[10, 20, 30]\n",
      "[10 20 30]\n",
      "[ 10 100  30]\n"
     ]
    }
   ],
   "source": [
    "list1= [10,20,30]\n",
    "arr1=  np.array(list1)\n",
    "arr11= np.array(arr1)\n",
    "arr11[1] =100\n",
    "\n",
    "\n",
    "print (list1)\n",
    "print (arr1)\n",
    "print (arr11)\n"
   ]
  },
  {
   "cell_type": "code",
   "execution_count": 58,
   "id": "b78c0da5",
   "metadata": {},
   "outputs": [
    {
     "name": "stdout",
     "output_type": "stream",
     "text": [
      "[10, 20, 30]\n",
      "[ 10  20 400]\n",
      "[ 10  20 400]\n"
     ]
    }
   ],
   "source": [
    "list2= [10,20,30]\n",
    "arr11=np.asarray(list2)\n",
    "arr22=np.asarray(arr11)\n",
    "arr22[2]=400\n",
    "\n",
    "\n",
    "print (list2)\n",
    "print (arr11)\n",
    "print (arr22)\n"
   ]
  },
  {
   "cell_type": "code",
   "execution_count": 64,
   "id": "4736be67",
   "metadata": {},
   "outputs": [
    {
     "name": "stdout",
     "output_type": "stream",
     "text": [
      "[[ 0  1  2  3  4  5  6  7  8  9]\n",
      " [10 11 12 13 14 15 16 17 18 19]\n",
      " [20 21 22 23 24 25 26 27 28 29]] \n",
      "\n",
      "[[1 1 1 1 1 1 1 1 1 1]\n",
      " [1 1 1 1 1 1 1 1 1 1]\n",
      " [1 1 1 1 1 1 1 1 1 1]]\n"
     ]
    }
   ],
   "source": [
    "a= np.arange(30)\n",
    "a=a.reshape(3,10)\n",
    "\n",
    "print (a,'\\n')\n",
    "\n",
    "x=np.ones_like(a)\n",
    "print (x)\n"
   ]
  },
  {
   "cell_type": "code",
   "execution_count": 68,
   "id": "0b979b41",
   "metadata": {},
   "outputs": [
    {
     "name": "stdout",
     "output_type": "stream",
     "text": [
      "[[ 0  1  2  3  4  5  6  7  8  9]\n",
      " [10 11 12 13 14 15 16 17 18 19]\n",
      " [20 21 22 23 24 25 26 27 28 29]]\n",
      "[[0 0 0 0 0 0 0 0 0 0]\n",
      " [0 0 0 0 0 0 0 0 0 0]\n",
      " [0 0 0 0 0 0 0 0 0 0]]\n"
     ]
    }
   ],
   "source": [
    "\n",
    "a= np.arange(30)\n",
    "a=a.reshape(3,10)\n",
    "\n",
    "print (a)\n",
    "x=np.zeros_like(a)\n",
    "\n",
    "print (x)\n"
   ]
  },
  {
   "cell_type": "code",
   "execution_count": 71,
   "id": "54be0bf6",
   "metadata": {},
   "outputs": [
    {
     "name": "stdout",
     "output_type": "stream",
     "text": [
      "[[0. 0.]\n",
      " [0. 0.]\n",
      " [0. 0.]\n",
      " [0. 0.]\n",
      " [0. 0.]]\n"
     ]
    }
   ],
   "source": [
    "x = np.empty ([5,2])\n",
    "print (x)\n"
   ]
  },
  {
   "cell_type": "code",
   "execution_count": 73,
   "id": "15b9e521",
   "metadata": {},
   "outputs": [
    {
     "name": "stdout",
     "output_type": "stream",
     "text": [
      "[[1163446448        587          0]\n",
      " [         0          1          0]]\n"
     ]
    }
   ],
   "source": [
    "a = ([[1,2,3], [4,5,6]]) \n",
    "x= np.empty_like(a)\n",
    "print (x)\n"
   ]
  },
  {
   "cell_type": "code",
   "execution_count": 74,
   "id": "ebd5dfb2",
   "metadata": {},
   "outputs": [
    {
     "name": "stdout",
     "output_type": "stream",
     "text": [
      "[[1 0 0 0 0]\n",
      " [0 1 0 0 0]\n",
      " [0 0 1 0 0]\n",
      " [0 0 0 1 0]\n",
      " [0 0 0 0 1]]\n"
     ]
    }
   ],
   "source": [
    "x = np.eye(5, dtype=int)\n",
    "print (x)\n"
   ]
  },
  {
   "cell_type": "code",
   "execution_count": 75,
   "id": "ac39f91d",
   "metadata": {},
   "outputs": [
    {
     "name": "stdout",
     "output_type": "stream",
     "text": [
      "[['1' '' '' '' '']\n",
      " ['' '1' '' '' '']\n",
      " ['' '' '1' '' '']\n",
      " ['' '' '' '1' '']\n",
      " ['' '' '' '' '1']]\n"
     ]
    }
   ],
   "source": [
    "xx = np.eye(5, dtype=str)\n",
    "print (xx)\n"
   ]
  },
  {
   "cell_type": "code",
   "execution_count": 77,
   "id": "3f7778a2",
   "metadata": {},
   "outputs": [
    {
     "name": "stdout",
     "output_type": "stream",
     "text": [
      "[[1. 0. 0. 0. 0. 0. 0. 0. 0. 0.]\n",
      " [0. 1. 0. 0. 0. 0. 0. 0. 0. 0.]\n",
      " [0. 0. 1. 0. 0. 0. 0. 0. 0. 0.]\n",
      " [0. 0. 0. 1. 0. 0. 0. 0. 0. 0.]\n",
      " [0. 0. 0. 0. 1. 0. 0. 0. 0. 0.]\n",
      " [0. 0. 0. 0. 0. 1. 0. 0. 0. 0.]\n",
      " [0. 0. 0. 0. 0. 0. 1. 0. 0. 0.]\n",
      " [0. 0. 0. 0. 0. 0. 0. 1. 0. 0.]\n",
      " [0. 0. 0. 0. 0. 0. 0. 0. 1. 0.]\n",
      " [0. 0. 0. 0. 0. 0. 0. 0. 0. 1.]]\n"
     ]
    }
   ],
   "source": [
    "xx = np.eye(10, dtype=float)\n",
    "print (xx)\n"
   ]
  },
  {
   "cell_type": "code",
   "execution_count": 78,
   "id": "b2fa0c11",
   "metadata": {},
   "outputs": [
    {
     "name": "stdout",
     "output_type": "stream",
     "text": [
      "[[ True False False False False]\n",
      " [False  True False False False]\n",
      " [False False  True False False]\n",
      " [False False False  True False]\n",
      " [False False False False  True]]\n"
     ]
    }
   ],
   "source": [
    "xx = np.eye(5, dtype=bool)\n",
    "print (xx)\n"
   ]
  },
  {
   "cell_type": "code",
   "execution_count": 81,
   "id": "3e757516",
   "metadata": {},
   "outputs": [
    {
     "name": "stdout",
     "output_type": "stream",
     "text": [
      "[[1. 0. 0. 0.]\n",
      " [0. 1. 0. 0.]\n",
      " [0. 0. 1. 0.]\n",
      " [0. 0. 0. 1.]]\n"
     ]
    }
   ],
   "source": [
    "x = np.identity(4, dtype=float)\n",
    "print (x)\n"
   ]
  },
  {
   "cell_type": "code",
   "execution_count": 89,
   "id": "c379103b",
   "metadata": {},
   "outputs": [
    {
     "name": "stdout",
     "output_type": "stream",
     "text": [
      "[10. 20. 30.]\n",
      "float64\n"
     ]
    }
   ],
   "source": [
    "ar=np.array([10,20,30],dtype=np.float64)\n",
    "\n",
    "print(ar)\n",
    "print(ar.dtype)"
   ]
  },
  {
   "cell_type": "code",
   "execution_count": 91,
   "id": "73ca0390",
   "metadata": {},
   "outputs": [
    {
     "name": "stdout",
     "output_type": "stream",
     "text": [
      "[10 20 30]\n",
      "int64\n"
     ]
    }
   ],
   "source": [
    "ar1=np.array([10,20,30],dtype=np.int64)\n",
    "\n",
    "print(ar1)\n",
    "print(ar1.dtype)"
   ]
  },
  {
   "cell_type": "code",
   "execution_count": 94,
   "id": "139d9f85",
   "metadata": {},
   "outputs": [
    {
     "name": "stdout",
     "output_type": "stream",
     "text": [
      "[1 2 3 4 5]\n",
      "int32\n",
      "\n",
      "\n",
      "[1. 2. 3. 4. 5.]\n"
     ]
    }
   ],
   "source": [
    "arr = np.array([1, 2, 3, 4, 5]) \n",
    "\n",
    "print (arr)\n",
    "print (arr.dtype)\n",
    "\n",
    "print ('\\n')\n",
    "\n",
    "float_to_int=arr.astype(np.float64)\n",
    "print(float_to_int)"
   ]
  },
  {
   "cell_type": "code",
   "execution_count": 98,
   "id": "caf3628b",
   "metadata": {},
   "outputs": [
    {
     "name": "stdout",
     "output_type": "stream",
     "text": [
      "[ 3.7 -1.2 -2.6  0.5 12.9 10.1]\n",
      "float64\n",
      "\n",
      "\n",
      "[ 3 -1 -2  0 12 10]\n",
      "int32\n"
     ]
    }
   ],
   "source": [
    "arr = np.array([3.7, -1.2,-2.6,0.5,12.9,10.1])\n",
    "\n",
    "\n",
    "print (arr)\n",
    "print (arr.dtype)\n",
    "print ('\\n')\n",
    "\n",
    "arr =arr.astype(np.int32)\n",
    "print (arr)\n",
    "print (arr.dtype)\n"
   ]
  },
  {
   "cell_type": "code",
   "execution_count": 103,
   "id": "ce481e80",
   "metadata": {},
   "outputs": [
    {
     "name": "stdout",
     "output_type": "stream",
     "text": [
      "[b'1.25' b'-9.6' b'42' b'5.5' b'1']\n",
      "|S4\n",
      "\n",
      "\n",
      "[ 1.25 -9.6  42.    5.5   1.  ]\n",
      "float64\n"
     ]
    }
   ],
   "source": [
    "numeric_strings = np.array(['1.25','-9.6','42','5.5','1'], dtype=np.string_)\n",
    "\n",
    "\n",
    "print (numeric_strings)\n",
    "print (numeric_strings.dtype)\n",
    "\n",
    "print ('\\n')\n",
    "\n",
    "\n",
    "float_values = numeric_strings.astype(float)\n",
    "print (float_values)\n",
    "print (float_values.dtype)\n"
   ]
  },
  {
   "cell_type": "code",
   "execution_count": 113,
   "id": "3eadb396",
   "metadata": {},
   "outputs": [
    {
     "name": "stdout",
     "output_type": "stream",
     "text": [
      "[0 1 2 3 4 5 6 7 8 9]\n",
      "int32\n",
      "\n",
      "\n",
      "[0. 1. 2. 3. 4. 5. 6. 7. 8. 9.]\n",
      "float64\n",
      "\n",
      "\n",
      "[0.22  0.27  0.357 0.38  0.44  0.5  ]\n"
     ]
    }
   ],
   "source": [
    "int_array = np.arange(10)\n",
    "\n",
    "print (int_array)\n",
    "print (int_array.dtype)\n",
    "\n",
    "print ('\\n')\n",
    "\n",
    "\n",
    "float_array = np.array([.22, .270, .357, .380, .44, .50], dtype=np.float64)\n",
    "# Converting to another array type \n",
    "int_array=int_array.astype (float_array.dtype)\n",
    "\n",
    "\n",
    "print (int_array)\n",
    "print (int_array.dtype)\n",
    "print ('\\n')\n",
    "print(float_array)\n"
   ]
  },
  {
   "cell_type": "code",
   "execution_count": 119,
   "id": "31fa947f",
   "metadata": {},
   "outputs": [
    {
     "name": "stdout",
     "output_type": "stream",
     "text": [
      "['0.22' '0.27' '0.357' '0.38' '0.44' '0.5']\n"
     ]
    }
   ],
   "source": [
    "a=np.array(float_array,dtype=np.str_)\n",
    "\n",
    "print(a)"
   ]
  },
  {
   "cell_type": "code",
   "execution_count": 121,
   "id": "31ef52f6",
   "metadata": {},
   "outputs": [
    {
     "name": "stdout",
     "output_type": "stream",
     "text": [
      "[ True  True  True  True  True  True]\n"
     ]
    }
   ],
   "source": [
    "a=np.array(float_array,dtype=bool)\n",
    "\n",
    "print(a)"
   ]
  },
  {
   "cell_type": "code",
   "execution_count": null,
   "id": "839b1d1b",
   "metadata": {},
   "outputs": [],
   "source": []
  }
 ],
 "metadata": {
  "kernelspec": {
   "display_name": "Python 3 (ipykernel)",
   "language": "python",
   "name": "python3"
  },
  "language_info": {
   "codemirror_mode": {
    "name": "ipython",
    "version": 3
   },
   "file_extension": ".py",
   "mimetype": "text/x-python",
   "name": "python",
   "nbconvert_exporter": "python",
   "pygments_lexer": "ipython3",
   "version": "3.9.12"
  }
 },
 "nbformat": 4,
 "nbformat_minor": 5
}
