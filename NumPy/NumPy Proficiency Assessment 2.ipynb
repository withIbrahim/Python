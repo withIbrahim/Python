{
 "cells": [
  {
   "cell_type": "code",
   "execution_count": 2,
   "id": "2540b1de",
   "metadata": {},
   "outputs": [],
   "source": [
    "import numpy as np"
   ]
  },
  {
   "cell_type": "code",
   "execution_count": 2,
   "id": "fcea0186",
   "metadata": {},
   "outputs": [
    {
     "name": "stdout",
     "output_type": "stream",
     "text": [
      "[[10 20 30 40 50]]\n"
     ]
    }
   ],
   "source": [
    "list1= [10,20,30,40,50]\n",
    "numpy=np.array([list1])\n",
    "\n",
    "print(numpy)"
   ]
  },
  {
   "cell_type": "code",
   "execution_count": 3,
   "id": "1c5f70b0",
   "metadata": {},
   "outputs": [
    {
     "name": "stdout",
     "output_type": "stream",
     "text": [
      "<class 'numpy.ndarray'>\n"
     ]
    }
   ],
   "source": [
    "print(type(numpy))"
   ]
  },
  {
   "cell_type": "code",
   "execution_count": 4,
   "id": "261ff3b6",
   "metadata": {},
   "outputs": [
    {
     "name": "stdout",
     "output_type": "stream",
     "text": [
      "[50 60 70 80 90  1  0]\n"
     ]
    }
   ],
   "source": [
    "lis = [50,60,70,80,90,True,False]\n",
    "lis1 =np.array(lis)\n",
    "\n",
    "print(lis1)"
   ]
  },
  {
   "cell_type": "code",
   "execution_count": 5,
   "id": "0eb1aed8",
   "metadata": {},
   "outputs": [
    {
     "name": "stdout",
     "output_type": "stream",
     "text": [
      "[50.  60.  70.  80.  90.   1.   0.  50.5]\n"
     ]
    }
   ],
   "source": [
    "lis = [50,60,70,80,90,True,False,50.5]\n",
    "lis1 =np.array(lis)\n",
    "\n",
    "print(lis1)"
   ]
  },
  {
   "cell_type": "code",
   "execution_count": 6,
   "id": "1b19372a",
   "metadata": {},
   "outputs": [
    {
     "name": "stdout",
     "output_type": "stream",
     "text": [
      "['50' '60' '70' '80' '90' 'True' 'False' '50.5' 'Rohan']\n"
     ]
    }
   ],
   "source": [
    "lis2 = [50,60,70,80,90,True,False,50.5,'Rohan']\n",
    "lis3 =np.array(lis2)\n",
    "\n",
    "print(lis3)"
   ]
  },
  {
   "cell_type": "code",
   "execution_count": 7,
   "id": "070f9380",
   "metadata": {},
   "outputs": [
    {
     "name": "stdout",
     "output_type": "stream",
     "text": [
      "<class 'numpy.str_'>\n"
     ]
    }
   ],
   "source": [
    "print(type(lis3[2]))"
   ]
  },
  {
   "cell_type": "code",
   "execution_count": 8,
   "id": "77081b81",
   "metadata": {},
   "outputs": [
    {
     "name": "stdout",
     "output_type": "stream",
     "text": [
      "[[ 1.  2.  3.  4.  5.]\n",
      " [ 6.  7.  8.  9. nan]]\n",
      "2 dimention\n",
      "shape is (2, 5)\n"
     ]
    }
   ],
   "source": [
    "l1=[[1,2,3,4,5],[6,7,8,9,np.nan]]\n",
    "l2=np.array(l1)\n",
    "\n",
    "print(l2)\n",
    "\n",
    "print(l2.ndim,'dimention')\n",
    "\n",
    "print('shape is',l2.shape)"
   ]
  },
  {
   "cell_type": "code",
   "execution_count": 9,
   "id": "ad38767c",
   "metadata": {},
   "outputs": [
    {
     "name": "stdout",
     "output_type": "stream",
     "text": [
      "[[ 2.  4.  6.  8. 10.]\n",
      " [12. 14. 16. 18. nan]]\n"
     ]
    }
   ],
   "source": [
    "print(l2*2)"
   ]
  },
  {
   "cell_type": "code",
   "execution_count": 16,
   "id": "cde1a7cb",
   "metadata": {
    "scrolled": true
   },
   "outputs": [
    {
     "name": "stdout",
     "output_type": "stream",
     "text": [
      "[[10 20 30]\n",
      " [50 55 56]]\n"
     ]
    }
   ],
   "source": [
    "list1= [10,20,30]\n",
    "list2 = [50,55,56]\n",
    "arr= np.array([list1,list2])\n",
    "\n",
    "print(arr)"
   ]
  },
  {
   "cell_type": "code",
   "execution_count": 19,
   "id": "552aebad",
   "metadata": {},
   "outputs": [
    {
     "name": "stdout",
     "output_type": "stream",
     "text": [
      "<class 'numpy.ndarray'>\n"
     ]
    }
   ],
   "source": [
    "print(type(arr))"
   ]
  },
  {
   "cell_type": "code",
   "execution_count": 20,
   "id": "a356c24d",
   "metadata": {},
   "outputs": [
    {
     "name": "stdout",
     "output_type": "stream",
     "text": [
      "[10 20 40 50 55 56]\n",
      "[20 40 50]\n"
     ]
    }
   ],
   "source": [
    "list2=np.array([10,20,30,50,55,56])\n",
    "list3=list2[1:-2]\n",
    "list3[1]=40\n",
    "\n",
    "print(list2)\n",
    "print(list3)"
   ]
  },
  {
   "cell_type": "code",
   "execution_count": 21,
   "id": "b1687ade",
   "metadata": {},
   "outputs": [
    {
     "name": "stdout",
     "output_type": "stream",
     "text": [
      "[10 20 40 50 55 56]\n",
      "[10 20 40 50 60 70]\n"
     ]
    }
   ],
   "source": [
    "l1=list2.copy()\n",
    "print(l1)\n",
    "\n",
    "l1[4:]=60,70\n",
    "print(l1)"
   ]
  },
  {
   "cell_type": "code",
   "execution_count": 31,
   "id": "372e01e5",
   "metadata": {},
   "outputs": [
    {
     "name": "stdout",
     "output_type": "stream",
     "text": [
      "[10 15 20 25 30 35 40 45 50 55 60 65 70 75 80 85 90 95]\n"
     ]
    }
   ],
   "source": [
    "arr = np.arange(10,100,5)\n",
    "\n",
    "print(arr)"
   ]
  },
  {
   "cell_type": "code",
   "execution_count": 32,
   "id": "dc947f57",
   "metadata": {},
   "outputs": [
    {
     "name": "stdout",
     "output_type": "stream",
     "text": [
      "[100 110 120 130 140 150 160 170 180 190]\n"
     ]
    }
   ],
   "source": [
    "arr = np.arange(100,200,10)\n",
    "print(arr)"
   ]
  },
  {
   "cell_type": "code",
   "execution_count": 33,
   "id": "46357c08",
   "metadata": {},
   "outputs": [
    {
     "name": "stdout",
     "output_type": "stream",
     "text": [
      "[10 11 12 13 14 15 16 17 18 19 20 21 22 23 24 25 26 27 28 29 30 31 32 33\n",
      " 34 35 36 37 38 39 40 41 42 43 44 45 46 47 48 49 50 51 52 53 54 55 56 57\n",
      " 58 59 60 61 62 63 64 65 66 67 68 69 70 71 72 73 74 75 76 77 78 79 80 81\n",
      " 82 83 84 85 86 87 88 89 90 91 92 93 94 95 96 97 98 99]\n"
     ]
    }
   ],
   "source": [
    "arr = np.arange(10,100)\n",
    "\n",
    "print(arr)"
   ]
  },
  {
   "cell_type": "code",
   "execution_count": 34,
   "id": "31845f0b",
   "metadata": {},
   "outputs": [
    {
     "data": {
      "text/plain": [
       "array([[[ 0,  1,  2],\n",
       "        [ 3,  4,  5],\n",
       "        [ 6,  7,  8],\n",
       "        [ 9, 10, 11],\n",
       "        [12, 13, 14]],\n",
       "\n",
       "       [[15, 16, 17],\n",
       "        [18, 19, 20],\n",
       "        [21, 22, 23],\n",
       "        [24, 25, 26],\n",
       "        [27, 28, 29]]])"
      ]
     },
     "execution_count": 34,
     "metadata": {},
     "output_type": "execute_result"
    }
   ],
   "source": [
    "ar =np.arange(30)\n",
    "ar.reshape(2,5,3)\n"
   ]
  },
  {
   "cell_type": "code",
   "execution_count": 35,
   "id": "4afb83bd",
   "metadata": {},
   "outputs": [
    {
     "data": {
      "text/plain": [
       "array([[ 0,  1,  2,  3,  4,  5,  6,  7],\n",
       "       [ 8,  9, 10, 11, 12, 13, 14, 15],\n",
       "       [16, 17, 18, 19, 20, 21, 22, 23],\n",
       "       [24, 25, 26, 27, 28, 29, 30, 31],\n",
       "       [32, 33, 34, 35, 36, 37, 38, 39]])"
      ]
     },
     "execution_count": 35,
     "metadata": {},
     "output_type": "execute_result"
    }
   ],
   "source": [
    "ar =np.arange(40)\n",
    "\n",
    "ar.reshape(5,8)"
   ]
  },
  {
   "cell_type": "code",
   "execution_count": 47,
   "id": "40c36382",
   "metadata": {},
   "outputs": [
    {
     "data": {
      "text/plain": [
       "array([[ 0,  1,  2,  3,  4,  5,  6,  7,  8,  9, 10, 11, 12, 13, 14, 15,\n",
       "        16, 17, 18, 19],\n",
       "       [20, 21, 22, 23, 24, 25, 26, 27, 28, 29, 30, 31, 32, 33, 34, 35,\n",
       "        36, 37, 38, 39]])"
      ]
     },
     "execution_count": 47,
     "metadata": {},
     "output_type": "execute_result"
    }
   ],
   "source": [
    "ar =np.arange(40)\n",
    "ar.reshape(2,20)"
   ]
  },
  {
   "cell_type": "code",
   "execution_count": 44,
   "id": "ffa4cf98",
   "metadata": {},
   "outputs": [
    {
     "data": {
      "text/plain": [
       "array([[0., 0., 0., 0., 0.],\n",
       "       [0., 0., 0., 0., 0.],\n",
       "       [0., 0., 0., 0., 0.],\n",
       "       [0., 0., 0., 0., 0.],\n",
       "       [0., 0., 0., 0., 0.]])"
      ]
     },
     "execution_count": 44,
     "metadata": {},
     "output_type": "execute_result"
    }
   ],
   "source": [
    "a = np.zeros((5,5))\n",
    "a"
   ]
  },
  {
   "cell_type": "code",
   "execution_count": 45,
   "id": "07f1d263",
   "metadata": {},
   "outputs": [
    {
     "data": {
      "text/plain": [
       "array([[[1., 1., 1., 1., 1.],\n",
       "        [1., 1., 1., 1., 1.],\n",
       "        [1., 1., 1., 1., 1.],\n",
       "        [1., 1., 1., 1., 1.],\n",
       "        [1., 1., 1., 1., 1.]],\n",
       "\n",
       "       [[1., 1., 1., 1., 1.],\n",
       "        [1., 1., 1., 1., 1.],\n",
       "        [1., 1., 1., 1., 1.],\n",
       "        [1., 1., 1., 1., 1.],\n",
       "        [1., 1., 1., 1., 1.]]])"
      ]
     },
     "execution_count": 45,
     "metadata": {},
     "output_type": "execute_result"
    }
   ],
   "source": [
    "b = np.ones((2,5,5))\n",
    "b"
   ]
  },
  {
   "cell_type": "code",
   "execution_count": 50,
   "id": "d670f729",
   "metadata": {},
   "outputs": [
    {
     "name": "stdout",
     "output_type": "stream",
     "text": [
      "[1. 2. 3.]\n",
      "<class 'list'>\n",
      "<class 'numpy.ndarray'>\n"
     ]
    }
   ],
   "source": [
    "x = [1,2,3]\n",
    "a = np.array(x, dtype=float)\n",
    "\n",
    "print (a)\n",
    "print(type(x))\n",
    "\n",
    "print(type(a))\n"
   ]
  },
  {
   "cell_type": "code",
   "execution_count": 51,
   "id": "121ff207",
   "metadata": {},
   "outputs": [
    {
     "data": {
      "text/plain": [
       "array([[['1.0', '1.0', '1.0', '1.0', '1.0'],\n",
       "        ['1.0', '1.0', '1.0', '1.0', '1.0'],\n",
       "        ['1.0', '1.0', '1.0', '1.0', '1.0'],\n",
       "        ['1.0', '1.0', '1.0', '1.0', '1.0'],\n",
       "        ['1.0', '1.0', '1.0', '1.0', '1.0']],\n",
       "\n",
       "       [['1.0', '1.0', '1.0', '1.0', '1.0'],\n",
       "        ['1.0', '1.0', '1.0', '1.0', '1.0'],\n",
       "        ['1.0', '1.0', '1.0', '1.0', '1.0'],\n",
       "        ['1.0', '1.0', '1.0', '1.0', '1.0'],\n",
       "        ['1.0', '1.0', '1.0', '1.0', '1.0']]], dtype='<U32')"
      ]
     },
     "execution_count": 51,
     "metadata": {},
     "output_type": "execute_result"
    }
   ],
   "source": [
    "c =b.astype(str)\n",
    "c"
   ]
  },
  {
   "cell_type": "code",
   "execution_count": 52,
   "id": "e6a08abe",
   "metadata": {},
   "outputs": [
    {
     "data": {
      "text/plain": [
       "array([[[ True,  True,  True,  True,  True],\n",
       "        [ True,  True,  True,  True,  True],\n",
       "        [ True,  True,  True,  True,  True],\n",
       "        [ True,  True,  True,  True,  True],\n",
       "        [ True,  True,  True,  True,  True]],\n",
       "\n",
       "       [[ True,  True,  True,  True,  True],\n",
       "        [ True,  True,  True,  True,  True],\n",
       "        [ True,  True,  True,  True,  True],\n",
       "        [ True,  True,  True,  True,  True],\n",
       "        [ True,  True,  True,  True,  True]]])"
      ]
     },
     "execution_count": 52,
     "metadata": {},
     "output_type": "execute_result"
    }
   ],
   "source": [
    "c =b.astype(bool)\n",
    "c"
   ]
  },
  {
   "cell_type": "code",
   "execution_count": 53,
   "id": "b8ed8b71",
   "metadata": {},
   "outputs": [
    {
     "data": {
      "text/plain": [
       "array([[0., 0., 0., 0., 0.],\n",
       "       [0., 0., 0., 0., 0.],\n",
       "       [0., 0., 0., 0., 0.],\n",
       "       [0., 0., 0., 0., 0.],\n",
       "       [0., 0., 0., 0., 0.]])"
      ]
     },
     "execution_count": 53,
     "metadata": {},
     "output_type": "execute_result"
    }
   ],
   "source": [
    "a =np.zeros((5,5))\n",
    "a"
   ]
  },
  {
   "cell_type": "code",
   "execution_count": 54,
   "id": "1f328c05",
   "metadata": {},
   "outputs": [
    {
     "data": {
      "text/plain": [
       "array([[False, False, False, False, False],\n",
       "       [False, False, False, False, False],\n",
       "       [False, False, False, False, False],\n",
       "       [False, False, False, False, False],\n",
       "       [False, False, False, False, False]])"
      ]
     },
     "execution_count": 54,
     "metadata": {},
     "output_type": "execute_result"
    }
   ],
   "source": [
    "c=a.astype(bool)\n",
    "c"
   ]
  },
  {
   "cell_type": "code",
   "execution_count": 57,
   "id": "b6dab3f9",
   "metadata": {},
   "outputs": [
    {
     "name": "stdout",
     "output_type": "stream",
     "text": [
      "<class 'list'>\n",
      "<class 'numpy.ndarray'>\n",
      "[10, 20, 30, 40, 50, 'X']\n",
      "['10' '20' '30' '40' '50' 'X']\n"
     ]
    }
   ],
   "source": [
    "list1 = [10,20,30,40,50,'X']\n",
    "array1 = np.array (list1)\n",
    "\n",
    "print (type(list1))\n",
    "print (type(array1))\n",
    "\n",
    "\n",
    "print (list1)\n",
    "print (array1)\n"
   ]
  },
  {
   "cell_type": "code",
   "execution_count": 59,
   "id": "b649696b",
   "metadata": {},
   "outputs": [
    {
     "name": "stdout",
     "output_type": "stream",
     "text": [
      "['10' '20' '30' '40' '50' 'X']\n"
     ]
    }
   ],
   "source": [
    "lis = np.array (list1)\n",
    "print(lis)\n"
   ]
  },
  {
   "cell_type": "code",
   "execution_count": 66,
   "id": "6aa56d35",
   "metadata": {},
   "outputs": [
    {
     "data": {
      "text/plain": [
       "dtype('int16')"
      ]
     },
     "execution_count": 66,
     "metadata": {},
     "output_type": "execute_result"
    }
   ],
   "source": [
    "a =np.dtype(np.int16)\n",
    "a"
   ]
  },
  {
   "cell_type": "code",
   "execution_count": null,
   "id": "7b7382cd",
   "metadata": {},
   "outputs": [],
   "source": []
  },
  {
   "cell_type": "code",
   "execution_count": 67,
   "id": "b078abe4",
   "metadata": {
    "scrolled": true
   },
   "outputs": [
    {
     "name": "stdout",
     "output_type": "stream",
     "text": [
      "(10, 20, 30, 40, 50, 'x', 'y')\n",
      "['10' '20' '30' '40' '50' 'x' 'y']\n",
      "<class 'numpy.ndarray'>\n",
      "<class 'tuple'>\n"
     ]
    }
   ],
   "source": [
    "Tup1 = (10,20,30,40,50,'x','y')\n",
    "\n",
    "ar = np.array(Tup1)\n",
    "\n",
    "\n",
    "print(Tup1)\n",
    "print(ar)\n",
    "\n",
    "\n",
    "print(type(ar))\n",
    "print(type(Tup1))"
   ]
  },
  {
   "cell_type": "code",
   "execution_count": 3,
   "id": "17b43c3f",
   "metadata": {},
   "outputs": [
    {
     "name": "stdout",
     "output_type": "stream",
     "text": [
      "[[0 1 2]\n",
      " [3 4 5]\n",
      " [6 7 8]]\n",
      "4\n"
     ]
    }
   ],
   "source": [
    "a = np.arange(9)\n",
    "a = a.reshape((3,3))\n",
    "print (a)\n",
    "print (a[1][1])\n"
   ]
  },
  {
   "cell_type": "code",
   "execution_count": 4,
   "id": "58ae466a",
   "metadata": {},
   "outputs": [
    {
     "name": "stdout",
     "output_type": "stream",
     "text": [
      "[[0 1 2]\n",
      " [3 4 5]\n",
      " [6 7 8]]\n",
      "8\n"
     ]
    }
   ],
   "source": [
    "a = np.arange(9)\n",
    "a = a.reshape((3,3))\n",
    "\n",
    "print (a)\n",
    "print (a[2][2])\n"
   ]
  },
  {
   "cell_type": "code",
   "execution_count": 5,
   "id": "74307ac2",
   "metadata": {},
   "outputs": [
    {
     "name": "stdout",
     "output_type": "stream",
     "text": [
      "[ 0  1  2  3  4  5  6  7  8  9 10 11 12 13 14 15 16 17 18 19 20 21 22 23\n",
      " 24 25 26 27 28 29]\n",
      "[[ 0  6 12 18 24]\n",
      " [ 1  7 13 19 25]\n",
      " [ 2  8 14 20 26]\n",
      " [ 3  9 15 21 27]\n",
      " [ 4 10 16 22 28]\n",
      " [ 5 11 17 23 29]]\n"
     ]
    }
   ],
   "source": [
    "x = np.arange(0,30)\n",
    "i = np.reshape(x,(6,5),'F')\n",
    "\n",
    "print(x)\n",
    "\n",
    "print(i)\n"
   ]
  },
  {
   "cell_type": "code",
   "execution_count": 6,
   "id": "04d8fe45",
   "metadata": {},
   "outputs": [
    {
     "name": "stdout",
     "output_type": "stream",
     "text": [
      "[ 0  1  2  3  4  5  6  7  8  9 10 11 12 13 14 15 16 17 18 19 20 21 22 23\n",
      " 24 25 26 27 28 29]\n",
      "[[ 0  1  2  3  4]\n",
      " [ 5  6  7  8  9]\n",
      " [10 11 12 13 14]\n",
      " [15 16 17 18 19]\n",
      " [20 21 22 23 24]\n",
      " [25 26 27 28 29]]\n"
     ]
    }
   ],
   "source": [
    "x = np.arange(0,30)\n",
    "i = np.reshape(x,(6,5))\n",
    "\n",
    "print(x)\n",
    "\n",
    "print(i)\n"
   ]
  },
  {
   "cell_type": "code",
   "execution_count": 7,
   "id": "f7626171",
   "metadata": {},
   "outputs": [
    {
     "name": "stdout",
     "output_type": "stream",
     "text": [
      "[ 0  5 10 15]\n"
     ]
    }
   ],
   "source": [
    "ar = np.arange(0,20,5)\n",
    "\n",
    "print(ar)"
   ]
  },
  {
   "cell_type": "code",
   "execution_count": 8,
   "id": "744e1cac",
   "metadata": {},
   "outputs": [
    {
     "name": "stdout",
     "output_type": "stream",
     "text": [
      "[ 0.  5. 10. 15. 20.]\n"
     ]
    }
   ],
   "source": [
    "arr = np.linspace(0,20,5)\n",
    "\n",
    "print(arr)"
   ]
  },
  {
   "cell_type": "code",
   "execution_count": 9,
   "id": "3ed868aa",
   "metadata": {},
   "outputs": [
    {
     "data": {
      "text/plain": [
       "array([1. , 1.1, 1.2, 1.3])"
      ]
     },
     "execution_count": 9,
     "metadata": {},
     "output_type": "execute_result"
    }
   ],
   "source": [
    "z = np.arange(1, 1.3, 0.1)\n",
    "z"
   ]
  },
  {
   "cell_type": "code",
   "execution_count": 13,
   "id": "f24d9318",
   "metadata": {},
   "outputs": [
    {
     "name": "stdout",
     "output_type": "stream",
     "text": [
      "[ 5.   9.5 14.  18.5 23.  27.5 32.  36.5 41.  45.5 50. ]\n"
     ]
    }
   ],
   "source": [
    "arr = np.linspace(5,50,11)\n",
    "\n",
    "print(arr)"
   ]
  },
  {
   "cell_type": "code",
   "execution_count": 14,
   "id": "40b7b7a5",
   "metadata": {},
   "outputs": [
    {
     "name": "stdout",
     "output_type": "stream",
     "text": [
      "[[ 10  20  30  40]\n",
      " [100 110 120 130]\n",
      " [200 210 220 230]]\n",
      "......................\n",
      "[[ 10 100 200]\n",
      " [ 20 110 210]\n",
      " [ 30 120 220]\n",
      " [ 40 130 230]]\n"
     ]
    }
   ],
   "source": [
    "list1 = [10,20,30,40]\n",
    "list2 = [100,110,120,130]\n",
    "list3 = [200,210,220,230]\n",
    "Mat1 = np.array ([list1, list2,list3])\n",
    "\n",
    "print (Mat1)\n",
    "\n",
    "print('......................')\n",
    "\n",
    "print (Mat1.T)   \n"
   ]
  },
  {
   "cell_type": "code",
   "execution_count": 15,
   "id": "5a553926",
   "metadata": {},
   "outputs": [
    {
     "name": "stdout",
     "output_type": "stream",
     "text": [
      "[[[1 2 3 4 5]]]\n"
     ]
    }
   ],
   "source": [
    "a=np.array([1, 2, 3,4,5], ndmin=3)\n",
    "\n",
    "print(a)"
   ]
  },
  {
   "cell_type": "code",
   "execution_count": 16,
   "id": "f1708e69",
   "metadata": {},
   "outputs": [
    {
     "name": "stdout",
     "output_type": "stream",
     "text": [
      "[1.+0.j 2.+0.j 3.+0.j 4.+0.j 5.+0.j]\n",
      "<class 'numpy.complex128'>\n"
     ]
    }
   ],
   "source": [
    "a=np.array([1, 2, 3,4,5], dtype=complex)\n",
    "\n",
    "print(a)\n",
    "\n",
    "print(type(a[1]))"
   ]
  },
  {
   "cell_type": "code",
   "execution_count": 17,
   "id": "2d1f6921",
   "metadata": {},
   "outputs": [
    {
     "name": "stdout",
     "output_type": "stream",
     "text": [
      "[False  True  True  True  True  True]\n",
      "<class 'numpy.bool_'>\n"
     ]
    }
   ],
   "source": [
    "a=np.array([0,1, 2, 3,4,5], dtype=bool)\n",
    "\n",
    "print(a)\n",
    "print(type(a[1]))"
   ]
  },
  {
   "cell_type": "code",
   "execution_count": 18,
   "id": "4c94fd56",
   "metadata": {},
   "outputs": [
    {
     "name": "stdout",
     "output_type": "stream",
     "text": [
      "[0 1 2 3 4 5]\n",
      "<class 'numpy.uint32'>\n"
     ]
    }
   ],
   "source": [
    "a=np.uint32([0,1, 2, 3,4,5])\n",
    "\n",
    "print(a)\n",
    "print(type(a[1]))"
   ]
  },
  {
   "cell_type": "code",
   "execution_count": 22,
   "id": "5d067cf9",
   "metadata": {},
   "outputs": [
    {
     "name": "stdout",
     "output_type": "stream",
     "text": [
      "|S20\n",
      "<class 'numpy.dtype[void]'>\n"
     ]
    }
   ],
   "source": [
    "\n",
    "student=np.dtype([('name','S20'), ('age', 'i1'), ('marks', 'f4')])\n",
    "\n",
    "print (student['name'])\n",
    "\n",
    "print(type(student))"
   ]
  },
  {
   "cell_type": "code",
   "execution_count": 25,
   "id": "be745aeb",
   "metadata": {},
   "outputs": [
    {
     "name": "stdout",
     "output_type": "stream",
     "text": [
      "[['name' 'S20']\n",
      " ['age' 'i1']\n",
      " ['marks' 'f4']]\n",
      "<class 'numpy.ndarray'>\n"
     ]
    }
   ],
   "source": [
    "student=np.array([('name','S20'), ('age', 'i1'), ('marks', 'f4')])\n",
    "print (student)\n",
    "\n",
    "print (type(student))"
   ]
  },
  {
   "cell_type": "code",
   "execution_count": 26,
   "id": "862c3371",
   "metadata": {
    "scrolled": true
   },
   "outputs": [
    {
     "data": {
      "text/plain": [
       "array([[1, 2, 3],\n",
       "       [5, 6, 7]])"
      ]
     },
     "execution_count": 26,
     "metadata": {},
     "output_type": "execute_result"
    }
   ],
   "source": [
    "tup=(1,2,3),(5,6,7)\n",
    "arr = np.array(tup)\n",
    "arr"
   ]
  },
  {
   "cell_type": "code",
   "execution_count": 28,
   "id": "bc2754cc",
   "metadata": {},
   "outputs": [
    {
     "name": "stdout",
     "output_type": "stream",
     "text": [
      "[[1 2 3]\n",
      " [5 6 7]]\n"
     ]
    }
   ],
   "source": [
    "tup=[(1,2,3),(5,6,7)]\n",
    "arr = np.array(tup)\n",
    "\n",
    "print(arr)"
   ]
  },
  {
   "cell_type": "code",
   "execution_count": null,
   "id": "b4fa57b4",
   "metadata": {},
   "outputs": [],
   "source": [
    "tup=[(1,2,3),(5,6,7)]\n",
    "arr = np.array(tup)\n",
    "print(arr)\n",
    "\n",
    "print(type(arr))"
   ]
  },
  {
   "cell_type": "code",
   "execution_count": 29,
   "id": "96306e72",
   "metadata": {
    "scrolled": true
   },
   "outputs": [
    {
     "name": "stdout",
     "output_type": "stream",
     "text": [
      "[[ 10  20  30  40]\n",
      " [100 110 120 130]\n",
      " [200 210 220 230]]\n",
      "\n",
      "\n",
      "[[ 10 100 200]\n",
      " [ 20 110 210]\n",
      " [ 30 120 220]\n",
      " [ 40 130 230]]\n"
     ]
    }
   ],
   "source": [
    "import numpy as np\n",
    "\n",
    "list1 = [10,20,30,40]\n",
    "list2 = [100,110,120,130]\n",
    "list3 = [200,210,220,230]\n",
    "Mat1 = np.array ([list1, list2,list3])\n",
    "\n",
    "print (Mat1)\n",
    "print('\\n')\n",
    "print (Mat1.T)  \n"
   ]
  },
  {
   "cell_type": "code",
   "execution_count": 30,
   "id": "64213f70",
   "metadata": {},
   "outputs": [
    {
     "name": "stdout",
     "output_type": "stream",
     "text": [
      "\n",
      "\n",
      "[[ 10  30]\n",
      " [100 120]\n",
      " [200 220]\n",
      " [ 20  40]\n",
      " [110 130]\n",
      " [210 230]]\n"
     ]
    }
   ],
   "source": [
    "print('\\n')\n",
    "\n",
    "print(np.reshape(Mat1,(6,2),'F'))"
   ]
  },
  {
   "cell_type": "code",
   "execution_count": 34,
   "id": "c2c0a342",
   "metadata": {},
   "outputs": [
    {
     "data": {
      "text/plain": [
       "array([[ 5,  6,  7],\n",
       "       [ 8,  9, 10],\n",
       "       [11, 12, 13]])"
      ]
     },
     "execution_count": 34,
     "metadata": {},
     "output_type": "execute_result"
    }
   ],
   "source": [
    "a = np.arange(5,14)\n",
    "\n",
    "b = a.reshape(3,3)\n",
    "b"
   ]
  },
  {
   "cell_type": "code",
   "execution_count": 33,
   "id": "4435adfb",
   "metadata": {},
   "outputs": [
    {
     "name": "stdout",
     "output_type": "stream",
     "text": [
      "[[1 2 3]\n",
      " [4 5 6]\n",
      " [7 8 9]]\n"
     ]
    }
   ],
   "source": [
    "d = np.arange(1,10)\n",
    "c=d.reshape(3,3)\n",
    "print(c)"
   ]
  },
  {
   "cell_type": "code",
   "execution_count": 36,
   "id": "5b6d5b06",
   "metadata": {},
   "outputs": [
    {
     "data": {
      "text/plain": [
       "array([[ 6,  8, 10],\n",
       "       [12, 14, 16],\n",
       "       [18, 20, 22]])"
      ]
     },
     "execution_count": 36,
     "metadata": {},
     "output_type": "execute_result"
    }
   ],
   "source": [
    "b+c"
   ]
  },
  {
   "cell_type": "code",
   "execution_count": 37,
   "id": "59a7ffd5",
   "metadata": {},
   "outputs": [
    {
     "data": {
      "text/plain": [
       "array([[  5,  12,  21],\n",
       "       [ 32,  45,  60],\n",
       "       [ 77,  96, 117]])"
      ]
     },
     "execution_count": 37,
     "metadata": {},
     "output_type": "execute_result"
    }
   ],
   "source": [
    "b*c"
   ]
  },
  {
   "cell_type": "code",
   "execution_count": 38,
   "id": "f5738729",
   "metadata": {},
   "outputs": [
    {
     "data": {
      "text/plain": [
       "array([[5.        , 3.        , 2.33333333],\n",
       "       [2.        , 1.8       , 1.66666667],\n",
       "       [1.57142857, 1.5       , 1.44444444]])"
      ]
     },
     "execution_count": 38,
     "metadata": {},
     "output_type": "execute_result"
    }
   ],
   "source": [
    "b/c"
   ]
  },
  {
   "cell_type": "code",
   "execution_count": 39,
   "id": "5be3474d",
   "metadata": {},
   "outputs": [
    {
     "data": {
      "text/plain": [
       "array([[0, 0, 1],\n",
       "       [0, 4, 4],\n",
       "       [4, 4, 4]], dtype=int32)"
      ]
     },
     "execution_count": 39,
     "metadata": {},
     "output_type": "execute_result"
    }
   ],
   "source": [
    "b%c"
   ]
  },
  {
   "cell_type": "code",
   "execution_count": 40,
   "id": "e18b6a78",
   "metadata": {},
   "outputs": [
    {
     "data": {
      "text/plain": [
       "array([[ 78,  96, 114],\n",
       "       [114, 141, 168],\n",
       "       [150, 186, 222]])"
      ]
     },
     "execution_count": 40,
     "metadata": {},
     "output_type": "execute_result"
    }
   ],
   "source": [
    "b@c"
   ]
  },
  {
   "cell_type": "code",
   "execution_count": 44,
   "id": "162800dd",
   "metadata": {},
   "outputs": [
    {
     "name": "stdout",
     "output_type": "stream",
     "text": [
      "[ 1  2  3  4  5  6  7  8  9 10 11 12 13 14 15 16 17 18 19 20 21 22 23 24\n",
      " 25 26 27 28 29 30]\n"
     ]
    }
   ],
   "source": [
    "x = np.arange(1,31)\n",
    "\n",
    "print(x)"
   ]
  },
  {
   "cell_type": "code",
   "execution_count": 45,
   "id": "3890af75",
   "metadata": {},
   "outputs": [
    {
     "name": "stdout",
     "output_type": "stream",
     "text": [
      "[[ 1  2  3  4  5  6]\n",
      " [ 7  8  9 10 11 12]\n",
      " [13 14 15 16 17 18]\n",
      " [19 20 21 22 23 24]\n",
      " [25 26 27 28 29 30]]\n"
     ]
    }
   ],
   "source": [
    "z=x.reshape(5,6)\n",
    "print(z)"
   ]
  },
  {
   "cell_type": "code",
   "execution_count": 46,
   "id": "7c3be507",
   "metadata": {},
   "outputs": [
    {
     "data": {
      "text/plain": [
       "array([ 1,  2,  3,  4,  5,  6,  7,  8,  9, 10, 11, 12, 13, 14, 15, 16, 17,\n",
       "       18, 19, 20, 21, 22, 23, 24, 25, 26, 27, 28, 29, 30])"
      ]
     },
     "execution_count": 46,
     "metadata": {},
     "output_type": "execute_result"
    }
   ],
   "source": [
    "n= z.ravel()\n",
    "n\n"
   ]
  },
  {
   "cell_type": "code",
   "execution_count": 47,
   "id": "629cb07f",
   "metadata": {},
   "outputs": [
    {
     "data": {
      "text/plain": [
       "1.5"
      ]
     },
     "execution_count": 47,
     "metadata": {},
     "output_type": "execute_result"
    }
   ],
   "source": [
    "12/8"
   ]
  },
  {
   "cell_type": "code",
   "execution_count": 49,
   "id": "4e877f07",
   "metadata": {},
   "outputs": [
    {
     "data": {
      "text/plain": [
       "2"
      ]
     },
     "execution_count": 49,
     "metadata": {},
     "output_type": "execute_result"
    }
   ],
   "source": [
    "8//4"
   ]
  },
  {
   "cell_type": "code",
   "execution_count": 50,
   "id": "150c7144",
   "metadata": {},
   "outputs": [
    {
     "name": "stdout",
     "output_type": "stream",
     "text": [
      "[[500 510 520 530]\n",
      " [100 110 120 130]\n",
      " [200 210 220 230]]\n"
     ]
    }
   ],
   "source": [
    "list1 = [500,510,520,530]\n",
    "list2 = [100,110,120,130]\n",
    "list3 = [200,210,220,230]\n",
    "Mat1 = np.array ([list1, list2,list3])\n",
    "\n",
    "print(Mat1)"
   ]
  },
  {
   "cell_type": "code",
   "execution_count": 51,
   "id": "95b3ade0",
   "metadata": {},
   "outputs": [
    {
     "name": "stdout",
     "output_type": "stream",
     "text": [
      "[[10 11 12 13]\n",
      " [20 21 22 23]\n",
      " [30 31 32 33]]\n"
     ]
    }
   ],
   "source": [
    "list6 = [10,11,12,13]\n",
    "list7 = [20,21,22,23]\n",
    "list8 = [30,31,32,33]\n",
    "Mat2 = np.array ([list6, list7,list8])\n",
    "\n",
    "print(Mat2)"
   ]
  },
  {
   "cell_type": "code",
   "execution_count": 52,
   "id": "a4c90b56",
   "metadata": {},
   "outputs": [
    {
     "name": "stdout",
     "output_type": "stream",
     "text": [
      "[[50.         46.36363636 43.33333333 40.76923077]\n",
      " [ 5.          5.23809524  5.45454545  5.65217391]\n",
      " [ 6.66666667  6.77419355  6.875       6.96969697]]\n"
     ]
    }
   ],
   "source": [
    "Mat3 = Mat1/Mat2\n",
    "print (Mat3)\n"
   ]
  },
  {
   "cell_type": "code",
   "execution_count": 53,
   "id": "f7c26398",
   "metadata": {},
   "outputs": [
    {
     "name": "stdout",
     "output_type": "stream",
     "text": [
      "[[50 46 43 40]\n",
      " [ 5  5  5  5]\n",
      " [ 6  6  6  6]]\n"
     ]
    }
   ],
   "source": [
    "Mat3 = Mat1//Mat2\n",
    "print (Mat3)\n"
   ]
  },
  {
   "cell_type": "code",
   "execution_count": 54,
   "id": "99580040",
   "metadata": {},
   "outputs": [
    {
     "name": "stdout",
     "output_type": "stream",
     "text": [
      "[[10 11 12 13]\n",
      " [20 21 22 23]\n",
      " [30 31 32 33]]\n"
     ]
    }
   ],
   "source": [
    "list6 = [10,11,12,13]\n",
    "list7 = [20,21,22,23]\n",
    "list8 = [30,31,32,33]\n",
    "Mat2 = np.array ([list6, list7,list8])\n",
    "\n",
    "print(Mat2)"
   ]
  },
  {
   "cell_type": "code",
   "execution_count": 55,
   "id": "e7aeeb1a",
   "metadata": {},
   "outputs": [
    {
     "name": "stdout",
     "output_type": "stream",
     "text": [
      "[10 11 12 13 20 21 22 23 30 31 32 33]\n"
     ]
    }
   ],
   "source": [
    "mat =Mat2.ravel()\n",
    "\n",
    "print(mat)"
   ]
  },
  {
   "cell_type": "code",
   "execution_count": 56,
   "id": "629db986",
   "metadata": {},
   "outputs": [
    {
     "data": {
      "text/plain": [
       "array([ 0.,  6., 12., 18., 24., 30.])"
      ]
     },
     "execution_count": 56,
     "metadata": {},
     "output_type": "execute_result"
    }
   ],
   "source": [
    "lin =np.linspace(0,30,6)\n",
    "lin"
   ]
  },
  {
   "cell_type": "code",
   "execution_count": 57,
   "id": "cfd534fe",
   "metadata": {},
   "outputs": [
    {
     "name": "stdout",
     "output_type": "stream",
     "text": [
      "[[1002 4523 4123 3584]\n",
      " [7854 9654 4582 8543]\n",
      " [7845 4512 3652 7452]]\n",
      "{'Eu': 0, 'APAC': 1, 'US': 2}\n",
      "{'Q1': 0, 'Q2': 1, 'Q3': 2, 'Q4': 3}\n"
     ]
    },
    {
     "data": {
      "text/plain": [
       "4582"
      ]
     },
     "execution_count": 57,
     "metadata": {},
     "output_type": "execute_result"
    }
   ],
   "source": [
    "EU_Sales = [1002, 4523,4123,3584]\n",
    "APAC_Sales = [7854,9654,4582,8543]\n",
    "US_Sales = [7845,4512,3652,7452]\n",
    "Sales = np.array ([EU_Sales, APAC_Sales,US_Sales])\n",
    "\n",
    "print (Sales)\n",
    "\n",
    "\n",
    "rigion_dict ={'Eu':0,'APAC':1,'US':2}\n",
    "qu_dict ={'Q1':0,'Q2':1,'Q3':2,'Q4':3}\n",
    "\n",
    "print(rigion_dict)\n",
    "print(qu_dict)\n",
    "\n",
    "Sales[rigion_dict['APAC']][qu_dict['Q3']]"
   ]
  },
  {
   "cell_type": "code",
   "execution_count": 58,
   "id": "d801854a",
   "metadata": {},
   "outputs": [
    {
     "name": "stdout",
     "output_type": "stream",
     "text": [
      "3652\n"
     ]
    }
   ],
   "source": [
    "print(Sales[rigion_dict[\"US\"]][qu_dict['Q3']])\n"
   ]
  },
  {
   "cell_type": "code",
   "execution_count": 59,
   "id": "628e9e8c",
   "metadata": {},
   "outputs": [
    {
     "data": {
      "text/plain": [
       "array([7845, 4512, 3652, 7452])"
      ]
     },
     "execution_count": 59,
     "metadata": {},
     "output_type": "execute_result"
    }
   ],
   "source": [
    "Sales[rigion_dict['US']]"
   ]
  },
  {
   "cell_type": "code",
   "execution_count": 60,
   "id": "fd2da912",
   "metadata": {},
   "outputs": [
    {
     "name": "stdout",
     "output_type": "stream",
     "text": [
      "3584\n"
     ]
    }
   ],
   "source": [
    "print(Sales[rigion_dict['Eu']][qu_dict['Q4']])"
   ]
  },
  {
   "cell_type": "code",
   "execution_count": 64,
   "id": "7619c6a5",
   "metadata": {
    "scrolled": true
   },
   "outputs": [
    {
     "name": "stdout",
     "output_type": "stream",
     "text": [
      "[10 11 12 13 14 15 16 17 18 19 20 21 22 23 24 25 26 27 28 29 30 31 32 33\n",
      " 34 35 36 37 38 39 40 41 42 43 44 45 46 47 48 49 50 51 52 53 54 55 56 57\n",
      " 58 59 60 61 62 63 64 65 66 67 68 69 70 71 72 73 74 75 76 77 78 79 80 81\n",
      " 82 83 84 85 86 87 88 89 90 91 92 93 94 95 96 97 98 99] \n",
      "\n",
      "[ 1  2  3  4  5  6  7  8  9 10 11 12 13 14 15 16 17 18 19 20 21 22 23 24\n",
      " 25 26 27 28 29 30 31 32 33 34 35 36 37 38 39] \n",
      "\n",
      "[20 25 30 35 40 45] \n",
      "\n",
      "[ 0 10 20 30 40 50 60 70 80 90]\n"
     ]
    }
   ],
   "source": [
    "a =np.arange(100)\n",
    "\n",
    "print(a[10:],'\\n')\n",
    "\n",
    "print(a[1:40],'\\n')\n",
    "\n",
    "\n",
    "print(a[20:50:5],'\\n')\n",
    "\n",
    "\n",
    "print(a[::10])\n",
    "\n"
   ]
  },
  {
   "cell_type": "code",
   "execution_count": 65,
   "id": "27db3e78",
   "metadata": {},
   "outputs": [
    {
     "name": "stdout",
     "output_type": "stream",
     "text": [
      "[ 0  1  2  3  4  5  6  7  8  9 10 11 12 13 14 15 16 17 18 19]\n",
      "slice(1, 10, 2)\n",
      "[1 3 5 7 9]\n"
     ]
    }
   ],
   "source": [
    "arr1 =  np.arange(20)\n",
    "print (arr1)\n",
    "\n",
    "arr_slice = slice (1,10,2)\n",
    "print (arr_slice)\n",
    "\n",
    "\n",
    "print (arr1[arr_slice])\n",
    "\n"
   ]
  },
  {
   "cell_type": "code",
   "execution_count": 66,
   "id": "cd0f9ff9",
   "metadata": {
    "scrolled": true
   },
   "outputs": [
    {
     "name": "stdout",
     "output_type": "stream",
     "text": [
      "[ 0  1  2  3  4  5  6  7  8  9 10 11 12 13 14 15 16 17 18 19]\n",
      "[ 1  4  7 10 13 16 19]\n"
     ]
    }
   ],
   "source": [
    "arr1 =  np.arange(20)\n",
    "print (arr1)\n",
    "arr_slice = slice (1,20,3)\n",
    "\n",
    "print (arr1[arr_slice])\n",
    "\n"
   ]
  },
  {
   "cell_type": "code",
   "execution_count": 67,
   "id": "26098795",
   "metadata": {},
   "outputs": [
    {
     "name": "stdout",
     "output_type": "stream",
     "text": [
      "[30 31 32 33 34 35 36 37 38 39 40 41 42 43 44 45 46 47 48 49] \n",
      "\n",
      "[ 1  4  7 10 13 16 19]\n"
     ]
    }
   ],
   "source": [
    "a =np.arange(50)\n",
    "\n",
    "print(a[30:],'\\n')\n",
    "\n",
    "\n",
    "print(a[arr_slice])"
   ]
  },
  {
   "cell_type": "code",
   "execution_count": 71,
   "id": "8070ff4b",
   "metadata": {},
   "outputs": [
    {
     "name": "stdout",
     "output_type": "stream",
     "text": [
      "[[0 1 2]\n",
      " [3 4 5]\n",
      " [6 7 8]]\n",
      "............................\n",
      "[[3 4 5]]\n"
     ]
    }
   ],
   "source": [
    "arr=np.arange(9)\n",
    "arr=arr.reshape(3,3)\n",
    "\n",
    "print(arr)\n",
    "\n",
    "print('............................')\n",
    "\n",
    "arr2 = arr[1:2]\n",
    "print (arr2)\n"
   ]
  },
  {
   "cell_type": "code",
   "execution_count": 72,
   "id": "f89a7308",
   "metadata": {},
   "outputs": [
    {
     "name": "stdout",
     "output_type": "stream",
     "text": [
      "[[4]]\n"
     ]
    }
   ],
   "source": [
    "arr2 = arr[1:2,1:2]\n",
    "print (arr2)\n"
   ]
  },
  {
   "cell_type": "code",
   "execution_count": 73,
   "id": "3c9cffec",
   "metadata": {},
   "outputs": [
    {
     "name": "stdout",
     "output_type": "stream",
     "text": [
      "[20 23 26 29 32 35 38]\n"
     ]
    }
   ],
   "source": [
    "arr = np.arange(50)\n",
    "\n",
    "\n",
    "print(arr[20:41:3])"
   ]
  },
  {
   "cell_type": "code",
   "execution_count": 81,
   "id": "41c62dde",
   "metadata": {},
   "outputs": [
    {
     "name": "stdout",
     "output_type": "stream",
     "text": [
      "[0 1 2 3 4 5 6 7 8]\n",
      "\n",
      "\n",
      "[[0 1 2]\n",
      " [3 4 5]\n",
      " [6 7 8]]\n",
      "\n",
      "\n",
      "[[0 1]\n",
      " [3 4]]\n"
     ]
    }
   ],
   "source": [
    "arr1 =  np.arange(9)\n",
    "print (arr1)\n",
    "\n",
    "arr1=arr1.reshape(3,3)\n",
    "print ('\\n')\n",
    "print (arr1)\n",
    "\n",
    "print ('\\n')\n",
    "arr2 = arr1[0:2,0:2]\n",
    "\n",
    "print (arr2)\n"
   ]
  },
  {
   "cell_type": "code",
   "execution_count": 82,
   "id": "875ca7b1",
   "metadata": {},
   "outputs": [
    {
     "data": {
      "text/plain": [
       "array([[ 5,  6,  7],\n",
       "       [ 8,  9, 10],\n",
       "       [11, 12, 13]])"
      ]
     },
     "execution_count": 82,
     "metadata": {},
     "output_type": "execute_result"
    }
   ],
   "source": [
    "arr = np.arange(5,14)\n",
    "arr\n",
    "arr1 = arr.reshape(3,3)\n",
    "arr1"
   ]
  },
  {
   "cell_type": "code",
   "execution_count": 83,
   "id": "3967f911",
   "metadata": {},
   "outputs": [
    {
     "data": {
      "text/plain": [
       "array([[ 5,  6],\n",
       "       [ 8,  9],\n",
       "       [11, 12]])"
      ]
     },
     "execution_count": 83,
     "metadata": {},
     "output_type": "execute_result"
    }
   ],
   "source": [
    "arr1[:,0:2]"
   ]
  },
  {
   "cell_type": "code",
   "execution_count": 84,
   "id": "2ef2f8be",
   "metadata": {},
   "outputs": [
    {
     "data": {
      "text/plain": [
       "array([[ 6,  7],\n",
       "       [ 9, 10],\n",
       "       [12, 13]])"
      ]
     },
     "execution_count": 84,
     "metadata": {},
     "output_type": "execute_result"
    }
   ],
   "source": [
    "arr1[:,1:3]"
   ]
  },
  {
   "cell_type": "code",
   "execution_count": 96,
   "id": "5630c2ca",
   "metadata": {},
   "outputs": [
    {
     "name": "stdout",
     "output_type": "stream",
     "text": [
      "[[ 8  9 10]\n",
      " [11 12 13]]\n"
     ]
    }
   ],
   "source": [
    "print(arr1[1:])"
   ]
  },
  {
   "cell_type": "code",
   "execution_count": 97,
   "id": "196edb0b",
   "metadata": {},
   "outputs": [
    {
     "name": "stdout",
     "output_type": "stream",
     "text": [
      "(3, 3)\n"
     ]
    }
   ],
   "source": [
    "print(arr1.shape)"
   ]
  },
  {
   "cell_type": "code",
   "execution_count": 98,
   "id": "c85f31cd",
   "metadata": {},
   "outputs": [
    {
     "name": "stdout",
     "output_type": "stream",
     "text": [
      "2\n"
     ]
    }
   ],
   "source": [
    "print(arr1.ndim)"
   ]
  },
  {
   "cell_type": "code",
   "execution_count": 99,
   "id": "b1d862f2",
   "metadata": {},
   "outputs": [
    {
     "name": "stdout",
     "output_type": "stream",
     "text": [
      "9\n"
     ]
    }
   ],
   "source": [
    "print(arr1.size)"
   ]
  },
  {
   "cell_type": "code",
   "execution_count": 100,
   "id": "05f21ac7",
   "metadata": {},
   "outputs": [
    {
     "name": "stdout",
     "output_type": "stream",
     "text": [
      "5\n"
     ]
    }
   ],
   "source": [
    "print(arr1.min())"
   ]
  },
  {
   "cell_type": "code",
   "execution_count": 101,
   "id": "a81e13ab",
   "metadata": {},
   "outputs": [
    {
     "name": "stdout",
     "output_type": "stream",
     "text": [
      "13\n"
     ]
    }
   ],
   "source": [
    "print(arr1.max())"
   ]
  },
  {
   "cell_type": "code",
   "execution_count": 102,
   "id": "7f50bc4e",
   "metadata": {},
   "outputs": [
    {
     "name": "stdout",
     "output_type": "stream",
     "text": [
      "81\n"
     ]
    }
   ],
   "source": [
    "print(arr1.sum())"
   ]
  },
  {
   "cell_type": "code",
   "execution_count": 103,
   "id": "9215eda1",
   "metadata": {},
   "outputs": [
    {
     "name": "stdout",
     "output_type": "stream",
     "text": [
      "2.581988897471611\n"
     ]
    }
   ],
   "source": [
    "print(np.std(arr1))"
   ]
  },
  {
   "cell_type": "code",
   "execution_count": 104,
   "id": "37362c2d",
   "metadata": {},
   "outputs": [
    {
     "data": {
      "text/plain": [
       "2.581988897471611"
      ]
     },
     "execution_count": 104,
     "metadata": {},
     "output_type": "execute_result"
    }
   ],
   "source": [
    "arr1.std()"
   ]
  },
  {
   "cell_type": "code",
   "execution_count": 105,
   "id": "505c1cfc",
   "metadata": {},
   "outputs": [
    {
     "name": "stdout",
     "output_type": "stream",
     "text": [
      "[[2.23606798 2.44948974 2.64575131]\n",
      " [2.82842712 3.         3.16227766]\n",
      " [3.31662479 3.46410162 3.60555128]]\n"
     ]
    }
   ],
   "source": [
    "print(np.sqrt(arr1))"
   ]
  },
  {
   "cell_type": "code",
   "execution_count": 106,
   "id": "595c3037",
   "metadata": {},
   "outputs": [
    {
     "name": "stdout",
     "output_type": "stream",
     "text": [
      "9\n"
     ]
    }
   ],
   "source": [
    "print(arr1.size)"
   ]
  },
  {
   "cell_type": "code",
   "execution_count": 107,
   "id": "80d27185",
   "metadata": {},
   "outputs": [
    {
     "name": "stdout",
     "output_type": "stream",
     "text": [
      "4\n"
     ]
    }
   ],
   "source": [
    "print(arr1.itemsize)"
   ]
  },
  {
   "cell_type": "code",
   "execution_count": 108,
   "id": "f3dfb34c",
   "metadata": {},
   "outputs": [
    {
     "name": "stdout",
     "output_type": "stream",
     "text": [
      "int32\n"
     ]
    }
   ],
   "source": [
    "print(arr1.dtype)"
   ]
  },
  {
   "cell_type": "code",
   "execution_count": 109,
   "id": "491b5951",
   "metadata": {},
   "outputs": [
    {
     "name": "stdout",
     "output_type": "stream",
     "text": [
      "[[0 0 0 0]\n",
      " [0 0 0 0]\n",
      " [0 0 0 0]]\n"
     ]
    }
   ],
   "source": [
    "x =np.empty([3,4],dtype=int)\n",
    "\n",
    "print(x)\n"
   ]
  },
  {
   "cell_type": "code",
   "execution_count": 117,
   "id": "815a542b",
   "metadata": {},
   "outputs": [
    {
     "name": "stdout",
     "output_type": "stream",
     "text": [
      "[[50.         46.36363636 43.33333333 40.76923077]\n",
      " [ 5.          5.23809524  5.45454545  5.65217391]\n",
      " [ 6.66666667  6.77419355  6.875       6.96969697]]\n"
     ]
    }
   ],
   "source": [
    "x =np.empty([3,4],dtype=float)\n",
    "\n",
    "print(x)"
   ]
  },
  {
   "cell_type": "code",
   "execution_count": 118,
   "id": "eb68ca09",
   "metadata": {},
   "outputs": [
    {
     "name": "stdout",
     "output_type": "stream",
     "text": [
      "[[ True  True  True  True]\n",
      " [ True  True  True  True]\n",
      " [ True  True  True  True]]\n"
     ]
    }
   ],
   "source": [
    "x =np.empty([3,4],dtype=bool)\n",
    "\n",
    "print(x)"
   ]
  },
  {
   "cell_type": "code",
   "execution_count": 119,
   "id": "a1e21818",
   "metadata": {},
   "outputs": [
    {
     "name": "stdout",
     "output_type": "stream",
     "text": [
      "[['' '' '' '']\n",
      " ['' '' '' '']\n",
      " ['' '' '' '']]\n"
     ]
    }
   ],
   "source": [
    "x =np.empty([3,4],dtype=str)\n",
    "\n",
    "print(x)"
   ]
  },
  {
   "cell_type": "code",
   "execution_count": null,
   "id": "f03d734e",
   "metadata": {},
   "outputs": [],
   "source": [
    "np.savetxt('Sample.txt',arr1)"
   ]
  },
  {
   "cell_type": "code",
   "execution_count": null,
   "id": "2f822853",
   "metadata": {},
   "outputs": [],
   "source": [
    "np.loadtxt('Sample.txt')"
   ]
  },
  {
   "cell_type": "code",
   "execution_count": null,
   "id": "ce8ac2ee",
   "metadata": {},
   "outputs": [],
   "source": [
    "np.savetxt('Sample.csv',arr2,delimiter=';')\n"
   ]
  },
  {
   "cell_type": "code",
   "execution_count": null,
   "id": "0db49e6b",
   "metadata": {},
   "outputs": [],
   "source": [
    "arr1 = np.arange (9)\n",
    "arr2 = arr1.reshape (3,3)\n",
    "np.savetxt('Sample.txt',arr2)\n",
    "\n",
    "\n",
    "arr3=np.loadtxt('Sample.txt')\n",
    "\n",
    "print (arr3)\n"
   ]
  },
  {
   "cell_type": "code",
   "execution_count": null,
   "id": "de8187dc",
   "metadata": {},
   "outputs": [],
   "source": [
    "np.savetxt ('Sample2.csv',arr2,delimiter = ';' )"
   ]
  },
  {
   "cell_type": "code",
   "execution_count": null,
   "id": "9f568558",
   "metadata": {},
   "outputs": [],
   "source": [
    "arr5=np.loadtxt('Sample.csv', delimiter = ';')\n",
    "\n",
    "print (arr5)\n",
    "\n"
   ]
  },
  {
   "cell_type": "code",
   "execution_count": 120,
   "id": "03229319",
   "metadata": {},
   "outputs": [
    {
     "name": "stdout",
     "output_type": "stream",
     "text": [
      "ALLOW_THREADS\tAxisError\tBUFSIZE\tBytes0\tCLIP\tComplexWarning\tDataSource\tDatetime64\tERR_CALL\tERR_DEFAULT\tERR_IGNORE\tERR_LOG\tERR_PRINT\tERR_RAISE\tERR_WARN\tFLOATING_POINT_SUPPORT\tFPE_DIVIDEBYZERO\tFPE_INVALID\tFPE_OVERFLOW\tFPE_UNDERFLOW\tFalse_\tInf\tInfinity\tMAXDIMS\tMAY_SHARE_BOUNDS\tMAY_SHARE_EXACT\tMachAr\tModuleDeprecationWarning\tNAN\tNINF\tNZERO\tNaN\tPINF\tPZERO\tRAISE\tRankWarning\tSHIFT_DIVIDEBYZERO\tSHIFT_INVALID\tSHIFT_OVERFLOW\tSHIFT_UNDERFLOW\tScalarType\tStr0\tTester\tTooHardError\tTrue_\tUFUNC_BUFSIZE_DEFAULT\tUFUNC_PYVALS_NAME\tUint64\tVisibleDeprecationWarning\tWRAP\t_NoValue\t_UFUNC_API\t__NUMPY_SETUP__\t__all__\t__builtins__\t__cached__\t__config__\t__deprecated_attrs__\t__dir__\t__doc__\t__expired_functions__\t__file__\t__getattr__\t__git_version__\t__loader__\t__mkl_version__\t__name__\t__package__\t__path__\t__spec__\t__version__\t_add_newdoc_ufunc\t_distributor_init\t_financial_names\t_globals\t_mat\t_pytesttester\t_version\tabs\tabsolute\tadd\tadd_docstring\tadd_newdoc\tadd_newdoc_ufunc\talen\tall\tallclose\talltrue\tamax\tamin\tangle\tany\tappend\tapply_along_axis\tapply_over_axes\tarange\tarccos\tarccosh\tarcsin\tarcsinh\tarctan\tarctan2\tarctanh\targmax\targmin\targpartition\targsort\targwhere\taround\tarray\tarray2string\tarray_equal\tarray_equiv\tarray_repr\tarray_split\tarray_str\tasanyarray\tasarray\tasarray_chkfinite\tascontiguousarray\tasfarray\tasfortranarray\tasmatrix\tasscalar\tatleast_1d\tatleast_2d\tatleast_3d\taverage\tbartlett\tbase_repr\tbinary_repr\tbincount\tbitwise_and\tbitwise_not\tbitwise_or\tbitwise_xor\tblackman\tblock\tbmat\tbool8\tbool_\tbroadcast\tbroadcast_arrays\tbroadcast_shapes\tbroadcast_to\tbusday_count\tbusday_offset\tbusdaycalendar\tbyte\tbyte_bounds\tbytes0\tbytes_\tc_\tcan_cast\tcast\tcbrt\tcdouble\tceil\tcfloat\tchar\tcharacter\tchararray\tchoose\tclip\tclongdouble\tclongfloat\tcolumn_stack\tcommon_type\tcompare_chararrays\tcompat\tcomplex128\tcomplex64\tcomplex_\tcomplexfloating\tcompress\tconcatenate\tconj\tconjugate\tconvolve\tcopy\tcopysign\tcopyto\tcore\tcorrcoef\tcorrelate\tcos\tcosh\tcount_nonzero\tcov\tcross\tcsingle\tctypeslib\tcumprod\tcumproduct\tcumsum\tdatetime64\tdatetime_as_string\tdatetime_data\tdeg2rad\tdegrees\tdelete\tdeprecate\tdeprecate_with_doc\tdiag\tdiag_indices\tdiag_indices_from\tdiagflat\tdiagonal\tdiff\tdigitize\tdisp\tdivide\tdivmod\tdot\tdouble\tdsplit\tdstack\tdtype\te\tediff1d\teinsum\teinsum_path\temath\tempty\tempty_like\tequal\terrstate\teuler_gamma\texp\texp2\texpand_dims\texpm1\textract\teye\tfabs\tfastCopyAndTranspose\tfft\tfill_diagonal\tfind_common_type\tfinfo\tfix\tflatiter\tflatnonzero\tflexible\tflip\tfliplr\tflipud\tfloat16\tfloat32\tfloat64\tfloat_\tfloat_power\tfloating\tfloor\tfloor_divide\tfmax\tfmin\tfmod\tformat_float_positional\tformat_float_scientific\tformat_parser\tfrexp\tfrombuffer\tfromfile\tfromfunction\tfromiter\tfrompyfunc\tfromregex\tfromstring\tfull\tfull_like\tgcd\tgeneric\tgenfromtxt\tgeomspace\tget_array_wrap\tget_include\tget_printoptions\tgetbufsize\tgeterr\tgeterrcall\tgeterrobj\tgradient\tgreater\tgreater_equal\thalf\thamming\thanning\theaviside\thistogram\thistogram2d\thistogram_bin_edges\thistogramdd\thsplit\thstack\thypot\ti0\tidentity\tiinfo\timag\tin1d\tindex_exp\tindices\tinexact\tinf\tinfo\tinfty\tinner\tinsert\tint0\tint16\tint32\tint64\tint8\tint_\tintc\tinteger\tinterp\tintersect1d\tintp\tinvert\tis_busday\tisclose\tiscomplex\tiscomplexobj\tisfinite\tisfortran\tisin\tisinf\tisnan\tisnat\tisneginf\tisposinf\tisreal\tisrealobj\tisscalar\tissctype\tissubclass_\tissubdtype\tissubsctype\titerable\tix_\tkaiser\tkron\tlcm\tldexp\tleft_shift\tless\tless_equal\tlexsort\tlib\tlinalg\tlinspace\tlittle_endian\tload\tloads\tloadtxt\tlog\tlog10\tlog1p\tlog2\tlogaddexp\tlogaddexp2\tlogical_and\tlogical_not\tlogical_or\tlogical_xor\tlogspace\tlongcomplex\tlongdouble\tlongfloat\tlonglong\tlookfor\tma\tmafromtxt\tmask_indices\tmat\tmath\tmatmul\tmatrix\tmatrixlib\tmax\tmaximum\tmaximum_sctype\tmay_share_memory\tmean\tmedian\tmemmap\tmeshgrid\tmgrid\tmin\tmin_scalar_type\tminimum\tmintypecode\tmkl\tmod\tmodf\tmoveaxis\tmsort\tmultiply\tnan\tnan_to_num\tnanargmax\tnanargmin\tnancumprod\tnancumsum\tnanmax\tnanmean\tnanmedian\tnanmin\tnanpercentile\tnanprod\tnanquantile\tnanstd\tnansum\tnanvar\tnbytes\tndarray\tndenumerate\tndfromtxt\tndim\tndindex\tnditer\tnegative\tnested_iters\tnewaxis\tnextafter\tnonzero\tnot_equal\tnumarray\tnumber\tobj2sctype\tobject0\tobject_\togrid\toldnumeric\tones\tones_like\tos\touter\tpackbits\tpad\tpartition\tpercentile\tpi\tpiecewise\tplace\tpoly\tpoly1d\tpolyadd\tpolyder\tpolydiv\tpolyfit\tpolyint\tpolymul\tpolynomial\tpolysub\tpolyval\tpositive\tpower\tprintoptions\tprod\tproduct\tpromote_types\tptp\tput\tput_along_axis\tputmask\tquantile\tr_\trad2deg\tradians\trandom\travel\travel_multi_index\treal\treal_if_close\trec\trecarray\trecfromcsv\trecfromtxt\treciprocal\trecord\tremainder\trepeat\trequire\treshape\tresize\tresult_type\tright_shift\trint\troll\trollaxis\troots\trot90\tround\tround_\trow_stack\ts_\tsafe_eval\tsave\tsavetxt\tsavez\tsavez_compressed\tsctype2char\tsctypeDict\tsctypes\tsearchsorted\tselect\tset_numeric_ops\tset_printoptions\tset_string_function\tsetbufsize\tsetdiff1d\tseterr\tseterrcall\tseterrobj\tsetxor1d\tshape\tshares_memory\tshort\tshow_config\tsign\tsignbit\tsignedinteger\tsin\tsinc\tsingle\tsinglecomplex\tsinh\tsize\tsometrue\tsort\tsort_complex\tsource\tspacing\tsplit\tsqrt\tsquare\tsqueeze\tstack\tstd\tstr0\tstr_\tstring_\tsubtract\tsum\tswapaxes\tsys\ttake\ttake_along_axis\ttan\ttanh\ttensordot\ttest\ttesting\ttile\ttimedelta64\ttrace\ttracemalloc_domain\ttranspose\ttrapz\ttri\ttril\ttril_indices\ttril_indices_from\ttrim_zeros\ttriu\ttriu_indices\ttriu_indices_from\ttrue_divide\ttrunc\ttypecodes\ttypename\tubyte\tufunc\tuint\tuint0\tuint16\tuint32\tuint64\tuint8\tuintc\tuintp\tulonglong\tunicode_\tunion1d\tunique\tunpackbits\tunravel_index\tunsignedinteger\tunwrap\tuse_hugepage\tushort\tvander\tvar\tvdot\tvectorize\tversion\tvoid\tvoid0\tvsplit\tvstack\twarnings\twhere\twho\tzeros\tzeros_like\t"
     ]
    }
   ],
   "source": [
    "for name in dir(numpy):\n",
    "    print (name, end = '\\t')   \n",
    "\n"
   ]
  },
  {
   "cell_type": "code",
   "execution_count": 121,
   "id": "167fe276",
   "metadata": {},
   "outputs": [
    {
     "name": "stdout",
     "output_type": "stream",
     "text": [
      "[[  5 -10  -2]\n",
      " [  4   3   9]]\n",
      "2\n"
     ]
    }
   ],
   "source": [
    "arr = np.array([[5,-10,-2],[4,3,9]])\n",
    "\n",
    "print(arr)\n",
    "\n",
    "print(arr.ndim)"
   ]
  },
  {
   "cell_type": "code",
   "execution_count": 122,
   "id": "454d3c11",
   "metadata": {},
   "outputs": [
    {
     "name": "stdout",
     "output_type": "stream",
     "text": [
      "[[  50 -100  -20]\n",
      " [  40   30   90]]\n"
     ]
    }
   ],
   "source": [
    "arr1= arr*10\n",
    "print(arr1)"
   ]
  },
  {
   "cell_type": "code",
   "execution_count": 123,
   "id": "609fd76a",
   "metadata": {},
   "outputs": [
    {
     "name": "stdout",
     "output_type": "stream",
     "text": [
      "[[  55 -110  -22]\n",
      " [  44   33   99]]\n"
     ]
    }
   ],
   "source": [
    "print(arr+arr1)"
   ]
  },
  {
   "cell_type": "code",
   "execution_count": 124,
   "id": "d63df6f4",
   "metadata": {},
   "outputs": [
    {
     "name": "stdout",
     "output_type": "stream",
     "text": [
      "int32\n"
     ]
    }
   ],
   "source": [
    "print(arr1.dtype)"
   ]
  },
  {
   "cell_type": "code",
   "execution_count": 125,
   "id": "52edcd9b",
   "metadata": {},
   "outputs": [
    {
     "name": "stdout",
     "output_type": "stream",
     "text": [
      "(2, 3)\n"
     ]
    }
   ],
   "source": [
    "print(arr1.shape)"
   ]
  },
  {
   "cell_type": "code",
   "execution_count": 126,
   "id": "727b94e3",
   "metadata": {},
   "outputs": [
    {
     "name": "stdout",
     "output_type": "stream",
     "text": [
      "[6.  7.5 8.  0.  1. ]\n"
     ]
    }
   ],
   "source": [
    "data= [6,7.5,8,0,1]\n",
    "arr2 =np.array(data)\n",
    "print(arr2)"
   ]
  },
  {
   "cell_type": "code",
   "execution_count": 127,
   "id": "31b137c0",
   "metadata": {},
   "outputs": [
    {
     "name": "stdout",
     "output_type": "stream",
     "text": [
      "<class 'numpy.ndarray'>\n"
     ]
    }
   ],
   "source": [
    "print(type(arr2))"
   ]
  },
  {
   "cell_type": "code",
   "execution_count": 128,
   "id": "90ae6a7a",
   "metadata": {},
   "outputs": [
    {
     "name": "stdout",
     "output_type": "stream",
     "text": [
      "[[ 2  3  5]\n",
      " [ 5  9 10]]\n",
      "(2, 3)\n",
      "2\n"
     ]
    }
   ],
   "source": [
    "data = np.array([[2,3,5],[5,9,10]])\n",
    "\n",
    "print(data)\n",
    "\n",
    "print(data.shape)\n",
    "\n",
    "print(data.ndim)"
   ]
  },
  {
   "cell_type": "code",
   "execution_count": 129,
   "id": "c3dda524",
   "metadata": {},
   "outputs": [
    {
     "name": "stdout",
     "output_type": "stream",
     "text": [
      "[[10  9  8  7]\n",
      " [ 6  5  4  3]]\n",
      "2\n"
     ]
    }
   ],
   "source": [
    "data1 = [[10,9,8,7],[6,5,4,3,]]\n",
    "\n",
    "data2 = np.array(data1)\n",
    "\n",
    "print(data2)\n",
    "\n",
    "print(data2.ndim)\n"
   ]
  },
  {
   "cell_type": "code",
   "execution_count": 130,
   "id": "9a4839af",
   "metadata": {
    "scrolled": true
   },
   "outputs": [
    {
     "name": "stdout",
     "output_type": "stream",
     "text": [
      "[0. 0. 0. 0. 0. 0. 0. 0. 0. 0. 0. 0. 0. 0. 0. 0. 0. 0. 0. 0. 0. 0. 0. 0.\n",
      " 0. 0. 0. 0. 0. 0. 0. 0. 0. 0. 0. 0. 0. 0. 0. 0. 0. 0. 0. 0. 0. 0. 0. 0.\n",
      " 0. 0.]\n"
     ]
    }
   ],
   "source": [
    "ar = np.zeros(50)\n",
    "\n",
    "print(ar)"
   ]
  },
  {
   "cell_type": "code",
   "execution_count": 134,
   "id": "e0f1b596",
   "metadata": {},
   "outputs": [
    {
     "name": "stdout",
     "output_type": "stream",
     "text": [
      "[[0. 0. 0.]\n",
      " [0. 0. 0.]\n",
      " [0. 0. 0.]\n",
      " [0. 0. 0.]\n",
      " [0. 0. 0.]] \n",
      "\n",
      "float64\n"
     ]
    }
   ],
   "source": [
    "arr = np.zeros((5,3))\n",
    "\n",
    "print(arr,'\\n')\n",
    "\n",
    "print(arr.dtype)"
   ]
  },
  {
   "cell_type": "code",
   "execution_count": 135,
   "id": "e457b5a6",
   "metadata": {},
   "outputs": [
    {
     "name": "stdout",
     "output_type": "stream",
     "text": [
      "[0. 0. 0. 0. 0. 0. 0. 0. 0.]\n",
      "[[0. 0. 0.]\n",
      " [0. 0. 0.]\n",
      " [0. 0. 0.]]\n"
     ]
    }
   ],
   "source": [
    "ar = np.zeros(9)\n",
    "arr1 =ar.reshape(3,3)\n",
    "\n",
    "\n",
    "print(ar)\n",
    "print(arr1)"
   ]
  },
  {
   "cell_type": "code",
   "execution_count": 170,
   "id": "bd2b34a6",
   "metadata": {},
   "outputs": [
    {
     "name": "stdout",
     "output_type": "stream",
     "text": [
      "[[[50.         46.36363636]\n",
      "  [43.33333333 40.76923077]\n",
      "  [ 5.          5.23809524]]\n",
      "\n",
      " [[ 5.45454545  5.65217391]\n",
      "  [ 6.66666667  6.77419355]\n",
      "  [ 6.875       6.96969697]]]\n",
      "float64\n"
     ]
    }
   ],
   "source": [
    "arr3= np.empty((2, 3, 2))\n",
    "\n",
    "\n",
    "print (arr3)\n",
    "print (arr3.dtype)\n"
   ]
  },
  {
   "cell_type": "code",
   "execution_count": 171,
   "id": "2bb47a27",
   "metadata": {},
   "outputs": [
    {
     "name": "stdout",
     "output_type": "stream",
     "text": [
      "[[[0 0]\n",
      "  [0 0]\n",
      "  [0 0]]\n",
      "\n",
      " [[0 0]\n",
      "  [0 0]\n",
      "  [0 0]]]\n",
      "int32\n"
     ]
    }
   ],
   "source": [
    "arr3= np.empty((2, 3, 2),dtype=int)\n",
    "\n",
    "\n",
    "print (arr3)\n",
    "print (arr3.dtype)\n"
   ]
  },
  {
   "cell_type": "code",
   "execution_count": 173,
   "id": "0d61c296",
   "metadata": {},
   "outputs": [
    {
     "name": "stdout",
     "output_type": "stream",
     "text": [
      "[ 0  1  2  3  4  5  6  7  8  9 10 11 12 13 14]\n"
     ]
    }
   ],
   "source": [
    "rang =np.arange(15)\n",
    "\n",
    "print(rang)"
   ]
  },
  {
   "cell_type": "code",
   "execution_count": 178,
   "id": "49cbb966",
   "metadata": {},
   "outputs": [
    {
     "name": "stdout",
     "output_type": "stream",
     "text": [
      "[10, 20, 30]\n",
      "[10 50 30]\n"
     ]
    }
   ],
   "source": [
    "list1= [10,20,30]\n",
    "arr1=  np.array(list1)\n",
    "\n",
    "arr1[1] =50\n",
    "print (list1)\n",
    "\n",
    "print (arr1)\n",
    "\n"
   ]
  },
  {
   "cell_type": "code",
   "execution_count": null,
   "id": "4655dd8c",
   "metadata": {},
   "outputs": [],
   "source": []
  },
  {
   "cell_type": "code",
   "execution_count": 181,
   "id": "334d1e7a",
   "metadata": {},
   "outputs": [
    {
     "name": "stdout",
     "output_type": "stream",
     "text": [
      "[10, 20, 30]\n",
      "[ 10 500  30]\n",
      "[ 10 500  30]\n"
     ]
    }
   ],
   "source": [
    "list1= [10,20,30]\n",
    "arr1=  np.array(list1)\n",
    "arr2 =np.asarray(arr1)\n",
    "\n",
    "arr2[1] =500\n",
    "\n",
    "print (list1)\n",
    "print (arr1)\n",
    "print (arr2)\n"
   ]
  },
  {
   "cell_type": "code",
   "execution_count": 189,
   "id": "eb3a7190",
   "metadata": {},
   "outputs": [
    {
     "name": "stdout",
     "output_type": "stream",
     "text": [
      "[10, 20, 30]\n",
      "[10 20 30]\n",
      "[ 10 100  30]\n"
     ]
    }
   ],
   "source": [
    "list1= [10,20,30]\n",
    "arr11=  np.array(list1)\n",
    "arr12 =np.copy(arr11)\n",
    "\n",
    "arr12[1] =100\n",
    "\n",
    "print (list1)\n",
    "print (arr11)\n",
    "print (arr12)\n"
   ]
  },
  {
   "cell_type": "code",
   "execution_count": 190,
   "id": "88ef71bc",
   "metadata": {},
   "outputs": [
    {
     "name": "stdout",
     "output_type": "stream",
     "text": [
      "[[ 0  1  2  3  4  5  6  7  8  9]\n",
      " [10 11 12 13 14 15 16 17 18 19]\n",
      " [20 21 22 23 24 25 26 27 28 29]] \n",
      "\n",
      "[[1 1 1 1 1 1 1 1 1 1]\n",
      " [1 1 1 1 1 1 1 1 1 1]\n",
      " [1 1 1 1 1 1 1 1 1 1]]\n"
     ]
    }
   ],
   "source": [
    "a= np.arange(30)\n",
    "a=a.reshape(3,10)\n",
    "\n",
    "print (a,'\\n')\n",
    "\n",
    "x=np.ones_like(a)\n",
    "\n",
    "print (x)\n"
   ]
  },
  {
   "cell_type": "code",
   "execution_count": 192,
   "id": "f89a64c0",
   "metadata": {},
   "outputs": [
    {
     "name": "stdout",
     "output_type": "stream",
     "text": [
      "[['A' 'B' 'C']\n",
      " ['X' 'Y' 'Z']]\n",
      "[['1' '1' '1']\n",
      " ['1' '1' '1']]\n"
     ]
    }
   ],
   "source": [
    "st1 = np.array ([['A','B','C'], ['X','Y','Z']])\n",
    "print (st1)\n",
    "\n",
    "st2= np.ones_like(st1)\n",
    "print (st2)\n"
   ]
  },
  {
   "cell_type": "code",
   "execution_count": 193,
   "id": "c3b0850e",
   "metadata": {},
   "outputs": [
    {
     "name": "stdout",
     "output_type": "stream",
     "text": [
      "[[ 0  1  2  3  4  5  6  7  8  9]\n",
      " [10 11 12 13 14 15 16 17 18 19]\n",
      " [20 21 22 23 24 25 26 27 28 29]]\n",
      "[[0 0 0 0 0 0 0 0 0 0]\n",
      " [0 0 0 0 0 0 0 0 0 0]\n",
      " [0 0 0 0 0 0 0 0 0 0]]\n"
     ]
    }
   ],
   "source": [
    "a= np.arange(30)\n",
    "a=a.reshape(3,10)\n",
    "\n",
    "print (a)\n",
    "\n",
    "x=np.zeros_like(a)\n",
    "\n",
    "print (x)\n"
   ]
  },
  {
   "cell_type": "code",
   "execution_count": 194,
   "id": "902d0469",
   "metadata": {},
   "outputs": [
    {
     "name": "stdout",
     "output_type": "stream",
     "text": [
      "[[2.12199579e-314 6.36598737e-314]\n",
      " [1.06099790e-313 1.48539705e-313]\n",
      " [1.90979621e-313 2.33419537e-313]\n",
      " [2.75859453e-313 3.18299369e-313]\n",
      " [3.60739285e-313 4.03179200e-313]]\n"
     ]
    }
   ],
   "source": [
    "x = np.empty ([5,2])\n",
    "\n",
    "print (x)\n"
   ]
  },
  {
   "cell_type": "code",
   "execution_count": 195,
   "id": "a1744171",
   "metadata": {},
   "outputs": [
    {
     "name": "stdout",
     "output_type": "stream",
     "text": [
      "[[621007248       407         0]\n",
      " [        0         1         0]]\n"
     ]
    }
   ],
   "source": [
    "\n",
    "a = ([1,2,3], [4,5,6]) \n",
    "x= np.empty_like(a)\n",
    "\n",
    "\n",
    "print (x)\n"
   ]
  },
  {
   "cell_type": "code",
   "execution_count": 196,
   "id": "9acfe27d",
   "metadata": {},
   "outputs": [
    {
     "name": "stdout",
     "output_type": "stream",
     "text": [
      "[[620309936       407         0]\n",
      " [        0    131074         0]]\n"
     ]
    }
   ],
   "source": [
    "\n",
    "a = ([1,2,3], [4,5,6]) \n",
    "x= np.empty_like(a)\n",
    "print (x)\n",
    "\n"
   ]
  },
  {
   "cell_type": "code",
   "execution_count": 197,
   "id": "dac3c7dc",
   "metadata": {},
   "outputs": [
    {
     "name": "stdout",
     "output_type": "stream",
     "text": [
      "[[1 0 0 0 0]\n",
      " [0 1 0 0 0]\n",
      " [0 0 1 0 0]\n",
      " [0 0 0 1 0]\n",
      " [0 0 0 0 1]]\n"
     ]
    }
   ],
   "source": [
    "a = np.eye(5,dtype=int)\n",
    "\n",
    "print(a)"
   ]
  },
  {
   "cell_type": "code",
   "execution_count": 198,
   "id": "458e66aa",
   "metadata": {},
   "outputs": [
    {
     "name": "stdout",
     "output_type": "stream",
     "text": [
      "[[1 0 0 0 0 0 0 0 0 0]\n",
      " [0 1 0 0 0 0 0 0 0 0]\n",
      " [0 0 1 0 0 0 0 0 0 0]\n",
      " [0 0 0 1 0 0 0 0 0 0]\n",
      " [0 0 0 0 1 0 0 0 0 0]\n",
      " [0 0 0 0 0 1 0 0 0 0]\n",
      " [0 0 0 0 0 0 1 0 0 0]\n",
      " [0 0 0 0 0 0 0 1 0 0]\n",
      " [0 0 0 0 0 0 0 0 1 0]\n",
      " [0 0 0 0 0 0 0 0 0 1]]\n"
     ]
    }
   ],
   "source": [
    "a = np.eye(10,dtype=int)\n",
    "\n",
    "print(a)"
   ]
  },
  {
   "cell_type": "code",
   "execution_count": 199,
   "id": "22aa2c01",
   "metadata": {},
   "outputs": [
    {
     "name": "stdout",
     "output_type": "stream",
     "text": [
      "[[1. 0. 0. 0.]\n",
      " [0. 1. 0. 0.]\n",
      " [0. 0. 1. 0.]\n",
      " [0. 0. 0. 1.]]\n"
     ]
    }
   ],
   "source": [
    "b  = np.eye(4,dtype=float)\n",
    "\n",
    "print(b)"
   ]
  },
  {
   "cell_type": "code",
   "execution_count": 202,
   "id": "605f7db1",
   "metadata": {},
   "outputs": [
    {
     "name": "stdout",
     "output_type": "stream",
     "text": [
      "[[1. 0. 0. 0. 0.]\n",
      " [0. 1. 0. 0. 0.]\n",
      " [0. 0. 1. 0. 0.]\n",
      " [0. 0. 0. 1. 0.]\n",
      " [0. 0. 0. 0. 1.]]\n"
     ]
    }
   ],
   "source": [
    "a = np.eye(5)\n",
    "\n",
    "print(a)"
   ]
  },
  {
   "cell_type": "code",
   "execution_count": 203,
   "id": "f73c48e4",
   "metadata": {},
   "outputs": [
    {
     "name": "stdout",
     "output_type": "stream",
     "text": [
      "[1. 2. 3.]\n",
      "float64\n",
      ">>>>>>>>>>>>>>\n",
      "[1 2 3]\n",
      "int32\n"
     ]
    }
   ],
   "source": [
    "ar = np.array([1,2,3],dtype=np.float64)\n",
    "ar1 = np.array([1,2,3],dtype=np.int32)\n",
    "\n",
    "print(ar)\n",
    "print(ar.dtype)\n",
    "\n",
    "print('>>>>>>>>>>>>>>')\n",
    "\n",
    "print(ar1)\n",
    "print(ar1.dtype)"
   ]
  },
  {
   "cell_type": "code",
   "execution_count": 205,
   "id": "b4295623",
   "metadata": {},
   "outputs": [
    {
     "name": "stdout",
     "output_type": "stream",
     "text": [
      "[1 2 3 4 5]\n",
      "int32\n",
      "\n",
      "\n",
      "[1. 2. 3. 4. 5.]\n",
      "float64\n"
     ]
    }
   ],
   "source": [
    "arr = np.array([1, 2, 3, 4, 5]) \n",
    "\n",
    "\n",
    "print (arr)\n",
    "print (arr.dtype)\n",
    "print ('\\n')\n",
    "\n",
    "float_arr = arr.astype(np.float64) \n",
    "print (float_arr)\n",
    "print (float_arr.dtype)\n"
   ]
  },
  {
   "cell_type": "code",
   "execution_count": 206,
   "id": "d62e076d",
   "metadata": {
    "scrolled": true
   },
   "outputs": [
    {
     "name": "stdout",
     "output_type": "stream",
     "text": [
      "[b'1' b'5' b'3' b'-9.5' b'10.15']\n",
      "<class 'numpy.ndarray'>\n"
     ]
    }
   ],
   "source": [
    "str_ar = np.array([1,5,3,-9.5,10.15],dtype=np.string_)\n",
    "\n",
    "print(str_ar)\n",
    "\n",
    "print(type(str_ar))"
   ]
  },
  {
   "cell_type": "code",
   "execution_count": 207,
   "id": "4b0c9a9a",
   "metadata": {},
   "outputs": [
    {
     "name": "stdout",
     "output_type": "stream",
     "text": [
      "[b'1.25' b'-9.6' b'42']\n",
      "|S4\n",
      "\n",
      "\n",
      "[ 1.25 -9.6  42.  ]\n",
      "float64\n",
      "\n",
      "\n",
      "[ True  True  True]\n"
     ]
    }
   ],
   "source": [
    "numeric_strings = np.array(['1.25','-9.6','42'], dtype=np.string_)\n",
    "\n",
    "print (numeric_strings)\n",
    "print (numeric_strings.dtype)\n",
    "\n",
    "print ('\\n')\n",
    "float_values = numeric_strings.astype(float)\n",
    "print (float_values)\n",
    "print (float_values.dtype)\n",
    "\n",
    "\n",
    "print('\\n')\n",
    "bool_values=float_values.astype(bool)\n",
    "print(bool_values)"
   ]
  },
  {
   "cell_type": "code",
   "execution_count": 208,
   "id": "7fbcb923",
   "metadata": {},
   "outputs": [
    {
     "name": "stdout",
     "output_type": "stream",
     "text": [
      "[ 3.7 -1.2 -2.6  0.5 12.9 10.1]\n",
      "float64\n",
      "\n",
      "\n",
      "[ 3 -1 -2  0 12 10]\n",
      "int32\n",
      "\n",
      "\n"
     ]
    }
   ],
   "source": [
    "arr = np.array([3.7, -1.2,-2.6,0.5,12.9,10.1])\n",
    "\n",
    "\n",
    "print (arr)\n",
    "print (arr.dtype)\n",
    "print ('\\n')\n",
    "\n",
    "arr =arr.astype(np.int32)\n",
    "print (arr)\n",
    "print (arr.dtype)\n",
    "print ('\\n')\n"
   ]
  },
  {
   "cell_type": "code",
   "execution_count": 209,
   "id": "0ab6e265",
   "metadata": {},
   "outputs": [
    {
     "name": "stdout",
     "output_type": "stream",
     "text": [
      "[0 1 2 3 4 5 6 7 8 9]\n",
      "int32\n",
      "\n",
      "\n",
      "[[0 1]\n",
      " [2 3]\n",
      " [4 5]\n",
      " [6 7]\n",
      " [8 9]]\n",
      "\n",
      "\n",
      "[0. 1. 2. 3. 4. 5. 6. 7. 8. 9.]\n",
      "float64\n",
      "\n",
      "\n"
     ]
    }
   ],
   "source": [
    "int_array = np.arange(10)\n",
    "\n",
    "print (int_array)\n",
    "print (int_array.dtype)\n",
    "print ('\\n')\n",
    "\n",
    "int_re =int_array.reshape((5,2))\n",
    "\n",
    "\n",
    "print(int_re)\n",
    "print ('\\n')\n",
    "float_array = np.array([.22, .270, .357, .380, .44, .50], dtype=np.float64)\n",
    "\n",
    "\n",
    "# Converting to another array type \n",
    "int_array=int_array.astype (float_array.dtype)\n",
    "\n",
    "\n",
    "print (int_array)\n",
    "print (int_array.dtype)\n",
    "print ('\\n')\n"
   ]
  },
  {
   "cell_type": "code",
   "execution_count": 210,
   "id": "19b74316",
   "metadata": {},
   "outputs": [
    {
     "name": "stdout",
     "output_type": "stream",
     "text": [
      "[1 3 5 6 8]\n",
      "5\n"
     ]
    }
   ],
   "source": [
    "arr = np.array([5,3,1,8,6])\n",
    "\n",
    "print(np.sort(arr))\n",
    "\n",
    "print(len(arr))\n",
    "\n"
   ]
  },
  {
   "cell_type": "code",
   "execution_count": 211,
   "id": "4c801022",
   "metadata": {
    "scrolled": true
   },
   "outputs": [
    {
     "name": "stdout",
     "output_type": "stream",
     "text": [
      "[[3 2 4]\n",
      " [5 0 1]]\n",
      "\n",
      "\n",
      "[[3 0 1]\n",
      " [5 2 4]]\n",
      "\n",
      "\n",
      "[[2 3 4]\n",
      " [0 1 5]]\n",
      "\n",
      "\n"
     ]
    }
   ],
   "source": [
    "arr = np.array([[3, 2, 4], [5, 0, 1]])\n",
    "\n",
    "print (arr)\n",
    "print('\\n')\n",
    "\n",
    "print (np.sort(arr, axis = 0))\n",
    "print('\\n')\n",
    "\n",
    "print (np.sort(arr, axis = 1))\n",
    "print('\\n')"
   ]
  },
  {
   "cell_type": "code",
   "execution_count": 212,
   "id": "6a8edd35",
   "metadata": {},
   "outputs": [
    {
     "data": {
      "text/plain": [
       "array([[3, 2, 4],\n",
       "       [5, 0, 1]])"
      ]
     },
     "execution_count": 212,
     "metadata": {},
     "output_type": "execute_result"
    }
   ],
   "source": [
    "arr"
   ]
  },
  {
   "cell_type": "code",
   "execution_count": 214,
   "id": "93d9112f",
   "metadata": {},
   "outputs": [
    {
     "name": "stdout",
     "output_type": "stream",
     "text": [
      "[[0.47678943 0.3863524  0.9931961  0.56873365 0.75998392]\n",
      " [0.76244166 0.74591146 0.10396604 0.01193031 0.20610676]\n",
      " [0.75682641 0.69885864 0.1380087  0.45810246 0.09308898]\n",
      " [0.84839488 0.54595018 0.97151971 0.49929753 0.14450047]\n",
      " [0.84471452 0.29849203 0.4220266  0.6126469  0.2720913 ]]\n"
     ]
    }
   ],
   "source": [
    "random = np.random.random((5,5))\n",
    "print(random)"
   ]
  },
  {
   "cell_type": "markdown",
   "id": "d193e364",
   "metadata": {},
   "source": []
  },
  {
   "cell_type": "code",
   "execution_count": 215,
   "id": "debb904c",
   "metadata": {},
   "outputs": [
    {
     "name": "stdout",
     "output_type": "stream",
     "text": [
      "[[1 2 3 4]\n",
      " [5 6 7 8]]\n",
      "2\n",
      "(2, 4)\n"
     ]
    }
   ],
   "source": [
    "data2 = [[1, 2,3, 4], [5,6,7, 8]]\n",
    "arr2 = np.array(data2)\n",
    "\n",
    "\n",
    "print (arr2)\n",
    "print (arr2.ndim)\n",
    "print (arr2.shape)\n",
    "\n"
   ]
  }
 ],
 "metadata": {
  "kernelspec": {
   "display_name": "Python 3 (ipykernel)",
   "language": "python",
   "name": "python3"
  },
  "language_info": {
   "codemirror_mode": {
    "name": "ipython",
    "version": 3
   },
   "file_extension": ".py",
   "mimetype": "text/x-python",
   "name": "python",
   "nbconvert_exporter": "python",
   "pygments_lexer": "ipython3",
   "version": "3.9.12"
  }
 },
 "nbformat": 4,
 "nbformat_minor": 5
}
