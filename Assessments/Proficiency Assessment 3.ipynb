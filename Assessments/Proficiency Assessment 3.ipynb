{
 "cells": [
  {
   "cell_type": "code",
   "execution_count": 14,
   "id": "885d27b4",
   "metadata": {},
   "outputs": [
    {
     "name": "stdout",
     "output_type": "stream",
     "text": [
      "3\n",
      "4\n"
     ]
    }
   ],
   "source": [
    "#Write a Python program to count the number 4 in a given list.  \n",
    "\n",
    "\n",
    "def number_count(nums):\n",
    "    count = 0\n",
    "    for num in nums:\n",
    "        if num == 4:\n",
    "            count= count +1\n",
    "        \n",
    "    return count\n",
    "\n",
    "print(number_count([0,1,2,3,4,5,4,58,4]))\n",
    "print(number_count([0,1,4,'susi',3,4,5,4,7,4,'sma']))"
   ]
  },
  {
   "cell_type": "code",
   "execution_count": 33,
   "id": "9a936f53",
   "metadata": {},
   "outputs": [
    {
     "name": "stdout",
     "output_type": "stream",
     "text": [
      "2\n",
      "3\n"
     ]
    }
   ],
   "source": [
    "\n",
    "def list_count_4(nums):\n",
    "    \n",
    "    count = 0\n",
    "    for num in nums:\n",
    "        if num == 4:\n",
    "            count += 1\n",
    "\n",
    "    return count\n",
    "\n",
    "\n",
    "print(list_count_4([1, 4, 6, 7, 4]))\n",
    "print(list_count_4([1, 4, 6, 4, 7, 4]))\n"
   ]
  },
  {
   "cell_type": "code",
   "execution_count": 34,
   "id": "72fad4f4",
   "metadata": {},
   "outputs": [
    {
     "name": "stdout",
     "output_type": "stream",
     "text": [
      "True\n",
      "False\n"
     ]
    }
   ],
   "source": [
    "# Write a Python program to test whether a passed letter is a vowel or not.  \n",
    "\n",
    "\n",
    "def vowel (latter):\n",
    "    all_vowel = 'aeiou'\n",
    "    return latter in all_vowel\n",
    "\n",
    "print(vowel('a'))\n",
    "print(vowel('s'))"
   ]
  },
  {
   "cell_type": "code",
   "execution_count": 77,
   "id": "ddfcf776",
   "metadata": {},
   "outputs": [
    {
     "name": "stdout",
     "output_type": "stream",
     "text": [
      "True\n",
      "False\n"
     ]
    }
   ],
   "source": [
    "#3. Write a Python program to check whether a specified value is contained in a group of values.  \n",
    "#Test Data :\n",
    "#3 -> [1, 5, 8, 3] : True\n",
    "#-1 -> [1, 5, 8, 3] : False\n",
    "\n",
    "\n",
    "def group (data, a):\n",
    "    for value in data:\n",
    "        if a == value:\n",
    "            return True\n",
    "        return False\n",
    "\n",
    "print(is_group_member([1, 5, 8, 3], 3))\n",
    "print(group([1,2,5,2,8],-1))\n",
    "\n",
    "    "
   ]
  },
  {
   "cell_type": "code",
   "execution_count": 68,
   "id": "83755557",
   "metadata": {},
   "outputs": [
    {
     "name": "stdout",
     "output_type": "stream",
     "text": [
      "True\n",
      "False\n"
     ]
    }
   ],
   "source": [
    "def is_group_member(group_data, n):\n",
    "    for value in group_data:\n",
    "        if n == value:\n",
    "            return True\n",
    "    return False\n",
    "\n",
    "print(is_group_member([1, 5, 8, 3], 1))\n",
    "print(is_group_member([5, 8, 3], -1))\n"
   ]
  },
  {
   "cell_type": "code",
   "execution_count": 79,
   "id": "261cdde7",
   "metadata": {},
   "outputs": [
    {
     "name": "stdout",
     "output_type": "stream",
     "text": [
      "@\n",
      "@@\n",
      "@@@\n",
      "@@@@\n",
      "@@@@@\n",
      "None\n"
     ]
    }
   ],
   "source": [
    "#Write a Python program to create a histogram from a given list of integers. \n",
    "\n",
    "def histogram (items):\n",
    "    for n in items:\n",
    "        output = ''\n",
    "        times = n\n",
    "        while(times>0):\n",
    "            output +='@'\n",
    "            times -=1\n",
    "        print(output)\n",
    "            \n",
    "print(histogram([1,2,3,4,5]))\n",
    "            \n",
    "            "
   ]
  },
  {
   "cell_type": "code",
   "execution_count": 84,
   "id": "faec94a1",
   "metadata": {},
   "outputs": [
    {
     "name": "stdout",
     "output_type": "stream",
     "text": [
      "@@\n",
      "@@@\n",
      "@@@@@@\n",
      "@@@@@\n",
      "None\n"
     ]
    }
   ],
   "source": [
    "def histogram (items):\n",
    "    for n in items:\n",
    "        output = ''\n",
    "        times = n\n",
    "        while(times>0):\n",
    "            output +='@'\n",
    "            times -=1\n",
    "        print(output)\n",
    "            \n",
    "print(histogram([2,3,6,5]))"
   ]
  },
  {
   "cell_type": "code",
   "execution_count": 90,
   "id": "eefda561",
   "metadata": {},
   "outputs": [
    {
     "name": "stdout",
     "output_type": "stream",
     "text": [
      "string list > 1246\n"
     ]
    }
   ],
   "source": [
    "# 5.Write a Python program to concatenate all elements in a list into a string and return it. \n",
    "\n",
    "def concatenate_list (list):\n",
    "    result = ''\n",
    "    for element in list:\n",
    "        result +=str(element)\n",
    "    return result\n",
    "\n",
    "print('string list >',concatenate_list([1,2,4,6]))"
   ]
  },
  {
   "cell_type": "code",
   "execution_count": 99,
   "id": "711d200f",
   "metadata": {},
   "outputs": [
    {
     "name": "stdout",
     "output_type": "stream",
     "text": [
      "Enter the base : 5\n",
      "Enter the hight : 5\n",
      "Area is :  12.5\n"
     ]
    }
   ],
   "source": [
    "#Write a Python program that will accept the base and height of a triangle and compute the area. \n",
    "\n",
    "base =int(input(\"Enter the base : \"))\n",
    "hight =int(input(\"Enter the hight : \"))\n",
    "\n",
    "area = base*hight/2\n",
    "\n",
    "print(\"Area is : \",area)"
   ]
  },
  {
   "cell_type": "code",
   "execution_count": 102,
   "id": "5dc757b3",
   "metadata": {},
   "outputs": [
    {
     "name": "stdout",
     "output_type": "stream",
     "text": [
      "0\n",
      "9\n",
      "0\n",
      "0\n",
      "0\n",
      "6\n",
      "12\n"
     ]
    }
   ],
   "source": [
    "#Write a Python program to sum of three given integers.\n",
    "#However, if two values are equal sum will be zero. \n",
    "\n",
    "def sum (x,y,z):\n",
    "    if x==y or y==z or x==z:\n",
    "        sum = 0\n",
    "    else:\n",
    "        sum = x+y+z\n",
    "    return sum\n",
    "\n",
    "print (sum(2,2,2))\n",
    "print (sum(2,4,3))\n",
    "print(sum(2, 1, 2))\n",
    "print(sum(3, 2, 2))\n",
    "print(sum(2, 2, 2))\n",
    "print(sum(1, 2, 3)) \n",
    "print(sum(5, 4, 3)) \n"
   ]
  },
  {
   "cell_type": "code",
   "execution_count": 113,
   "id": "f9f26047",
   "metadata": {},
   "outputs": [
    {
     "name": "stdout",
     "output_type": "stream",
     "text": [
      "20\n",
      "12\n",
      "21\n"
     ]
    }
   ],
   "source": [
    "def sum (x,y):\n",
    "    sum = x+y\n",
    "    if sum in range (15,20):\n",
    "        return 20\n",
    "    else:\n",
    "        return sum\n",
    "\n",
    "print(sum(10,6))\n",
    "print(sum(10,2))\n",
    "print(sum(10,11))"
   ]
  },
  {
   "cell_type": "code",
   "execution_count": 122,
   "id": "09025270",
   "metadata": {},
   "outputs": [
    {
     "name": "stdout",
     "output_type": "stream",
     "text": [
      "X is :10\n",
      "Y is :8\n",
      "Total is 20\n"
     ]
    }
   ],
   "source": [
    "#Write a Python program to sum of two given integers.\n",
    "#However, if the sum is between 15 to 20 it will return 20.  \n",
    "\n",
    "def sum(x, y):\n",
    "    sum = x + y\n",
    "    if sum in range(15, 20):\n",
    "        return 20\n",
    "    else:\n",
    "        return sum\n",
    "\n",
    "x= int(input(\"X is :\"))\n",
    "y= int(input(\"Y is :\"))\n",
    "print(\"Total is\",sum(x,y))"
   ]
  },
  {
   "cell_type": "code",
   "execution_count": 129,
   "id": "6a8fa174",
   "metadata": {},
   "outputs": [
    {
     "name": "stdout",
     "output_type": "stream",
     "text": [
      "True\n",
      "True\n",
      "False\n",
      "False\n"
     ]
    }
   ],
   "source": [
    "#Write a Python program that will return true if the two given integer values are equal or their sum or difference is 5.  \n",
    "\n",
    "def test_number (x,y):\n",
    "    if x==y or abs (x-y)==5 or (x+y)==5:\n",
    "        return True\n",
    "    else:\n",
    "        return False\n",
    "print(test_number(7,2))\n",
    "print(test_number(3,2))\n",
    "print(test_number(27, 53))\n",
    "print(test_number(7, 3))"
   ]
  },
  {
   "cell_type": "code",
   "execution_count": 135,
   "id": "2c4d3fb4",
   "metadata": {},
   "outputs": [
    {
     "name": "stdout",
     "output_type": "stream",
     "text": [
      "6.324555320336759\n"
     ]
    }
   ],
   "source": [
    "#10. Write a Python program to compute the distance between the points (x1, y1) and (x2, y2). \n",
    "\n",
    "import math \n",
    "x1 = [4,0]\n",
    "x2 = [6,6]\n",
    "distance = math.sqrt( ((x1[0]-x2[0])**2)+((x1[1]-x2[1])**2) )\n",
    "\n",
    "print(distance)"
   ]
  },
  {
   "cell_type": "code",
   "execution_count": 137,
   "id": "25017ff7",
   "metadata": {},
   "outputs": [
    {
     "data": {
      "text/plain": [
       "-32"
      ]
     },
     "execution_count": 137,
     "metadata": {},
     "output_type": "execute_result"
    }
   ],
   "source": [
    "4-6**2"
   ]
  },
  {
   "cell_type": "code",
   "execution_count": 138,
   "id": "fda8ec42",
   "metadata": {},
   "outputs": [
    {
     "data": {
      "text/plain": [
       "-36"
      ]
     },
     "execution_count": 138,
     "metadata": {},
     "output_type": "execute_result"
    }
   ],
   "source": [
    "0-6**2"
   ]
  },
  {
   "cell_type": "code",
   "execution_count": 139,
   "id": "3cbfe174",
   "metadata": {},
   "outputs": [
    {
     "data": {
      "text/plain": [
       "-68"
      ]
     },
     "execution_count": 139,
     "metadata": {},
     "output_type": "execute_result"
    }
   ],
   "source": [
    "-32+-36"
   ]
  }
 ],
 "metadata": {
  "kernelspec": {
   "display_name": "Python 3 (ipykernel)",
   "language": "python",
   "name": "python3"
  },
  "language_info": {
   "codemirror_mode": {
    "name": "ipython",
    "version": 3
   },
   "file_extension": ".py",
   "mimetype": "text/x-python",
   "name": "python",
   "nbconvert_exporter": "python",
   "pygments_lexer": "ipython3",
   "version": "3.9.12"
  }
 },
 "nbformat": 4,
 "nbformat_minor": 5
}
