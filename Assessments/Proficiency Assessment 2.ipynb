{
 "cells": [
  {
   "cell_type": "code",
   "execution_count": 1,
   "id": "d7b8a724",
   "metadata": {},
   "outputs": [],
   "source": [
    "def sum_list1 (items):\n",
    "    sum = 0\n",
    "    for x in items:\n",
    "        sum += x\n",
    "    return sum\n",
    "    "
   ]
  },
  {
   "cell_type": "code",
   "execution_count": 2,
   "id": "44b639b5",
   "metadata": {},
   "outputs": [
    {
     "name": "stdout",
     "output_type": "stream",
     "text": [
      "2\n"
     ]
    }
   ],
   "source": [
    "print(sum_list1([2,5,-5]))"
   ]
  },
  {
   "cell_type": "code",
   "execution_count": 24,
   "id": "b1b95e2b",
   "metadata": {},
   "outputs": [
    {
     "name": "stdout",
     "output_type": "stream",
     "text": [
      "-16\n"
     ]
    }
   ],
   "source": [
    "def mul_list2 (item):\n",
    "    mul = 1\n",
    "    for i in item:\n",
    "        mul *= i\n",
    "    return mul\n",
    "\n",
    "print(mul_list2([1,2,-8]))"
   ]
  },
  {
   "cell_type": "code",
   "execution_count": 4,
   "id": "81802e3f",
   "metadata": {},
   "outputs": [
    {
     "name": "stdout",
     "output_type": "stream",
     "text": [
      "l2 multification  is -> -40\n",
      "l1 multification  is -> 240\n"
     ]
    }
   ],
   "source": [
    "def multiply_list(items):\n",
    "    tot = 1\n",
    "    for x in items:\n",
    "        tot *= x\n",
    "    return tot\n",
    "\n",
    "\n",
    "l1 = [2,5,6,4]\n",
    "l2 = [4,5,-2]\n",
    "print('l2 multification  is ->',multiply_list(l2))\n",
    "print('l1 multification  is ->',multiply_list(l1))\n",
    "\n"
   ]
  },
  {
   "cell_type": "code",
   "execution_count": 5,
   "id": "80ae0cb1",
   "metadata": {},
   "outputs": [
    {
     "name": "stdout",
     "output_type": "stream",
     "text": [
      "8\n"
     ]
    }
   ],
   "source": [
    "def large_num (lis):\n",
    "    ma = lis[0]\n",
    "    for i in lis:\n",
    "        if i>ma:\n",
    "            ma= i\n",
    "    return ma\n",
    "  \n",
    "print(large_num([1,2,5,4,8]))"
   ]
  },
  {
   "cell_type": "code",
   "execution_count": 9,
   "id": "1c0ddfae",
   "metadata": {},
   "outputs": [
    {
     "name": "stdout",
     "output_type": "stream",
     "text": [
      "2\n"
     ]
    }
   ],
   "source": [
    "def max_num_in_list( list ):\n",
    "    max = list[ 0 ]\n",
    "    for a in list:\n",
    "        if a > max:\n",
    "            max =+ a\n",
    "    return max\n",
    "\n",
    "\n",
    "\n",
    "print(max_num_in_list([1, 2, -8, 0]))\n"
   ]
  },
  {
   "cell_type": "code",
   "execution_count": 12,
   "id": "e4acb1a8",
   "metadata": {},
   "outputs": [
    {
     "name": "stdout",
     "output_type": "stream",
     "text": [
      "2\n"
     ]
    }
   ],
   "source": [
    "def small_num (list1):\n",
    "    small = list1[0]\n",
    "    for a in list1:\n",
    "        if a <small:\n",
    "            small= a \n",
    "    return small\n",
    "\n",
    "print(small_num([2,5,6,12]))\n",
    "            "
   ]
  },
  {
   "cell_type": "code",
   "execution_count": 83,
   "id": "f6da0558",
   "metadata": {},
   "outputs": [
    {
     "name": "stdout",
     "output_type": "stream",
     "text": [
      "2\n"
     ]
    }
   ],
   "source": [
    "def words_str (list2):\n",
    "    word = 0\n",
    "    for i in list2:\n",
    "        if len(i) > 1 and i[0] == i[-1]:\n",
    "            word += 1\n",
    "    return word\n",
    "  \n",
    "  \n",
    "print(words_str(['abc', 'xyz', 'aba', '1221']))\n"
   ]
  },
  {
   "cell_type": "code",
   "execution_count": 13,
   "id": "b2390afe",
   "metadata": {},
   "outputs": [
    {
     "name": "stdout",
     "output_type": "stream",
     "text": [
      "2\n"
     ]
    }
   ],
   "source": [
    "def match_words(words):\n",
    "  ctr = 0\n",
    "\n",
    "  for word in words:\n",
    "    if len(word) > 1 and word[0] == word[-1]:\n",
    "      ctr += 1\n",
    "  return ctr\n",
    "\n",
    "print(match_words(['abc', 'xyz', 'aba', '1221']))\n"
   ]
  },
  {
   "cell_type": "code",
   "execution_count": 84,
   "id": "5262d58f",
   "metadata": {},
   "outputs": [
    {
     "name": "stdout",
     "output_type": "stream",
     "text": [
      "30\n",
      "30\n",
      "-48\n",
      "8\n",
      "15\n",
      "2\n"
     ]
    }
   ],
   "source": [
    "\"\"\"W3 recorses practice\"\"\"\n",
    "\n",
    "\n",
    "\n",
    "\n",
    "def mul (list1):\n",
    "  m = 1\n",
    "  for x in list1:\n",
    "    m *=x\n",
    "  return m\n",
    "  \n",
    "print(mul ([2,3,5]))\n",
    "\n",
    "\n",
    "\n",
    "\n",
    "def mul (list1):\n",
    "  m = 1\n",
    "  for x in list1:\n",
    "    m *=x\n",
    "  return m\n",
    " \n",
    "l1 = [5,2,3,]\n",
    "l2 =[2,4,-6]\n",
    "print(mul (l1))\n",
    "print(mul (l2))\n",
    "\n",
    "def large_num (lis):\n",
    "  larg = lis[0]\n",
    "  for i in lis:\n",
    "    if i>larg:\n",
    "      larg = i\n",
    "  return larg\n",
    "  \n",
    "print(large_num([1,2,5,4,8]))\n",
    "\n",
    "\n",
    "def small_num (list1):\n",
    "  small = list1 [1]\n",
    "  for a in list1:\n",
    "    if a <small:\n",
    "      small = a \n",
    "  return small\n",
    "  \n",
    "print(small_num([52,15,]))\n",
    "\n",
    "\n",
    "\n",
    "\n",
    "def match_words(words):\n",
    "  ctr = 0\n",
    "\n",
    "  for word in words:\n",
    "    if len(word) > 1 and word[0] == word[-1]:\n",
    "      ctr += 1\n",
    "  return ctr\n",
    "\n",
    "print(match_words(['abc', 'xyz', 'aba', '1221']))\n",
    "\n",
    "\n"
   ]
  },
  {
   "cell_type": "code",
   "execution_count": 2,
   "id": "25197bbc",
   "metadata": {},
   "outputs": [
    {
     "name": "stdout",
     "output_type": "stream",
     "text": [
      "[(1, 2), (2, 1), (2, 3), (2, 5), (4, 4)]\n"
     ]
    }
   ],
   "source": [
    "def last(n): return n[-1]\n",
    "\n",
    "def sort_list_last(tuples):\n",
    "  return sorted(tuples, key=last)\n",
    "\n",
    "\n",
    "\n",
    "print(sort_list_last([(2, 5), (1, 2), (4, 4), (2, 3), (2, 1)]))\n"
   ]
  },
  {
   "cell_type": "code",
   "execution_count": 4,
   "id": "87001a2c",
   "metadata": {},
   "outputs": [
    {
     "name": "stdout",
     "output_type": "stream",
     "text": [
      "The sorted list is : [1, 2, 3, 4, 5, 6, 64, 85]\n"
     ]
    }
   ],
   "source": [
    "x =[2,6,85,64,5,4,3,1]\n",
    "print(\"The sorted list is :\",(sorted(x)))"
   ]
  },
  {
   "cell_type": "code",
   "execution_count": 8,
   "id": "f7ceae88",
   "metadata": {},
   "outputs": [
    {
     "name": "stdout",
     "output_type": "stream",
     "text": [
      "Reverse sort is : [15, 10, 6, 5, 4, 3, 2, 1]\n"
     ]
    }
   ],
   "source": [
    "x =[2,6,15,10,5,4,3,1]\n",
    "print(\"Reverse sort is :\",(sorted(x,reverse =True )))"
   ]
  },
  {
   "cell_type": "code",
   "execution_count": 14,
   "id": "4c9cdb1e",
   "metadata": {},
   "outputs": [
    {
     "name": "stdout",
     "output_type": "stream",
     "text": [
      "['e', 'q', 'r', 't', 'w', 'y']\n"
     ]
    }
   ],
   "source": [
    "x = {'q':1, 'w':2, 'e':3, 'r':4, 't':5, 'y':6}\n",
    "\n",
    "\n",
    "print (sorted(x))\n",
    "  \n"
   ]
  },
  {
   "cell_type": "code",
   "execution_count": 14,
   "id": "eeb91d5d",
   "metadata": {},
   "outputs": [
    {
     "name": "stdout",
     "output_type": "stream",
     "text": [
      "3\n"
     ]
    }
   ],
   "source": [
    "print(x['e'])"
   ]
  },
  {
   "cell_type": "code",
   "execution_count": 18,
   "id": "42bedf31",
   "metadata": {},
   "outputs": [
    {
     "name": "stdout",
     "output_type": "stream",
     "text": [
      "['e', 'q', 'r', 't', 'w', 'y']\n"
     ]
    }
   ],
   "source": [
    "x = {'q', 'w', 'e', 'r', 't', 'y'}\n",
    "print (sorted(x))\n"
   ]
  },
  {
   "cell_type": "code",
   "execution_count": 25,
   "id": "0ca640a4",
   "metadata": {},
   "outputs": [
    {
     "name": "stdout",
     "output_type": "stream",
     "text": [
      "['e', 'q', 'r', 't', 'w', 'y']\n"
     ]
    }
   ],
   "source": [
    "\n",
    "\n",
    "x=frozenset (('q', 'w', 'e', 'r', 't', 'y'))\n",
    "print (sorted(x))\n",
    " \n",
    "\n"
   ]
  },
  {
   "cell_type": "code",
   "execution_count": 29,
   "id": "c94cc766",
   "metadata": {},
   "outputs": [
    {
     "name": "stdout",
     "output_type": "stream",
     "text": [
      "Sorted by len ['b', 'dd', 'aaa', 'cccc']\n"
     ]
    }
   ],
   "source": [
    "L = [\"cccc\", \"b\", \"dd\", \"aaa\"]\n",
    "\n",
    "print(\"Sorted by len\",sorted(L, key =len))"
   ]
  },
  {
   "cell_type": "code",
   "execution_count": 32,
   "id": "cc04981e",
   "metadata": {},
   "outputs": [
    {
     "name": "stdout",
     "output_type": "stream",
     "text": [
      "[3, 7, 11, 15]\n",
      "Sorted by function : [7, 15, 3, 11]\n"
     ]
    }
   ],
   "source": [
    "def func (a):\n",
    "    return a % 7\n",
    "L=[15,3,11,7]\n",
    "\n",
    "print(sorted (L))\n",
    "print(\"Sorted by function :\",sorted(L, key = func))"
   ]
  },
  {
   "cell_type": "code",
   "execution_count": 33,
   "id": "53f85e15",
   "metadata": {},
   "outputs": [
    {
     "name": "stdout",
     "output_type": "stream",
     "text": [
      "Normal sort: [3, 7, 11, 15]\n",
      "Sorted with key: [7, 15, 3, 11]\n"
     ]
    }
   ],
   "source": [
    "def func(x):\n",
    "    return x % 7\n",
    "  \n",
    "L = [15, 3, 11, 7]\n",
    "  \n",
    "print (\"Normal sort:\", sorted(L))\n",
    "print (\"Sorted with key:\", sorted (L, key = func))\n",
    "\n"
   ]
  },
  {
   "cell_type": "code",
   "execution_count": 48,
   "id": "b5d921e7",
   "metadata": {},
   "outputs": [
    {
     "name": "stdout",
     "output_type": "stream",
     "text": [
      "1\n",
      "2\n",
      "4\n",
      "5\n",
      "7\n",
      "8\n"
     ]
    }
   ],
   "source": [
    "for number in range(1, 10):\n",
    "    \n",
    "    if(number % 3!= 0):\n",
    "        \n",
    "        print(number)"
   ]
  },
  {
   "cell_type": "code",
   "execution_count": 58,
   "id": "21229e0b",
   "metadata": {},
   "outputs": [
    {
     "ename": "AttributeError",
     "evalue": "'set' object has no attribute 'append'",
     "output_type": "error",
     "traceback": [
      "\u001b[1;31m---------------------------------------------------------------------------\u001b[0m",
      "\u001b[1;31mAttributeError\u001b[0m                            Traceback (most recent call last)",
      "\u001b[1;32m<ipython-input-58-dbe1eea5cfb6>\u001b[0m in \u001b[0;36m<module>\u001b[1;34m\u001b[0m\n\u001b[0;32m      6\u001b[0m     \u001b[1;32mif\u001b[0m \u001b[0mx\u001b[0m \u001b[1;32mnot\u001b[0m \u001b[1;32min\u001b[0m \u001b[0mdupli\u001b[0m\u001b[1;33m:\u001b[0m\u001b[1;33m\u001b[0m\u001b[1;33m\u001b[0m\u001b[0m\n\u001b[0;32m      7\u001b[0m         \u001b[0muniq\u001b[0m\u001b[1;33m.\u001b[0m\u001b[0mappend\u001b[0m\u001b[1;33m(\u001b[0m\u001b[0mx\u001b[0m\u001b[1;33m)\u001b[0m\u001b[1;33m\u001b[0m\u001b[1;33m\u001b[0m\u001b[0m\n\u001b[1;32m----> 8\u001b[1;33m         \u001b[0mdupli\u001b[0m\u001b[1;33m.\u001b[0m\u001b[0mappend\u001b[0m\u001b[1;33m(\u001b[0m\u001b[0mx\u001b[0m\u001b[1;33m)\u001b[0m\u001b[1;33m\u001b[0m\u001b[1;33m\u001b[0m\u001b[0m\n\u001b[0m\u001b[0;32m      9\u001b[0m \u001b[1;33m\u001b[0m\u001b[0m\n\u001b[0;32m     10\u001b[0m \u001b[1;33m\u001b[0m\u001b[0m\n",
      "\u001b[1;31mAttributeError\u001b[0m: 'set' object has no attribute 'append'"
     ]
    }
   ],
   "source": [
    "lis = [10,50,20,30,20,10,50,60]\n",
    "\n",
    "dupli = set()\n",
    "uniq =[]\n",
    "for x in lis:\n",
    "    if x not in dupli:\n",
    "        uniq.append(x)\n",
    "        dupli.append(x)\n",
    "\n",
    "\n",
    "print(dupli)\n",
    "print(uniq)"
   ]
  },
  {
   "cell_type": "code",
   "execution_count": 57,
   "id": "5c15d589",
   "metadata": {},
   "outputs": [
    {
     "name": "stdout",
     "output_type": "stream",
     "text": [
      "{40, 10, 80, 50, 20, 60, 30}\n",
      "[10, 20, 30, 50, 60, 40, 80]\n"
     ]
    }
   ],
   "source": [
    "a = [10,20,30,20,10,50,60,40,80,50,40]\n",
    "\n",
    "dup_items = set()\n",
    "uniq_items = []\n",
    "for x in a:\n",
    "    if x not in dup_items:\n",
    "        uniq_items.append(x)\n",
    "        dup_items.add(x)\n",
    "\n",
    "print(dup_items)\n",
    "print(uniq_items)\n"
   ]
  },
  {
   "cell_type": "code",
   "execution_count": 59,
   "id": "d2c245d4",
   "metadata": {},
   "outputs": [
    {
     "name": "stdout",
     "output_type": "stream",
     "text": [
      "List is Empty\n"
     ]
    }
   ],
   "source": [
    "#8.\tWrite a Python program to check a list is empty or not.\n",
    "\n",
    "list1= []\n",
    "if not list1:\n",
    "    print(\"List is Empty\")"
   ]
  },
  {
   "cell_type": "code",
   "execution_count": 64,
   "id": "3860a7ee",
   "metadata": {},
   "outputs": [
    {
     "name": "stdout",
     "output_type": "stream",
     "text": [
      "[\"Hi there  I'm ibrahim \"]\n",
      "[\"Hi there  I'm ibrahim \"]\n"
     ]
    }
   ],
   "source": [
    "#9.\tWrite a Python program to clone or copy a list.\n",
    "\n",
    "original_list = [\"Hi there  I'm ibrahim \"]\n",
    "copy_list = original_list.copy()\n",
    "\n",
    "print(original_list)\n",
    "print(copy_list)\n"
   ]
  },
  {
   "cell_type": "code",
   "execution_count": 15,
   "id": "24d71a51",
   "metadata": {},
   "outputs": [
    {
     "name": "stdout",
     "output_type": "stream",
     "text": [
      "True\n",
      "None\n"
     ]
    }
   ],
   "source": [
    "def common_data (list1,list2):\n",
    "    result =False\n",
    "    for x in list1:\n",
    "        for y in list2:\n",
    "            if x==y:\n",
    "                result = True \n",
    "                return result\n",
    "\n",
    "print(common_data([1,2,3,4,5], [5,6,7,8,9]))\n",
    "\n",
    "print(common_data([1,2,3,4,5], [6,7,8,9]))\n"
   ]
  },
  {
   "cell_type": "code",
   "execution_count": 74,
   "id": "9c275430",
   "metadata": {},
   "outputs": [
    {
     "name": "stdout",
     "output_type": "stream",
     "text": [
      "['Green', 'White', 'Black']\n"
     ]
    }
   ],
   "source": [
    "color = ['Red', 'Green', 'White', 'Black', 'Pink', 'Yellow']\n",
    "color = [x for (i,x) in enumerate(color) if i not in (0,4,5)]\n",
    "print(color)\n"
   ]
  },
  {
   "cell_type": "code",
   "execution_count": 76,
   "id": "615851e0",
   "metadata": {},
   "outputs": [
    {
     "name": "stdout",
     "output_type": "stream",
     "text": [
      "[(0, 'eat'), (1, 'sleep'), (2, 'repeat')]\n",
      "[(0, 'g'), (1, 'e'), (2, 'e'), (3, 'k')]\n"
     ]
    }
   ],
   "source": [
    "l1 = [\"eat\",\"sleep\",\"repeat\"]\n",
    "s1 = \"geek\"\n",
    "\n",
    "obj1 = enumerate(l1)\n",
    "obj2 = enumerate(s1)\n",
    "\n",
    "\n",
    "print (list(enumerate(l1)))\n",
    "\n",
    "\n",
    "print (list(enumerate(s1)))\n",
    "\n"
   ]
  },
  {
   "cell_type": "code",
   "execution_count": 16,
   "id": "940977ab",
   "metadata": {},
   "outputs": [
    {
     "name": "stdout",
     "output_type": "stream",
     "text": [
      "[(0, 'eat'), (1, 'sleep'), (2, 'repeat')]\n"
     ]
    }
   ],
   "source": [
    "l1 = [\"eat\",\"sleep\",\"repeat\"]\n",
    "\n",
    "enr = enumerate(l1)\n",
    "\n",
    "print(list(enumerate(l1)))"
   ]
  },
  {
   "cell_type": "code",
   "execution_count": 80,
   "id": "006fc25f",
   "metadata": {},
   "outputs": [
    {
     "name": "stdout",
     "output_type": "stream",
     "text": [
      "[(0, 'eat'), (1, 'sleep'), (2, 'repeat')]\n"
     ]
    }
   ],
   "source": [
    "l1 = [\"eat\",\"sleep\",\"repeat\"]\n",
    "\n",
    "enr = enumerate(l1)\n",
    "\n",
    "print(list(enumerate(l1)))"
   ]
  },
  {
   "cell_type": "code",
   "execution_count": 86,
   "id": "1355a3fd",
   "metadata": {},
   "outputs": [
    {
     "name": "stdout",
     "output_type": "stream",
     "text": [
      "(0, 'eat')\n",
      "(1, 'sleep')\n",
      "(2, 'repeat')\n",
      "100 eat\n",
      "101 sleep\n",
      "102 repeat\n",
      "0\n",
      "eat\n",
      "1\n",
      "sleep\n",
      "2\n",
      "repeat\n"
     ]
    }
   ],
   "source": [
    "# Python program to illustrate\n",
    "# enumerate function in loops\n",
    "l1 = [\"eat\",\"sleep\",\"repeat\"]\n",
    "\n",
    "# printing the tuples in object directly\n",
    "for ele in enumerate(l1):\n",
    "\t        print (ele)\n",
    "    \n",
    "# changing index and printing separately\n",
    "for count,ele in enumerate(l1,100):\n",
    "                 print (count,ele)\n",
    "\n",
    "#getting desired output from tuple\n",
    "for count,ele in enumerate(l1):\n",
    "                print(count)\n",
    "                print(ele)\n"
   ]
  },
  {
   "cell_type": "code",
   "execution_count": null,
   "id": "23849969",
   "metadata": {},
   "outputs": [],
   "source": []
  }
 ],
 "metadata": {
  "kernelspec": {
   "display_name": "Python 3 (ipykernel)",
   "language": "python",
   "name": "python3"
  },
  "language_info": {
   "codemirror_mode": {
    "name": "ipython",
    "version": 3
   },
   "file_extension": ".py",
   "mimetype": "text/x-python",
   "name": "python",
   "nbconvert_exporter": "python",
   "pygments_lexer": "ipython3",
   "version": "3.9.12"
  }
 },
 "nbformat": 4,
 "nbformat_minor": 5
}
