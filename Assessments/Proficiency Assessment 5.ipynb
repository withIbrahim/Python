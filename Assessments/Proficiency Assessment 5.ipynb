{
 "cells": [
  {
   "cell_type": "code",
   "execution_count": 1,
   "id": "d3f49046",
   "metadata": {},
   "outputs": [
    {
     "name": "stdout",
     "output_type": "stream",
     "text": [
      "4\n"
     ]
    }
   ],
   "source": [
    "#1.\tWhat is the output of the following code?\n",
    "\n",
    "num = set([1,1,2,3,3,3,4,4])\n",
    "\n",
    "print(len(num))"
   ]
  },
  {
   "cell_type": "code",
   "execution_count": 2,
   "id": "437d7159",
   "metadata": {},
   "outputs": [
    {
     "name": "stdout",
     "output_type": "stream",
     "text": [
      "{1, 2, 3, 4}\n"
     ]
    }
   ],
   "source": [
    "print(num)"
   ]
  },
  {
   "cell_type": "code",
   "execution_count": 2,
   "id": "cfbbd446",
   "metadata": {},
   "outputs": [
    {
     "name": "stdout",
     "output_type": "stream",
     "text": [
      "['Rik', 'lisha', 'Sushan']\n"
     ]
    }
   ],
   "source": [
    "#2.\tWhat will be the output?\n",
    "\n",
    "list1 ={'Rik':25,'lisha':22,'Sushan':18}\n",
    "\n",
    "print(list(list1.keys()))"
   ]
  },
  {
   "cell_type": "code",
   "execution_count": 4,
   "id": "1169b3e4",
   "metadata": {},
   "outputs": [
    {
     "name": "stdout",
     "output_type": "stream",
     "text": [
      "[25, 22, 18]\n"
     ]
    }
   ],
   "source": [
    "\n",
    "print(list(list1.values()))"
   ]
  },
  {
   "cell_type": "code",
   "execution_count": 11,
   "id": "244c19c5",
   "metadata": {},
   "outputs": [
    {
     "name": "stdout",
     "output_type": "stream",
     "text": [
      "25\n"
     ]
    }
   ],
   "source": [
    "print(list1['Rik'])"
   ]
  },
  {
   "cell_type": "code",
   "execution_count": 16,
   "id": "fe2cc29f",
   "metadata": {},
   "outputs": [
    {
     "name": "stdout",
     "output_type": "stream",
     "text": [
      "0 {'Rik': 25, 'lisha': 22, 'Sushan': 18}\n",
      "1 {'Rik': 25, 'lisha': 22, 'Sushan': 18}\n",
      "2 {'Rik': 25, 'lisha': 22, 'Sushan': 18}\n"
     ]
    }
   ],
   "source": [
    "for count,i in enumerate (list1):\n",
    "    print(count,list1)"
   ]
  },
  {
   "cell_type": "code",
   "execution_count": 21,
   "id": "f96879b3",
   "metadata": {},
   "outputs": [
    {
     "name": "stdout",
     "output_type": "stream",
     "text": [
      "['john', 'peter']\n"
     ]
    }
   ],
   "source": [
    "d = {\"john\":40, \"peter\":45}\n",
    "print(list(d.keys()))\n"
   ]
  },
  {
   "cell_type": "code",
   "execution_count": null,
   "id": "6485cb88",
   "metadata": {},
   "outputs": [],
   "source": []
  },
  {
   "cell_type": "code",
   "execution_count": 42,
   "id": "83b7a5a0",
   "metadata": {},
   "outputs": [
    {
     "name": "stdout",
     "output_type": "stream",
     "text": [
      "4  position is 0\n",
      "7  position is 1\n",
      "3  position is 2\n",
      "2  position is 3\n",
      "5  position is 4\n",
      "9  position is 5\n"
     ]
    }
   ],
   "source": [
    "#7.\tPlease write a program which count and print the numbers of each character in a string input by console\n",
    "\n",
    "\n",
    "a = [4,7,3,2,5,9]\n",
    "\n",
    "\n",
    "for i in range(len(a)):\n",
    "    \n",
    "    print(a [i],' position is',i)"
   ]
  },
  {
   "cell_type": "code",
   "execution_count": 46,
   "id": "254861d4",
   "metadata": {},
   "outputs": [
    {
     "name": "stdout",
     "output_type": "stream",
     "text": [
      "4 is position 1\n",
      "7 is position 2\n",
      "3 is position 3\n",
      "2 is position 4\n",
      "5 is position 5\n",
      "9 is position 6\n"
     ]
    }
   ],
   "source": [
    "\n",
    "\n",
    "a = [4,7,3,2,5,9]\n",
    "\n",
    "for b in a:\n",
    "    print(b, 'is position',a.index(b)+1)"
   ]
  },
  {
   "cell_type": "code",
   "execution_count": 43,
   "id": "fb714d29",
   "metadata": {},
   "outputs": [
    {
     "name": "stdout",
     "output_type": "stream",
     "text": [
      "4 is position 1\n",
      "7 is position 2\n",
      "3 is position 3\n",
      "2 is position 4\n",
      "5 is position 5\n",
      "9 is position 6\n"
     ]
    }
   ],
   "source": [
    "a = [4,7,3,2,5,9]\n",
    "\n",
    "for item in a :\n",
    "    print(str(item)+\" is position \" +str(a.index(item)+1))"
   ]
  },
  {
   "cell_type": "code",
   "execution_count": null,
   "id": "9f414e50",
   "metadata": {},
   "outputs": [],
   "source": []
  },
  {
   "cell_type": "code",
   "execution_count": 9,
   "id": "6368811c",
   "metadata": {},
   "outputs": [
    {
     "name": "stdout",
     "output_type": "stream",
     "text": [
      "Enter string  :salary\n",
      "s,1\n",
      "a,2\n",
      "l,1\n",
      "r,1\n",
      "y,1\n"
     ]
    }
   ],
   "source": [
    "#7.\tPlease write a program which count and print the numbers of each character in a string input by console\n",
    "\n",
    "dic = {}\n",
    "s=input('Enter string  :')\n",
    "for s in s:\n",
    "    dic[s] = dic.get(s,0)+1\n",
    "print('\\n'.join(['%s,%s' % (k, v) for k, v in dic.items()]))\n"
   ]
  },
  {
   "cell_type": "code",
   "execution_count": 62,
   "id": "abd77a96",
   "metadata": {},
   "outputs": [
    {
     "name": "stdout",
     "output_type": "stream",
     "text": [
      "Enter numeric string which wil contain alternate alphabates and numbers :i2b4r8a9hdicm\n",
      "ibrahim\n"
     ]
    }
   ],
   "source": [
    "#5.\tPlease write a program which accepts a string from console and print the characters that have even indexes.\n",
    "\n",
    "\n",
    "s=input(\"Enter numeric string which wil contain alternate alphabates and numbers :\")\n",
    "s = s[::2]\n",
    "print(s)\n",
    "\n"
   ]
  },
  {
   "cell_type": "code",
   "execution_count": 71,
   "id": "d4a2ac31",
   "metadata": {},
   "outputs": [
    {
     "name": "stdout",
     "output_type": "stream",
     "text": [
      "Write a string which will show you in a reverse form :ladnom miharbi\n",
      "Revers form :  ibrahim mondal\n"
     ]
    }
   ],
   "source": [
    "#_Please write a program which accepts a string from console and print it in reverse order.\n",
    "\n",
    "a = input(\"Write a string which will show you in a reverse form :\")\n",
    "\n",
    "b = a[::-1]\n",
    "\n",
    "print('Revers form : ',b)"
   ]
  },
  {
   "cell_type": "code",
   "execution_count": 73,
   "id": "2c4e7347",
   "metadata": {},
   "outputs": [
    {
     "name": "stdout",
     "output_type": "stream",
     "text": [
      "[10, 20, 30, 40, 50, 60]\n"
     ]
    }
   ],
   "source": [
    "a = [10,20,30,40,50,55,60]\n",
    "b = [x for x in a if x!=55]\n",
    "print(b)"
   ]
  },
  {
   "cell_type": "code",
   "execution_count": 76,
   "id": "5624ed64",
   "metadata": {},
   "outputs": [
    {
     "name": "stdout",
     "output_type": "stream",
     "text": [
      "[24, 35, 70, 155]\n"
     ]
    }
   ],
   "source": [
    "c = [12,24,35,70,88,120,155]\n",
    "\n",
    "d = [i for (x,i) in enumerate (c) if x not in (0,4,5)]\n",
    "print(d)"
   ]
  },
  {
   "cell_type": "code",
   "execution_count": 88,
   "id": "5a2ecc2e",
   "metadata": {},
   "outputs": [
    {
     "name": "stdout",
     "output_type": "stream",
     "text": [
      "[24, 35, 70, 155]\n"
     ]
    }
   ],
   "source": [
    "c = [12,24,35,70,88,120,155]\n",
    "\n",
    "d = [i for (x,i) in enumerate (c) if x not in (0,4,5)]\n",
    "print(d)"
   ]
  },
  {
   "cell_type": "code",
   "execution_count": 79,
   "id": "f0a65ea9",
   "metadata": {},
   "outputs": [
    {
     "name": "stdout",
     "output_type": "stream",
     "text": [
      "(0, 'bread')\n",
      "(1, 'milk')\n",
      "(2, 'butter')\n"
     ]
    }
   ],
   "source": [
    "a = ['bread','milk','butter']\n",
    "\n",
    "for i in enumerate (a):\n",
    "    print(i)"
   ]
  },
  {
   "cell_type": "code",
   "execution_count": 84,
   "id": "a11da320",
   "metadata": {},
   "outputs": [
    {
     "name": "stdout",
     "output_type": "stream",
     "text": [
      "1 bread\n",
      "2 milk\n",
      "3 butter\n"
     ]
    }
   ],
   "source": [
    "food = ['bread','milk','butter']\n",
    "\n",
    "for count,item in enumerate (food,1):\n",
    "    print(count,item)"
   ]
  },
  {
   "cell_type": "code",
   "execution_count": 17,
   "id": "e96ac95b",
   "metadata": {},
   "outputs": [
    {
     "name": "stdout",
     "output_type": "stream",
     "text": [
      "[35]\n"
     ]
    }
   ],
   "source": [
    "set1={1,3,6,78,35,55}\n",
    "set2={12,24,35,24,88,120,155}\n",
    "\n",
    "set1 &=set2\n",
    "li = list(set1)\n",
    "\n",
    "print(li)"
   ]
  },
  {
   "cell_type": "code",
   "execution_count": 27,
   "id": "5e23bf5f",
   "metadata": {},
   "outputs": [
    {
     "name": "stdout",
     "output_type": "stream",
     "text": [
      "(35, 55)\n"
     ]
    }
   ],
   "source": [
    "set1 &= set2\n",
    "set3 = tuple(set1)\n",
    "print(set3)"
   ]
  },
  {
   "cell_type": "code",
   "execution_count": 28,
   "id": "3f761501",
   "metadata": {},
   "outputs": [
    {
     "name": "stdout",
     "output_type": "stream",
     "text": [
      "{35, 55}\n"
     ]
    }
   ],
   "source": [
    "list1 = [1,3,6,78,35,55]\n",
    "list2 = [12,24,35,24,55,88,120,155]\n",
    "set1= set(list1)\n",
    "set2= set(list2)\n",
    "intersection = set.intersection(set1,set2)\n",
    "print(intersection)"
   ]
  },
  {
   "cell_type": "code",
   "execution_count": 32,
   "id": "ca3845c3",
   "metadata": {},
   "outputs": [
    {
     "name": "stdout",
     "output_type": "stream",
     "text": [
      "[120, 35]\n"
     ]
    }
   ],
   "source": [
    "set1={1,3,6,78,35,55,120}\n",
    "set2={12,24,35,24,88,120,155}\n",
    "\n",
    "inter = set1.intersection(set2)\n",
    "\n",
    "print(list(inter))"
   ]
  },
  {
   "cell_type": "code",
   "execution_count": 34,
   "id": "974dd4fb",
   "metadata": {},
   "outputs": [
    {
     "name": "stdout",
     "output_type": "stream",
     "text": [
      "{1, 3, 35, 6, 88, 12, 78, 55, 24, 155, 120}\n"
     ]
    }
   ],
   "source": [
    "set1={1,3,6,78,35,55}\n",
    "set2={12,24,35,24,88,120,155}\n",
    "\n",
    "intersection = set1|set2\n",
    "print(intersection)"
   ]
  },
  {
   "cell_type": "code",
   "execution_count": 35,
   "id": "4d8efc5c",
   "metadata": {},
   "outputs": [
    {
     "name": "stdout",
     "output_type": "stream",
     "text": [
      "[12, 35, 88, 120, 155]\n"
     ]
    }
   ],
   "source": [
    "a = [12,24,35,24,88,120,155]\n",
    "\n",
    "b =[ x for x in a if x!=24]\n",
    "print(b)"
   ]
  },
  {
   "cell_type": "code",
   "execution_count": 48,
   "id": "922f6402",
   "metadata": {},
   "outputs": [
    {
     "name": "stdout",
     "output_type": "stream",
     "text": [
      "[12, 24, 35, 24, 88, 120, 155]\n"
     ]
    }
   ],
   "source": [
    "#  Write a program to print the list after removing the 0th,4th,5th numbers in [12,24,35,70,88,120,155].\n",
    "\n",
    "\n",
    "\n",
    "a = [12,24,35,24,88,120,155]\n",
    "\n",
    "print (list(x for i,x in  enumerate (a) if x!=0 and x!=4 and x!=5))\n"
   ]
  },
  {
   "cell_type": "code",
   "execution_count": 6,
   "id": "b6e04492",
   "metadata": {},
   "outputs": [
    {
     "name": "stdout",
     "output_type": "stream",
     "text": [
      "[12, 24, 35, 24, 88, 120, 155]\n"
     ]
    }
   ],
   "source": [
    "a = [12,24,35,24,88,120,155]\n",
    "b = [x for i,x in  enumerate (a) if x!=0 and x!=4 and x!=5]\n",
    "\n",
    "\n",
    "print(b)"
   ]
  },
  {
   "cell_type": "code",
   "execution_count": 7,
   "id": "aba15d8e",
   "metadata": {},
   "outputs": [
    {
     "name": "stdout",
     "output_type": "stream",
     "text": [
      "[12, 24, 24, 88, 120, 155]\n"
     ]
    }
   ],
   "source": [
    "#  Write a program to print the list after removing delete numbers which are divisible by 5 and 7 in [1\n",
    "\n",
    "\n",
    "\n",
    "li = [12,24,35,70,88,120,155]\n",
    "\n",
    "li = [x for x in a if not (x%5 ==0 and x%7==0)]\n",
    "\n",
    "print(li)\n",
    "\n",
    "\n"
   ]
  },
  {
   "cell_type": "code",
   "execution_count": 57,
   "id": "cd630b43",
   "metadata": {
    "scrolled": true
   },
   "outputs": [
    {
     "name": "stdout",
     "output_type": "stream",
     "text": [
      "Enter a number254\n",
      "248.87956128718287\n"
     ]
    }
   ],
   "source": [
    "n=int(input(\"Enter a number\"))\n",
    "sum=0.0\n",
    "for i in range(1,n+1):\n",
    "    sum += float(float(i)/(i+1))\n",
    "print(sum)\n"
   ]
  }
 ],
 "metadata": {
  "kernelspec": {
   "display_name": "Python 3 (ipykernel)",
   "language": "python",
   "name": "python3"
  },
  "language_info": {
   "codemirror_mode": {
    "name": "ipython",
    "version": 3
   },
   "file_extension": ".py",
   "mimetype": "text/x-python",
   "name": "python",
   "nbconvert_exporter": "python",
   "pygments_lexer": "ipython3",
   "version": "3.9.12"
  }
 },
 "nbformat": 4,
 "nbformat_minor": 5
}
