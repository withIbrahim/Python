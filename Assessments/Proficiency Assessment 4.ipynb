{
 "cells": [
  {
   "cell_type": "code",
   "execution_count": 2,
   "id": "aec1c95d",
   "metadata": {},
   "outputs": [
    {
     "name": "stdout",
     "output_type": "stream",
     "text": [
      "Enter the number 15\n",
      "Number is Odd.\n"
     ]
    }
   ],
   "source": [
    "num = int(input(\"Enter the number \"))\n",
    "mod = num%2\n",
    "if mod >0:\n",
    "    print(\"Number is Odd.\")\n",
    "else:\n",
    "    print(\"Number is Even.\")\n",
    "    "
   ]
  },
  {
   "cell_type": "code",
   "execution_count": 6,
   "id": "2787a2de",
   "metadata": {},
   "outputs": [
    {
     "name": "stdout",
     "output_type": "stream",
     "text": [
      "Enter the number : 10\n",
      "The number is even\n"
     ]
    }
   ],
   "source": [
    "x = int(input('Enter the number : '))\n",
    "\n",
    "if x %2==0:\n",
    "    print('The number is even')\n",
    "else:\n",
    "    print('The number is odd')"
   ]
  },
  {
   "cell_type": "code",
   "execution_count": 7,
   "id": "a1771a07",
   "metadata": {},
   "outputs": [
    {
     "name": "stdout",
     "output_type": "stream",
     "text": [
      "factor is odd:  1\n",
      "Factor is even: 2\n",
      "factor is odd:  5\n",
      "Factor is even: 10\n",
      "factor is odd:  25\n",
      "Factor is even: 50\n"
     ]
    }
   ],
   "source": [
    "num=50\n",
    "for i in range(1,num+1):\n",
    "    rem=num%i\n",
    "\n",
    "    if(rem==0):\n",
    "        if(i%2==0):\n",
    "            print(\"Factor is even:\",i)\n",
    "        else:\n",
    "            print(\"factor is odd: \",i)\n",
    "\n",
    "    else:\n",
    "        pass\n"
   ]
  },
  {
   "cell_type": "code",
   "execution_count": 8,
   "id": "73fb7cd9",
   "metadata": {},
   "outputs": [
    {
     "name": "stdout",
     "output_type": "stream",
     "text": [
      "factor is odd:  1\n",
      "factor is odd:  5\n",
      "factor is odd:  25\n"
     ]
    }
   ],
   "source": [
    "num=25\n",
    "\n",
    "\n",
    "for i in range(1,num+1):\n",
    "    rem=num%i\n",
    "\n",
    "    if(rem==0):\n",
    "        if(i%2==0):\n",
    "            print(\"Factor is even:\",i)\n",
    "        else:\n",
    "            print(\"factor is odd: \",i)\n",
    "\n",
    "    else:\n",
    "        pass\n"
   ]
  },
  {
   "cell_type": "code",
   "execution_count": 25,
   "id": "db854a09",
   "metadata": {},
   "outputs": [
    {
     "name": "stdout",
     "output_type": "stream",
     "text": [
      "Python\n",
      "Welcome\n",
      "to\n"
     ]
    }
   ],
   "source": [
    "my_words =\"Welcome to Python\"\n",
    "words = my_words.split()\n",
    "words.sort()\n",
    "for word in words:\n",
    "    print(word)"
   ]
  },
  {
   "cell_type": "code",
   "execution_count": 28,
   "id": "5f255f0a",
   "metadata": {},
   "outputs": [
    {
     "name": "stdout",
     "output_type": "stream",
     "text": [
      "India\n",
      "The\n",
      "Times\n",
      "of\n"
     ]
    }
   ],
   "source": [
    "my_words =\"The Times of India\"\n",
    "words = my_words.split()\n",
    "words.sort()\n",
    "for word in words:\n",
    "    print(word)"
   ]
  },
  {
   "cell_type": "code",
   "execution_count": 29,
   "id": "71355110",
   "metadata": {},
   "outputs": [
    {
     "name": "stdout",
     "output_type": "stream",
     "text": [
      "The\n",
      "Times\n",
      "of\n",
      "India\n"
     ]
    }
   ],
   "source": [
    "my_words =\"The Times of India\"\n",
    "words = my_words.split()\n",
    "\n",
    "for word in words:\n",
    "    print(word)"
   ]
  },
  {
   "cell_type": "code",
   "execution_count": 49,
   "id": "e786e544",
   "metadata": {},
   "outputs": [
    {
     "name": "stdout",
     "output_type": "stream",
     "text": [
      "1,4,8,35,7\n",
      "['1', '35', '4', '7', '8']\n"
     ]
    }
   ],
   "source": [
    "my_numbers = input()\n",
    "\n",
    "numbers = my_numbers.split(',')\n",
    "numbers.sort()\n",
    "\n",
    "print(numbers)\n",
    "\n"
   ]
  },
  {
   "cell_type": "code",
   "execution_count": 57,
   "id": "76b1a0d9",
   "metadata": {},
   "outputs": [
    {
     "name": "stdout",
     "output_type": "stream",
     "text": [
      "2000,2002,2004,2006,2008,2010,2012,2014,2016,2018,2020,2022,2024,2026,2028,2030,2032,2034,2036,2038,2040,2042,2044,2046,2048,2050,2052,2054,2056,2058,2060,2062,2064,2066,2068,2070,2072,2074,2076,2078,2080,2082,2084,2086,2088,2090,2092,2094,2096,2098,2200,2202,2204,2206,2208,2210,2212,2214,2216,2218,2220,2222,2224,2226,2228,2230,2232,2234,2236,2238,2240,2242,2244,2246,2248,2250,2252,2254,2256,2258,2260,2262,2264,2266,2268,2270,2272,2274,2276,2278,2280,2282,2284,2286,2288,2290,2292,2294,2296,2298,2400,2402,2404,2406,2408,2410,2412,2414,2416,2418,2420,2422,2424,2426,2428,2430,2432,2434,2436,2438,2440,2442,2444,2446,2448,2450,2452,2454,2456,2458,2460,2462,2464,2466,2468,2470,2472,2474,2476,2478,2480,2482,2484,2486,2488,2490,2492,2494,2496,2498,2600,2602,2604,2606,2608,2610,2612,2614,2616,2618,2620,2622,2624,2626,2628,2630,2632,2634,2636,2638,2640,2642,2644,2646,2648,2650,2652,2654,2656,2658,2660,2662,2664,2666,2668,2670,2672,2674,2676,2678,2680,2682,2684,2686,2688,2690,2692,2694,2696,2698,2800,2802,2804,2806,2808,2810,2812,2814,2816,2818,2820,2822,2824,2826,2828,2830,2832,2834,2836,2838,2840,2842,2844,2846,2848,2850,2852,2854,2856,2858,2860,2862,2864,2866,2868,2870,2872,2874,2876,2878,2880,2882,2884,2886,2888,2890,2892,2894,2896,2898\n"
     ]
    }
   ],
   "source": [
    "values = []\n",
    "for i in range (1000,3000):\n",
    "    s = str(i)\n",
    "    if (int(s[0])%2==0) and (int(s[1])%2==0) and (int(s[3])%2==0):\n",
    "        values.append(s)\n",
    "print(\",\".join(values))"
   ]
  },
  {
   "cell_type": "code",
   "execution_count": 51,
   "id": "e3f093bf",
   "metadata": {},
   "outputs": [
    {
     "name": "stdout",
     "output_type": "stream",
     "text": [
      "2000,2002,2004,2006,2008,2020,2022,2024,2026,2028,2040,2042,2044,2046,2048,2060,2062,2064,2066,2068,2080,2082,2084,2086,2088,2200,2202,2204,2206,2208,2220,2222,2224,2226,2228,2240,2242,2244,2246,2248,2260,2262,2264,2266,2268,2280,2282,2284,2286,2288,2400,2402,2404,2406,2408,2420,2422,2424,2426,2428,2440,2442,2444,2446,2448,2460,2462,2464,2466,2468,2480,2482,2484,2486,2488,2600,2602,2604,2606,2608,2620,2622,2624,2626,2628,2640,2642,2644,2646,2648,2660,2662,2664,2666,2668,2680,2682,2684,2686,2688,2800,2802,2804,2806,2808,2820,2822,2824,2826,2828,2840,2842,2844,2846,2848,2860,2862,2864,2866,2868,2880,2882,2884,2886,2888\n"
     ]
    }
   ],
   "source": [
    "values = []\n",
    "for i in range(1000,3001):\n",
    "    s = str(i)\n",
    "    if (int(s[0])%2==0) and (int(s[1])%2==0) and (int(s[2])%2==0) and (int(s[3])%2==0):\n",
    "        values.append(s)\n",
    "\n",
    "print (\",\".join(values))\n"
   ]
  },
  {
   "cell_type": "code",
   "execution_count": 59,
   "id": "b9c5eb90",
   "metadata": {},
   "outputs": [
    {
     "name": "stdout",
     "output_type": "stream",
     "text": [
      "2000,2002,2004,2006,2008,2020,2022,2024,2026,2028,2040,2042,2044,2046,2048,2060,2062,2064,2066,2068,2080,2082,2084,2086,2088,2200,2202,2204,2206,2208,2220,2222,2224,2226,2228,2240,2242,2244,2246,2248,2260,2262,2264,2266,2268,2280,2282,2284,2286,2288,2400,2402,2404,2406,2408,2420,2422,2424,2426,2428,2440,2442,2444,2446,2448,2460,2462,2464,2466,2468,2480,2482,2484,2486,2488,2600,2602,2604,2606,2608,2620,2622,2624,2626,2628,2640,2642,2644,2646,2648,2660,2662,2664,2666,2668,2680,2682,2684,2686,2688,2800,2802,2804,2806,2808,2820,2822,2824,2826,2828,2840,2842,2844,2846,2848,2860,2862,2864,2866,2868,2880,2882,2884,2886,2888\n"
     ]
    }
   ],
   "source": [
    "values = []\n",
    "for i in range(1000,3001):\n",
    "    s = str(i)\n",
    "    if (int(s[0])%2==0) and (int(s[1])%2==0) and (int(s[2])%2==0) and (int(s[3])%2==0):\n",
    "        values.append(s)\n",
    "\n",
    "print (\",\".join(values))\n"
   ]
  },
  {
   "cell_type": "code",
   "execution_count": 67,
   "id": "159a9c4d",
   "metadata": {},
   "outputs": [
    {
     "name": "stdout",
     "output_type": "stream",
     "text": [
      "6\n",
      "12\n"
     ]
    }
   ],
   "source": [
    "a ='abcdef123425856556'\n",
    "b ={\"Letters\":0,\"Numbers\":0}\n",
    "for c in a:\n",
    "    if c.isdigit():\n",
    "        b[\"Numbers\"]+=1\n",
    "    elif c.isalpha():\n",
    "            b[\"Letters\"]+=1\n",
    "    else:\n",
    "        pass\n",
    "print(b[\"Letters\"])\n",
    "print(b[\"Numbers\"])"
   ]
  },
  {
   "cell_type": "code",
   "execution_count": 71,
   "id": "73f6e490",
   "metadata": {},
   "outputs": [
    {
     "name": "stdout",
     "output_type": "stream",
     "text": [
      "ibrahim@2535\n",
      "Total Letters are given Input: 7\n",
      "Total Numbers are given Input: 4\n"
     ]
    }
   ],
   "source": [
    "\n",
    "a =input()\n",
    "b ={\"Letters\":0,\"Numbers\":0}\n",
    "for c in a:\n",
    "    if c.isdigit():\n",
    "        b[\"Numbers\"]+=1\n",
    "    elif c.isalpha():\n",
    "            b[\"Letters\"]+=1\n",
    "    else:\n",
    "        pass\n",
    "print(\"Total Letters are given Input:\",b[\"Letters\"])\n",
    "print(\"Total Numbers are given Input:\",b[\"Numbers\"])"
   ]
  },
  {
   "cell_type": "code",
   "execution_count": 76,
   "id": "a31aac3c",
   "metadata": {},
   "outputs": [
    {
     "name": "stdout",
     "output_type": "stream",
     "text": [
      "It is Palindrome\n"
     ]
    }
   ],
   "source": [
    "my_str ='aIbohPhoBiA'\n",
    "\n",
    "\n",
    "my_str = my_str.casefold()\n",
    "rvrs_str = reversed(my_str)\n",
    "if list(my_str)==list(rvrs_str):\n",
    "    \n",
    "    print(\"It is Palindrome\")\n",
    "else:\n",
    "    print(\"It is not Palindrome\")"
   ]
  },
  {
   "cell_type": "code",
   "execution_count": 79,
   "id": "d30a5875",
   "metadata": {},
   "outputs": [
    {
     "name": "stdout",
     "output_type": "stream",
     "text": [
      "It is Palindrome\n"
     ]
    }
   ],
   "source": [
    "my_str ='abcdDcBa'\n",
    "\n",
    "\n",
    "my_str = my_str.casefold()\n",
    "rvrs_str = reversed(my_str)\n",
    "if list(my_str)==list(rvrs_str):\n",
    "    \n",
    "    print(\"It is Palindrome\")\n",
    "else:\n",
    "    print(\"It is not Palindrome\")"
   ]
  },
  {
   "cell_type": "code",
   "execution_count": 81,
   "id": "bf502cb6",
   "metadata": {},
   "outputs": [
    {
     "name": "stdout",
     "output_type": "stream",
     "text": [
      "abcddcba\n",
      "It is Palindrome\n"
     ]
    }
   ],
   "source": [
    "my_str =str(input())\n",
    "\n",
    "\n",
    "my_str = my_str.casefold()\n",
    "rvrs_str = reversed(my_str)\n",
    "if list(my_str)==list(rvrs_str):\n",
    "    \n",
    "    print(\"It is Palindrome\")\n",
    "else:\n",
    "    print(\"It is not Palindrome\")"
   ]
  }
 ],
 "metadata": {
  "kernelspec": {
   "display_name": "Python 3 (ipykernel)",
   "language": "python",
   "name": "python3"
  },
  "language_info": {
   "codemirror_mode": {
    "name": "ipython",
    "version": 3
   },
   "file_extension": ".py",
   "mimetype": "text/x-python",
   "name": "python",
   "nbconvert_exporter": "python",
   "pygments_lexer": "ipython3",
   "version": "3.9.12"
  }
 },
 "nbformat": 4,
 "nbformat_minor": 5
}
