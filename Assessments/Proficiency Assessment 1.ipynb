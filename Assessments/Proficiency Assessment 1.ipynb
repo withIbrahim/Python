{
 "cells": [
  {
   "cell_type": "code",
   "execution_count": 1,
   "id": "b40e5f35",
   "metadata": {},
   "outputs": [],
   "source": [
    "import sys"
   ]
  },
  {
   "cell_type": "code",
   "execution_count": 4,
   "id": "632eb28f",
   "metadata": {},
   "outputs": [
    {
     "name": "stdout",
     "output_type": "stream",
     "text": [
      "3.8.8 (default, Apr 13 2021, 15:08:03) [MSC v.1916 64 bit (AMD64)]\n"
     ]
    }
   ],
   "source": [
    "print(sys.version)"
   ]
  },
  {
   "cell_type": "code",
   "execution_count": 5,
   "id": "d278d27a",
   "metadata": {},
   "outputs": [
    {
     "name": "stdout",
     "output_type": "stream",
     "text": [
      "sys.version_info(major=3, minor=8, micro=8, releaselevel='final', serial=0)\n"
     ]
    }
   ],
   "source": [
    "print(sys.version_info)"
   ]
  },
  {
   "cell_type": "code",
   "execution_count": 3,
   "id": "a9eda9cc",
   "metadata": {},
   "outputs": [],
   "source": [
    "import datetime"
   ]
  },
  {
   "cell_type": "code",
   "execution_count": 8,
   "id": "079289b2",
   "metadata": {},
   "outputs": [
    {
     "name": "stdout",
     "output_type": "stream",
     "text": [
      "2022-01-28 00:30:32.027610\n"
     ]
    }
   ],
   "source": [
    "date= datetime.datetime.now()\n",
    "print(date)"
   ]
  },
  {
   "cell_type": "code",
   "execution_count": 22,
   "id": "0d67e4fa",
   "metadata": {},
   "outputs": [
    {
     "name": "stdout",
     "output_type": "stream",
     "text": [
      "2022-01-Fri 00:39:48:\n"
     ]
    }
   ],
   "source": [
    "a = datetime.datetime.now()\n",
    "print(a.strftime('%Y-%m-%A %H:%M:%S:'))"
   ]
  },
  {
   "cell_type": "code",
   "execution_count": 4,
   "id": "398d9c05",
   "metadata": {},
   "outputs": [
    {
     "name": "stdout",
     "output_type": "stream",
     "text": [
      "2022-December-Sunday \n",
      "04:49:43:379971 PM\n"
     ]
    }
   ],
   "source": [
    "a = datetime.datetime.now()\n",
    "print(a.strftime('%Y-%B-%A ''\\n''%I:%M:%S:%f %p'))"
   ]
  },
  {
   "cell_type": "code",
   "execution_count": 38,
   "id": "23430957",
   "metadata": {},
   "outputs": [
    {
     "name": "stdout",
     "output_type": "stream",
     "text": [
      "01/28/22\n",
      "Fri Jan 28 00:47:09 2022\n"
     ]
    }
   ],
   "source": [
    "a = datetime.datetime.now()\n",
    "print(a.strftime('%x' '\\n' '%c'))"
   ]
  },
  {
   "cell_type": "code",
   "execution_count": 5,
   "id": "fca1d194",
   "metadata": {},
   "outputs": [
    {
     "name": "stdout",
     "output_type": "stream",
     "text": [
      "Input the radius of the circle : 2\n",
      "The area of the circle with radius 2.0 is: 12.566370614359172\n"
     ]
    }
   ],
   "source": [
    "from math import pi\n",
    "r = float(input (\"Input the radius of the circle : \"))\n",
    "print((\"The area of the circle with radius \" + str(r) + \" is: \" + str(pi * r**2)))"
   ]
  },
  {
   "cell_type": "code",
   "execution_count": 46,
   "id": "2c7f406e",
   "metadata": {},
   "outputs": [
    {
     "name": "stdout",
     "output_type": "stream",
     "text": [
      "Input the radius of the circle : 1.1\n",
      "The area of the circle with radius 1.1 is: 3.8013271108436504\n"
     ]
    }
   ],
   "source": [
    "r = float(input (\"Input the radius of the circle : \"))\n",
    "print((\"The area of the circle with radius \" +str(r)+\" is: \"+str(pi * r**2)))"
   ]
  },
  {
   "cell_type": "code",
   "execution_count": 57,
   "id": "d718d9b1",
   "metadata": {},
   "outputs": [
    {
     "name": "stdout",
     "output_type": "stream",
     "text": [
      "Enter the fast name : ibrahim\n",
      "Enter the last name : mondal\n",
      "The last name is mondal and fast name is ibrahim\n"
     ]
    }
   ],
   "source": [
    "fname =str(input(\"Enter the fast name : \"))\n",
    "lname = str (input(\"Enter the last name : \"))\n",
    "print(\"The last name is \"+ lname +  \" and fast name is \" +fname)"
   ]
  },
  {
   "cell_type": "code",
   "execution_count": 58,
   "id": "8497270a",
   "metadata": {},
   "outputs": [
    {
     "name": "stdout",
     "output_type": "stream",
     "text": [
      "Enter the fast name : ibrahim\n",
      "Enter the last name : mondal\n",
      "Hello ibrahim mondal\n"
     ]
    }
   ],
   "source": [
    "fname =str(input(\"Enter the fast name : \"))\n",
    "lname = str (input(\"Enter the last name : \"))\n",
    "print(\"Hello\",fname,lname)"
   ]
  },
  {
   "cell_type": "code",
   "execution_count": 59,
   "id": "50c46340",
   "metadata": {},
   "outputs": [
    {
     "name": "stdout",
     "output_type": "stream",
     "text": [
      "Enter the comma separetor number : 10,50,25,30\n",
      "List : ['10', '50', '25', '30']\n",
      "Tuple : ('10', '50', '25', '30')\n"
     ]
    }
   ],
   "source": [
    "value= input('Enter the comma separetor number : ')\n",
    "list1 = value.split(',')\n",
    "tupl1 = tuple (list1)\n",
    "print('List :',list1)\n",
    "print('Tuple :',tupl1)"
   ]
  },
  {
   "cell_type": "code",
   "execution_count": 60,
   "id": "b51333df",
   "metadata": {},
   "outputs": [
    {
     "name": "stdout",
     "output_type": "stream",
     "text": [
      "['Hi', 'My', 'Name', 'is', 'Ibrahim']\n"
     ]
    }
   ],
   "source": [
    " a = \"Hi#My#Name#is#Ibrahim\"\n",
    "b= a.split('#')\n",
    "print(b)"
   ]
  },
  {
   "cell_type": "code",
   "execution_count": 62,
   "id": "6ae21a2a",
   "metadata": {},
   "outputs": [
    {
     "name": "stdout",
     "output_type": "stream",
     "text": [
      "['apple', 'banana', 'cherry', 'orange']\n"
     ]
    }
   ],
   "source": [
    "txt = \"apple#banana#cherry#orange\"\n",
    "\n",
    "x = txt.split(\"#\")\n",
    "print(x)"
   ]
  },
  {
   "cell_type": "code",
   "execution_count": 70,
   "id": "603553b5",
   "metadata": {},
   "outputs": [
    {
     "name": "stdout",
     "output_type": "stream",
     "text": [
      "['my name is ibrahim', ' I am from Kolkata', 'India']\n"
     ]
    }
   ],
   "source": [
    "txt = \"my name is ibrahim, I am from Kolkata,India\"\n",
    "txt1 =txt.split(',')\n",
    "print(txt1)"
   ]
  },
  {
   "cell_type": "code",
   "execution_count": 65,
   "id": "8f605af4",
   "metadata": {},
   "outputs": [
    {
     "name": "stdout",
     "output_type": "stream",
     "text": [
      "['apple', 'banana', 'cherry#orange']\n"
     ]
    }
   ],
   "source": [
    "txt = \"apple#banana#cherry#orange\"\n",
    "\n",
    "x = txt.split(\"#\",2)\n",
    "print(x)\n"
   ]
  },
  {
   "cell_type": "code",
   "execution_count": 74,
   "id": "23a14a0e",
   "metadata": {},
   "outputs": [
    {
     "name": "stdout",
     "output_type": "stream",
     "text": [
      "Input the Filename: abx/s/fjg.cf\n",
      "The extension of the file is : 'cf'\n"
     ]
    }
   ],
   "source": [
    "filename = input(\"Input the Filename: \")\n",
    "f_extns = filename.split(\".\")\n",
    "print (\"The extension of the file is : \" + repr(f_extns[-1]))\n"
   ]
  },
  {
   "cell_type": "code",
   "execution_count": 77,
   "id": "de2cba51",
   "metadata": {},
   "outputs": [
    {
     "name": "stdout",
     "output_type": "stream",
     "text": [
      "2022-01-28 01:26:34.730195\n",
      "2022-01-28 01:26:34.730195\n",
      "datetime.datetime(2022, 1, 28, 1, 26, 34, 730195)\n"
     ]
    }
   ],
   "source": [
    "date = datetime.datetime.now()\n",
    "print(date)\n",
    "print(str(date))\n",
    "print(repr(date))"
   ]
  },
  {
   "cell_type": "code",
   "execution_count": 6,
   "id": "7d2c031f",
   "metadata": {},
   "outputs": [
    {
     "name": "stdout",
     "output_type": "stream",
     "text": [
      "2022-12-25 16:51:25.629408\n",
      "2022-12-25 16:51:25.629408\n",
      "datetime.datetime(2022, 12, 25, 16, 51, 25, 629408)\n"
     ]
    }
   ],
   "source": [
    "import datetime\n",
    "today = datetime.datetime.now()\n",
    "print (today)\n",
    "print (str(today))\n",
    "#prints the official format of date-time object\n",
    "print (repr(today))\n"
   ]
  },
  {
   "cell_type": "code",
   "execution_count": 2,
   "id": "68cb20d4",
   "metadata": {},
   "outputs": [
    {
     "name": "stdout",
     "output_type": "stream",
     "text": [
      "White Yellow\n"
     ]
    }
   ],
   "source": [
    "list1 = ['White','Black','Red','Yellow']\n",
    "print(list1[0],list1[-1])"
   ]
  },
  {
   "cell_type": "code",
   "execution_count": 9,
   "id": "7c344c12",
   "metadata": {},
   "outputs": [
    {
     "name": "stdout",
     "output_type": "stream",
     "text": [
      "Enter the number :5\n",
      "615\n"
     ]
    }
   ],
   "source": [
    "a = input(\"Enter the number :\")\n",
    "a1 =int('%s' % a)\n",
    "a2 =int('%s%s'%(a,a))\n",
    "a3 =int('%s%s%s'%(a,a,a))\n",
    "print(a1+a2+a3)"
   ]
  },
  {
   "cell_type": "code",
   "execution_count": 7,
   "id": "f3dd327b",
   "metadata": {},
   "outputs": [],
   "source": [
    "a = [10,15.5,'Ibrahim','mondal']\n",
    "\n",
    "b = []\n",
    "c = []\n",
    "d = []\n",
    "for i in a:\n",
    "    if (type(i)) == int:\n",
    "        b.append(i)\n",
    "    elif (type(i)) == float:\n",
    "        c.append(i)\n",
    "    else:\n",
    "        d.append(i)\n"
   ]
  },
  {
   "cell_type": "code",
   "execution_count": 8,
   "id": "151100f2",
   "metadata": {
    "scrolled": true
   },
   "outputs": [
    {
     "name": "stdout",
     "output_type": "stream",
     "text": [
      "['Ibrahim', 'mondal'] [15.5]\n"
     ]
    }
   ],
   "source": [
    "print(d,c)\n"
   ]
  },
  {
   "cell_type": "code",
   "execution_count": 19,
   "id": "4c183fe3",
   "metadata": {},
   "outputs": [
    {
     "name": "stdout",
     "output_type": "stream",
     "text": [
      "[15.5]\n"
     ]
    }
   ],
   "source": [
    "print(c)"
   ]
  },
  {
   "cell_type": "code",
   "execution_count": 20,
   "id": "8f33dea4",
   "metadata": {},
   "outputs": [
    {
     "name": "stdout",
     "output_type": "stream",
     "text": [
      "[10]\n"
     ]
    }
   ],
   "source": [
    "print(b)"
   ]
  },
  {
   "cell_type": "code",
   "execution_count": 30,
   "id": "6db98315",
   "metadata": {},
   "outputs": [
    {
     "name": "stdout",
     "output_type": "stream",
     "text": [
      "10,105.50\n"
     ]
    }
   ],
   "source": [
    "b = []\n",
    "c = []\n",
    "d = []\n",
    "\n",
    "a = input()\n",
    "\n",
    "\n",
    "for i in a:\n",
    "    if (type(i)) == int:\n",
    "        b.append(i)\n",
    "    elif (type(i)) == float:\n",
    "        c.append(i)\n",
    "    else:\n",
    "        d.append(i)"
   ]
  },
  {
   "cell_type": "code",
   "execution_count": 32,
   "id": "dc19d369",
   "metadata": {},
   "outputs": [
    {
     "name": "stdout",
     "output_type": "stream",
     "text": [
      "[]\n"
     ]
    }
   ],
   "source": [
    "print(b)"
   ]
  },
  {
   "cell_type": "code",
   "execution_count": 9,
   "id": "e427369f",
   "metadata": {},
   "outputs": [],
   "source": [
    "li = [10,20,30,'Sam', 'Bill',40, ]\n",
    "l2 = []\n",
    "l3 = []\n",
    "for i in li:\n",
    "    if (type(i)) == int :\n",
    "        l2.append (i) \n",
    "    elif (type(i)) == str:\n",
    "        l3.append (i)"
   ]
  },
  {
   "cell_type": "code",
   "execution_count": 10,
   "id": "11ebb7b7",
   "metadata": {},
   "outputs": [
    {
     "data": {
      "text/plain": [
       "[10, 20, 30, 40]"
      ]
     },
     "execution_count": 10,
     "metadata": {},
     "output_type": "execute_result"
    }
   ],
   "source": [
    "l2"
   ]
  },
  {
   "cell_type": "code",
   "execution_count": 16,
   "id": "e8cd59da",
   "metadata": {},
   "outputs": [
    {
     "data": {
      "text/plain": [
       "['Sam', 'Bill']"
      ]
     },
     "execution_count": 16,
     "metadata": {},
     "output_type": "execute_result"
    }
   ],
   "source": [
    "l3"
   ]
  },
  {
   "cell_type": "markdown",
   "id": "918c1f42",
   "metadata": {},
   "source": [
    "FUNCATION"
   ]
  },
  {
   "cell_type": "code",
   "execution_count": 11,
   "id": "29a75770",
   "metadata": {},
   "outputs": [],
   "source": [
    "def salse():\n",
    "    qun = 100\n",
    "    pr = 100\n",
    "    amt= qun *pr\n",
    "    print(amt)"
   ]
  },
  {
   "cell_type": "code",
   "execution_count": 12,
   "id": "34345e26",
   "metadata": {},
   "outputs": [
    {
     "name": "stdout",
     "output_type": "stream",
     "text": [
      "10000\n"
     ]
    }
   ],
   "source": [
    "salse()"
   ]
  },
  {
   "cell_type": "code",
   "execution_count": 13,
   "id": "ef4ee159",
   "metadata": {},
   "outputs": [],
   "source": [
    "def sales():\n",
    "    pr=100\n",
    "    qty =50\n",
    "    amt = pr +qty\n",
    "    print (amt)"
   ]
  },
  {
   "cell_type": "code",
   "execution_count": 14,
   "id": "150b5181",
   "metadata": {},
   "outputs": [
    {
     "name": "stdout",
     "output_type": "stream",
     "text": [
      "150\n"
     ]
    }
   ],
   "source": [
    "sales ()"
   ]
  },
  {
   "cell_type": "code",
   "execution_count": 20,
   "id": "1c1581f9",
   "metadata": {},
   "outputs": [],
   "source": [
    "def sales():\n",
    "    pr=100\n",
    "    qty =50\n",
    "    amt = pr *qty\n",
    "    print (amt)"
   ]
  },
  {
   "cell_type": "code",
   "execution_count": 34,
   "id": "2b11719f",
   "metadata": {},
   "outputs": [
    {
     "name": "stdout",
     "output_type": "stream",
     "text": [
      "10000\n"
     ]
    }
   ],
   "source": [
    "salse()"
   ]
  },
  {
   "cell_type": "code",
   "execution_count": 16,
   "id": "05f95db0",
   "metadata": {},
   "outputs": [],
   "source": [
    "def sales(pr ,qty ):\n",
    "    \n",
    "    amt = pr *qty\n",
    "    print (amt)"
   ]
  },
  {
   "cell_type": "code",
   "execution_count": 17,
   "id": "52f35657",
   "metadata": {},
   "outputs": [
    {
     "name": "stdout",
     "output_type": "stream",
     "text": [
      "2500\n"
     ]
    }
   ],
   "source": [
    "sales(100,25)"
   ]
  },
  {
   "cell_type": "code",
   "execution_count": 61,
   "id": "dffcd465",
   "metadata": {},
   "outputs": [],
   "source": [
    "def sales(pr=10, qty=250):\n",
    "\n",
    "    amt = pr *qty\n",
    "    print (amt)"
   ]
  },
  {
   "cell_type": "code",
   "execution_count": 62,
   "id": "f2918617",
   "metadata": {},
   "outputs": [
    {
     "name": "stdout",
     "output_type": "stream",
     "text": [
      "10000\n"
     ]
    }
   ],
   "source": [
    "salse()"
   ]
  },
  {
   "cell_type": "code",
   "execution_count": 1,
   "id": "d1f83921",
   "metadata": {},
   "outputs": [],
   "source": [
    "def sales(pr, qty):\n",
    "\n",
    "    amt = pr *qty\n",
    "    \n",
    "    return (amt)"
   ]
  },
  {
   "cell_type": "code",
   "execution_count": 19,
   "id": "d811bd11",
   "metadata": {},
   "outputs": [
    {
     "name": "stdout",
     "output_type": "stream",
     "text": [
      "150000\n"
     ]
    }
   ],
   "source": [
    "\n",
    "print(sales(100,1500))\n"
   ]
  },
  {
   "cell_type": "code",
   "execution_count": 72,
   "id": "a8336edb",
   "metadata": {},
   "outputs": [],
   "source": [
    "def sales(pr=10, qty=250):\n",
    "\n",
    "    amt = pr *qty\n",
    "    print (amt)\n",
    "    return (amt)"
   ]
  },
  {
   "cell_type": "code",
   "execution_count": 20,
   "id": "9c9aa08a",
   "metadata": {},
   "outputs": [
    {
     "name": "stdout",
     "output_type": "stream",
     "text": [
      "15000\n"
     ]
    }
   ],
   "source": [
    "total= sales(100,150)\n",
    "print(total)"
   ]
  },
  {
   "cell_type": "code",
   "execution_count": 21,
   "id": "6fc7b8cc",
   "metadata": {},
   "outputs": [
    {
     "name": "stdout",
     "output_type": "stream",
     "text": [
      "40000\n"
     ]
    }
   ],
   "source": [
    "def sales(Prc= 100, Qty =50):\n",
    "    Total_Sales = (Qty*Prc)\n",
    "    return (Total_Sales)\n",
    "\n",
    "x= sales (200,200)\n",
    "print (x)\n"
   ]
  },
  {
   "cell_type": "code",
   "execution_count": 22,
   "id": "4849b0a4",
   "metadata": {},
   "outputs": [
    {
     "name": "stdout",
     "output_type": "stream",
     "text": [
      "(30000, 0.3)\n"
     ]
    }
   ],
   "source": [
    "def sales (revenue,expenses):\n",
    "    \"\"\" This Function is calculate profit and profit ratio \"\"\"\n",
    "    total_profit= (revenue-expenses)\n",
    "    profit_ratio=(total_profit/revenue)\n",
    "    new_financial = (total_profit,profit_ratio)\n",
    "    return (new_financial)\n",
    "\n",
    "print(sales(100000,70000))"
   ]
  },
  {
   "cell_type": "code",
   "execution_count": 23,
   "id": "c37cc45f",
   "metadata": {},
   "outputs": [
    {
     "name": "stdout",
     "output_type": "stream",
     "text": [
      "Profit is : 90\n",
      "Ratio is : 0.9\n"
     ]
    }
   ],
   "source": [
    "def financials (revenue,expenses):\n",
    "    \"\"\" This function is used to calculate profit and profit ratio\"\"\"\n",
    "    profit = revenue -expenses\n",
    "    profit_ratio = profit/revenue \n",
    "    new_financials = (profit ,profit_ratio)\n",
    "    return (new_financials)\n",
    "\n",
    "total= financials(100,10)\n",
    "print('Profit is :',total[0])\n",
    "print('Ratio is :',total[1])"
   ]
  },
  {
   "cell_type": "code",
   "execution_count": 116,
   "id": "3622c926",
   "metadata": {},
   "outputs": [
    {
     "name": "stdout",
     "output_type": "stream",
     "text": [
      "100.4\n"
     ]
    }
   ],
   "source": [
    "def convertto (deg):\n",
    "    F= (deg*9/5)+32\n",
    "    return (F)\n",
    "\n",
    "temp = 38\n",
    "temp= convertto (temp)\n",
    "print (temp)\n"
   ]
  },
  {
   "cell_type": "code",
   "execution_count": null,
   "id": "fc3ce20d",
   "metadata": {},
   "outputs": [],
   "source": []
  }
 ],
 "metadata": {
  "kernelspec": {
   "display_name": "Python 3 (ipykernel)",
   "language": "python",
   "name": "python3"
  },
  "language_info": {
   "codemirror_mode": {
    "name": "ipython",
    "version": 3
   },
   "file_extension": ".py",
   "mimetype": "text/x-python",
   "name": "python",
   "nbconvert_exporter": "python",
   "pygments_lexer": "ipython3",
   "version": "3.9.12"
  }
 },
 "nbformat": 4,
 "nbformat_minor": 5
}
